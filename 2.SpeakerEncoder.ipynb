{
 "cells": [
  {
   "cell_type": "markdown",
   "id": "c9e4f0d6-1048-4933-a0b4-2212fb535b51",
   "metadata": {},
   "source": [
    "# Speaker Encoder (GE2E)"
   ]
  },
  {
   "cell_type": "code",
   "execution_count": 1,
   "id": "925ce4ab-a9b8-4ea2-a3be-8027e4cdaaf1",
   "metadata": {},
   "outputs": [
    {
     "name": "stdout",
     "output_type": "stream",
     "text": [
      "PyTorch version: 2.7.1+cu128\n",
      "CUDA available: True\n",
      "Device name: NVIDIA GeForce RTX 5070\n",
      "CUDA version: 12.8\n"
     ]
    }
   ],
   "source": [
    "import torch\n",
    "\n",
    "print(\"PyTorch version:\", torch.__version__)\n",
    "print(\"CUDA available:\", torch.cuda.is_available())\n",
    "print(\"Device name:\", torch.cuda.get_device_name(0))\n",
    "print(\"CUDA version:\", torch.version.cuda)"
   ]
  },
  {
   "cell_type": "code",
   "execution_count": 2,
   "id": "6002f625-bb87-49bb-aae5-0807fd1ecc18",
   "metadata": {},
   "outputs": [
    {
     "name": "stdout",
     "output_type": "stream",
     "text": [
      "2.7.1+cu128\n",
      "12.8\n",
      "NVIDIA GeForce RTX 5070\n"
     ]
    }
   ],
   "source": [
    "import torch\n",
    "print(torch.__version__) \n",
    "print(torch.version.cuda)\n",
    "print(torch.cuda.get_device_name(0))\n"
   ]
  },
  {
   "cell_type": "code",
   "execution_count": 1,
   "id": "8888b1ad-e0de-47ff-bdc4-0c788b444d74",
   "metadata": {},
   "outputs": [],
   "source": [
    "import os\n",
    "import math\n",
    "import random\n",
    "from pathlib import Path\n",
    "from typing import List, Dict, Tuple\n",
    "\n",
    "import numpy as np\n",
    "import pandas as pd\n",
    "import torch\n",
    "import torch.nn as nn\n",
    "import torch.nn.functional as F\n",
    "from torch.utils.data import Dataset, DataLoader"
   ]
  },
  {
   "cell_type": "code",
   "execution_count": 2,
   "id": "e04f5007-e091-4941-8a1b-d147086cb920",
   "metadata": {},
   "outputs": [
    {
     "data": {
      "text/plain": [
       "device(type='cuda')"
      ]
     },
     "execution_count": 2,
     "metadata": {},
     "output_type": "execute_result"
    }
   ],
   "source": [
    "# Reproducibility\n",
    "SEED = 42\n",
    "random.seed(SEED)\n",
    "np.random.seed(SEED)\n",
    "torch.manual_seed(SEED)\n",
    "torch.backends.cudnn.deterministic = True\n",
    "torch.backends.cudnn.benchmark = False\n",
    "\n",
    "DEVICE = torch.device(\"cuda\" if torch.cuda.is_available() else \"cpu\")\n",
    "DEVICE"
   ]
  },
  {
   "cell_type": "code",
   "execution_count": 3,
   "id": "b29d2bd3-19b1-4db2-a254-3a334ec51585",
   "metadata": {},
   "outputs": [
    {
     "name": "stdout",
     "output_type": "stream",
     "text": [
      "Using device: cuda\n",
      "Processed dir : C:\\Users\\ADMIN\\Downloads\\SSP\\VoiceProject\\processed\n",
      "Mels (norm)  : C:\\Users\\ADMIN\\Downloads\\SSP\\VoiceProject\\processed\\normalized\n"
     ]
    }
   ],
   "source": [
    "PROCESSED_DIR = Path(\"C:/Users/ADMIN/Downloads/SSP/VoiceProject/processed\")  # <-- change to your absolute path if you prefer\n",
    "MEL_NORM_DIR = PROCESSED_DIR / \"normalized\"\n",
    "FEATURE_DIR = PROCESSED_DIR / \"features\"   # fallback if normalized not found\n",
    "\n",
    "TRAIN_META = PROCESSED_DIR / \"train_metadata.csv\"\n",
    "TEST_META  = PROCESSED_DIR / \"test_metadata.csv\"\n",
    "\n",
    "assert TRAIN_META.exists(), f\"Missing file: {TRAIN_META}\"\n",
    "assert MEL_NORM_DIR.exists() or FEATURE_DIR.exists(), \"No features folder found.\"\n",
    "\n",
    "print(\"Using device:\", DEVICE)\n",
    "print(\"Processed dir :\", PROCESSED_DIR.resolve())\n",
    "print(\"Mels (norm)  :\", MEL_NORM_DIR.resolve())"
   ]
  },
  {
   "cell_type": "markdown",
   "id": "dfcab87f-1b8c-42e6-98a0-ef9160dc6a13",
   "metadata": {},
   "source": [
    "## Load Metadata & Build Speaker→Utterances map"
   ]
  },
  {
   "cell_type": "code",
   "execution_count": 4,
   "id": "50d2952d-583a-49f6-8167-762298448bb3",
   "metadata": {},
   "outputs": [
    {
     "name": "stdout",
     "output_type": "stream",
     "text": [
      "Speakers in train: 222\n",
      "Total utterances  : 29102\n",
      "Missing mel files : 0\n"
     ]
    },
    {
     "data": {
      "text/plain": [
       "{'103': 66, '1034': 30, '1040': 134, '1069': 112, '1081': 8}"
      ]
     },
     "execution_count": 4,
     "metadata": {},
     "output_type": "execute_result"
    }
   ],
   "source": [
    "train_df = pd.read_csv(TRAIN_META)\n",
    "\n",
    "# from preProcessing notebook\n",
    "required_cols = {\"utt_id\", \"speaker\"}\n",
    "missing = required_cols - set(train_df.columns)\n",
    "assert not missing, f\"Missing columns in train_metadata.csv: {missing}\"\n",
    "\n",
    "# Build mapping: speaker -> list of mel paths\n",
    "def find_mel_path(utt_id: str) -> Path:\n",
    "    # normalized first\n",
    "    p = MEL_NORM_DIR / f\"{utt_id}_mel.npy\"\n",
    "    if p.exists():\n",
    "        return p\n",
    "    # fallback to unnormalized features\n",
    "    p2 = FEATURE_DIR / f\"{utt_id}_mel.npy\"\n",
    "    if p2.exists():\n",
    "        return p2\n",
    "    return None\n",
    "\n",
    "spk2utts: Dict[str, List[Path]] = {}\n",
    "skipped = 0\n",
    "for _, r in train_df.iterrows():\n",
    "    utt_id = str(r[\"utt_id\"])\n",
    "    spk = str(r[\"speaker\"])\n",
    "    melp = find_mel_path(utt_id)\n",
    "    if melp is None:\n",
    "        skipped += 1\n",
    "        continue\n",
    "    spk2utts.setdefault(spk, []).append(melp)\n",
    "\n",
    "num_spk = len(spk2utts)\n",
    "num_utts = sum(len(v) for v in spk2utts.values())\n",
    "\n",
    "print(f\"Speakers in train: {num_spk}\")\n",
    "print(f\"Total utterances  : {num_utts}\")\n",
    "print(f\"Missing mel files : {skipped}\")\n",
    "# Also show a few counts\n",
    "{spk: len(v) for spk, v in list(spk2utts.items())[:5]}\n"
   ]
  },
  {
   "cell_type": "markdown",
   "id": "37065360-8f0d-4610-afd4-a4703383009f",
   "metadata": {},
   "source": [
    "## Hyperparameters"
   ]
  },
  {
   "cell_type": "code",
   "execution_count": 5,
   "id": "b575d405-4917-4b2b-a4eb-6b1ede2fb6b5",
   "metadata": {},
   "outputs": [
    {
     "name": "stdout",
     "output_type": "stream",
     "text": [
      "Hyperparams set. Using AMP: True\n"
     ]
    }
   ],
   "source": [
    "N_SPK = 32          # speakers per batch \n",
    "M_UTT = 8           # utterances per speaker\n",
    "SEGMENT_FRAMES = 160  # frames per segment \n",
    "MEL_DIM = 80\n",
    "EMBED_DIM = 256\n",
    "\n",
    "LR = 1e-3\n",
    "EPOCHS = 6\n",
    "STEPS_PER_EPOCH = 800\n",
    "GRAD_CLIP = 3.0\n",
    "\n",
    "BATCH_NUM_WORKERS = 4   # DataLoader workers\n",
    "PIN_MEMORY = True\n",
    "\n",
    "USE_AMP = True  # mixed precision\n",
    "\n",
    "CHECKPOINT_DIR = Path(\"checkpoints/encoder\")\n",
    "CHECKPOINT_DIR.mkdir(parents=True, exist_ok=True)\n",
    "\n",
    "print(\"Hyperparams set. Using AMP:\", USE_AMP)\n"
   ]
  },
  {
   "cell_type": "markdown",
   "id": "b2850f48-aaaf-4a0e-af7b-2cda27e051b0",
   "metadata": {},
   "source": [
    "## Utilities: load mel, crop/pad"
   ]
  },
  {
   "cell_type": "code",
   "execution_count": 6,
   "id": "60376173-730c-4267-b3db-2e3f2acfa294",
   "metadata": {},
   "outputs": [],
   "source": [
    "def load_mel(mel_path: Path) -> np.ndarray:\n",
    "    mel = np.load(mel_path)\n",
    "    if mel.ndim != 2 or mel.shape[1] != MEL_DIM:\n",
    "        raise ValueError(f\"Unexpected mel shape {mel.shape} for {mel_path}\")\n",
    "    return mel.astype(np.float32)\n",
    "\n",
    "def crop_or_pad(mel: np.ndarray, segment_frames: int) -> np.ndarray:\n",
    "    T = mel.shape[0]\n",
    "    if T == segment_frames:\n",
    "        return mel\n",
    "    if T > segment_frames:\n",
    "        start = np.random.randint(0, T - segment_frames + 1)\n",
    "        return mel[start:start+segment_frames]\n",
    "    # pad\n",
    "    pad = np.zeros((segment_frames - T, mel.shape[1]), dtype=mel.dtype)\n",
    "    return np.concatenate([mel, pad], axis=0)\n"
   ]
  },
  {
   "cell_type": "code",
   "execution_count": 7,
   "id": "8fd7df32-e089-464b-8858-401f352ad06d",
   "metadata": {},
   "outputs": [],
   "source": [
    "# Build mapping from speaker → utterance paths\n",
    "MEL_DIR = Path(\"C:/Users/ADMIN/Downloads/SSP/VoiceProject/processed/features\")\n",
    "\n",
    "spk2utts = {}\n",
    "for mel_file in MEL_DIR.glob(\"*.npy\"):\n",
    "    # assume filenames like spk1_utt1.npy\n",
    "    spk = mel_file.stem.split(\"_\")[0]\n",
    "    spk2utts.setdefault(spk, []).append(mel_file)\n"
   ]
  },
  {
   "cell_type": "code",
   "execution_count": 8,
   "id": "b4a65e9d-c260-4781-9b56-ac229ae43e68",
   "metadata": {},
   "outputs": [
    {
     "name": "stdout",
     "output_type": "stream",
     "text": [
      "Total speakers: 248\n",
      "Utterances per speaker: min = 2 max = 1374 avg = 402.05645161290323\n"
     ]
    }
   ],
   "source": []
  },
  {
   "cell_type": "code",
   "execution_count": 9,
   "id": "c21c83b1-b28f-4e03-b8d0-774711194368",
   "metadata": {},
   "outputs": [
    {
     "name": "stdout",
     "output_type": "stream",
     "text": [
      "Example speaker: 1034\n",
      "Utterances: [WindowsPath('C:/Users/ADMIN/Downloads/SSP/VoiceProject/processed/features/1034_121119_000001_000001_energy.npy'), WindowsPath('C:/Users/ADMIN/Downloads/SSP/VoiceProject/processed/features/1034_121119_000001_000001_mel.npy'), WindowsPath('C:/Users/ADMIN/Downloads/SSP/VoiceProject/processed/features/1034_121119_000001_000001_pitch.npy'), WindowsPath('C:/Users/ADMIN/Downloads/SSP/VoiceProject/processed/features/1034_121119_000002_000001_energy.npy'), WindowsPath('C:/Users/ADMIN/Downloads/SSP/VoiceProject/processed/features/1034_121119_000002_000001_mel.npy')]\n"
     ]
    }
   ],
   "source": [
    "# Inspect one entry\n",
    "first_spk = next(iter(spk2utts))\n",
    "print(\"Example speaker:\", first_spk)\n",
    "print(\"Utterances:\", spk2utts[first_spk][:5])\n"
   ]
  },
  {
   "cell_type": "markdown",
   "id": "1f77c81c-af1a-4ad3-8b58-a44816b79b0b",
   "metadata": {},
   "source": [
    "## Sampler & Dataset"
   ]
  },
  {
   "cell_type": "code",
   "execution_count": 10,
   "id": "fa36270c-5c92-46eb-80e8-285f07864309",
   "metadata": {},
   "outputs": [],
   "source": [
    "import random\n",
    "\n",
    "class GE2ESampler:\n",
    "    def __init__(self, spk2utts, N, M):\n",
    "        \"\"\"\n",
    "        spk2utts: dict {speaker_id: [list of mel.npy paths]}\n",
    "        N: number of speakers per batch\n",
    "        M: number of utterances per speaker\n",
    "        \"\"\"\n",
    "        # Filter speakers with at least M valid utterances\n",
    "        self.spk2utts = {\n",
    "            spk: [u for u in utts if str(u).endswith(\"_mel.npy\")]\n",
    "            for spk, utts in spk2utts.items()\n",
    "            if len([u for u in utts if str(u).endswith(\"_mel.npy\")]) >= M\n",
    "        }\n",
    "        self.speakers = list(self.spk2utts.keys())\n",
    "        self.N = N\n",
    "        self.M = M\n",
    "\n",
    "        if len(self.speakers) < N:\n",
    "            raise ValueError(f\"Not enough speakers with >= {M} utterances. \"\n",
    "                             f\"Available: {len(self.speakers)}, required: {N}\")\n",
    "\n",
    "        print(f\"[GE2ESampler] Initialized with {len(self.speakers)} speakers\")\n",
    "\n",
    "    def sample_batch(self):\n",
    "        \"\"\"Returns [(spk, [utt1,...,uttM]), ...]\"\"\"\n",
    "        speakers = random.sample(self.speakers, self.N)  # pick N speakers\n",
    "        batch = []\n",
    "\n",
    "        for spk in speakers:\n",
    "            available_utts = self.spk2utts[spk]\n",
    "            #print(f\"[GE2ESampler] Sampling for speaker: {spk}, \"\n",
    "                  #f\"available: {len(available_utts)}, requested: {self.M}\")\n",
    "            utts = random.sample(available_utts, self.M)  # pick M utterances\n",
    "            batch.append((spk, utts))\n",
    "\n",
    "        return batch\n"
   ]
  },
  {
   "cell_type": "code",
   "execution_count": 11,
   "id": "82269fa7-1d1f-4146-b2f8-5d4e348f18c8",
   "metadata": {},
   "outputs": [],
   "source": [
    "class GE2EDataset(Dataset):\n",
    "    def __init__(self, sampler, segment_frames):\n",
    "        self.sampler = sampler\n",
    "        self.segment_frames = segment_frames\n",
    "\n",
    "    def __getitem__(self, idx):\n",
    "        batch = self.sampler.sample_batch()  # [(spk, [utt1, utt2,...]), ...]\n",
    "        specs = []\n",
    "        for spk, utts in batch:\n",
    "            spk_specs = []\n",
    "            for feat_path in utts:\n",
    "                # load mel feature\n",
    "                spec = np.load(feat_path)  # [T, F]\n",
    "\n",
    "                # cut or pad to fixed length\n",
    "                T = spec.shape[0]\n",
    "                if T >= self.segment_frames:\n",
    "                    start = np.random.randint(0, T - self.segment_frames + 1)\n",
    "                    seg = spec[start:start + self.segment_frames]\n",
    "                else:\n",
    "                    seg = np.pad(spec, ((0, self.segment_frames - T), (0, 0)))\n",
    "                spk_specs.append(seg)\n",
    "\n",
    "            specs.append(spk_specs)\n",
    "\n",
    "        return torch.tensor(np.array(specs), dtype=torch.float32) # [N, M, T, F]\n",
    "\n",
    "    def __len__(self):\n",
    "        return 10**9  # virtually infinite"
   ]
  },
  {
   "cell_type": "code",
   "execution_count": 11,
   "id": "f580013c-4e2e-41ea-8c2a-6d785c5221f7",
   "metadata": {},
   "outputs": [],
   "source": [
    "class GE2EDataset(Dataset):\n",
    "    def __init__(self, sampler, segment_frames, num_batches=1000):\n",
    "        self.sampler = sampler\n",
    "        self.segment_frames = segment_frames\n",
    "        self.num_batches = num_batches  # Finite number of batches\n",
    "\n",
    "    def __getitem__(self, idx):\n",
    "        batch = self.sampler.sample_batch()\n",
    "        specs = []\n",
    "        for spk, utts in batch:\n",
    "            spk_specs = []\n",
    "            for feat_path in utts:\n",
    "                spec = np.load(feat_path)\n",
    "                T = spec.shape[0]\n",
    "                if T >= self.segment_frames:\n",
    "                    start = np.random.randint(0, T - self.segment_frames + 1)\n",
    "                    seg = spec[start:start + self.segment_frames]\n",
    "                else:\n",
    "                    seg = np.pad(spec, ((0, self.segment_frames - T), (0, 0)))\n",
    "                spk_specs.append(seg)\n",
    "            specs.append(spk_specs)\n",
    "        return torch.tensor(np.array(specs), dtype=torch.float32)\n",
    "\n",
    "    def __len__(self):\n",
    "        return self.num_batches  # Finite length"
   ]
  },
  {
   "cell_type": "markdown",
   "id": "d553c905-c281-4d40-a9dd-f40a09c78ec2",
   "metadata": {},
   "source": [
    "## Create dataloader"
   ]
  },
  {
   "cell_type": "code",
   "execution_count": 12,
   "id": "ca03c97a-6087-4874-930a-242cdc623240",
   "metadata": {},
   "outputs": [
    {
     "name": "stdout",
     "output_type": "stream",
     "text": [
      "[GE2ESampler] Initialized with 242 speakers\n",
      "raw loader batch shape: (1, 4, 5, 160, 80)\n"
     ]
    }
   ],
   "source": [
    "\n",
    "N_SPK = 4        # number of speakers per batch\n",
    "M_UTT = 5        # number of utterances per speaker\n",
    "SEGMENT_FRAMES = 160   # frames per segment\n",
    "PIN_MEMORY = True\n",
    "\n",
    "sampler = GE2ESampler(spk2utts, N_SPK, M_UTT)\n",
    "dataset = GE2EDataset(sampler, SEGMENT_FRAMES)\n",
    "\n",
    "loader = DataLoader(dataset, batch_size=1, shuffle=False,\n",
    "                    num_workers=0, pin_memory=PIN_MEMORY)\n",
    "\n",
    "# Sanity check\n",
    "batch = next(iter(loader))  # [1, N, M, T, F]\n",
    "print(\"raw loader batch shape:\", tuple(batch.shape))"
   ]
  },
  {
   "cell_type": "markdown",
   "id": "981e331e-9a54-4abc-8309-4f6b7cb97ce5",
   "metadata": {},
   "source": [
    "## SpeakerEncoder model"
   ]
  },
  {
   "cell_type": "markdown",
   "id": "e9f16f17-25a4-44e0-9199-ceca427b1df2",
   "metadata": {},
   "source": [
    "#### conv blocks + GRU + projection"
   ]
  },
  {
   "cell_type": "code",
   "execution_count": 13,
   "id": "af861128-87b4-46d7-a5ce-8a073bf330e1",
   "metadata": {},
   "outputs": [],
   "source": [
    "\n",
    "class SpeakerEncoder(nn.Module):\n",
    "    def __init__(self, mel_dim=80, embed_dim=256):\n",
    "        super().__init__()\n",
    "        # conv stack\n",
    "        self.conv = nn.Sequential(\n",
    "            nn.Conv2d(1, 64, kernel_size=(5,5), padding=(2,2)),\n",
    "            nn.BatchNorm2d(64),\n",
    "            nn.ReLU(),\n",
    "            nn.Conv2d(64, 128, kernel_size=(5,5), padding=(2,2)),\n",
    "            nn.BatchNorm2d(128),\n",
    "            nn.ReLU(),\n",
    "            nn.Conv2d(128, 256, kernel_size=(3,3), padding=(1,1)),\n",
    "            nn.BatchNorm2d(256),\n",
    "            nn.ReLU(),\n",
    "        )\n",
    "        # GRU\n",
    "        # after conv: [B, C, T, F] -> we'll permute to [B, T, C*F]\n",
    "        self.gru = nn.GRU(input_size=256 * mel_dim, hidden_size=768, batch_first=True)\n",
    "        self.proj = nn.Sequential(\n",
    "            nn.Linear(768, 512),\n",
    "            nn.ReLU(),\n",
    "            nn.Linear(512, embed_dim)\n",
    "        )\n",
    "\n",
    "    def forward(self, x):\n",
    "        # x: [B, T, F] or [B, 1, T, F]\n",
    "        if x.dim() == 3:\n",
    "            x = x.unsqueeze(1)\n",
    "        h = self.conv(x)                       # [B, C, T, F]\n",
    "        B, C, T, Fm = h.shape\n",
    "        h = h.permute(0, 2, 1, 3).contiguous().view(B, T, C * Fm)  # [B, T, C*F]\n",
    "        _, hn = self.gru(h)                    # hn: [1, B, hid]\n",
    "        hn = hn.squeeze(0)                     # [B, hid]\n",
    "        e = self.proj(hn)                      # [B, embed_dim]\n",
    "        e = F.normalize(e, p=2, dim=1)         # L2 norm\n",
    "        return e\n"
   ]
  },
  {
   "cell_type": "markdown",
   "id": "95d099e6-676b-42fa-a30e-5a634b6bc0d1",
   "metadata": {},
   "source": [
    "## Vectorized GE2E loss (efficient)"
   ]
  },
  {
   "cell_type": "code",
   "execution_count": 14,
   "id": "da0610e9-42f5-4953-acfa-9e7096702b7a",
   "metadata": {},
   "outputs": [],
   "source": [
    "class GE2ELoss(nn.Module):\n",
    "    def __init__(self, init_w=10.0, init_b=-5.0):\n",
    "        super().__init__()\n",
    "        self.w = nn.Parameter(torch.tensor(init_w, dtype=torch.float32))\n",
    "        self.b = nn.Parameter(torch.tensor(init_b, dtype=torch.float32))\n",
    "\n",
    "    def forward(self, embeddings: torch.Tensor):\n",
    "        \"\"\"\n",
    "        embeddings: [N, M, D]\n",
    "        returns scalar loss\n",
    "        \"\"\"\n",
    "        N, M, D = embeddings.shape\n",
    "        device = embeddings.device\n",
    "\n",
    "        # centroids (per speaker)\n",
    "        centroids = embeddings.mean(dim=1)          # [N, D]\n",
    "\n",
    "        # exclusion centroids: (sum - emb) / (M-1)\n",
    "        sum_spk = embeddings.sum(dim=1, keepdim=True)    # [N,1,D]\n",
    "        excl = (sum_spk - embeddings) / (M - 1)          # [N,M,D]\n",
    "\n",
    "        # Flattened representations\n",
    "        E = embeddings.view(N*M, D)              # [NM, D]\n",
    "        E_norm = F.normalize(E, dim=1)           # [NM, D]\n",
    "        cent_norm = F.normalize(centroids, dim=1) # [N, D]\n",
    "        excl_flat = excl.view(N*M, D)\n",
    "        excl_norm = F.normalize(excl_flat, dim=1) # [NM, D]\n",
    "\n",
    "        # similarity matrix between each utterance and all centroids\n",
    "        S = torch.matmul(E_norm, cent_norm.t())   # [NM, N]\n",
    "\n",
    "        # compute own-speaker similarity using exclusion centroids\n",
    "        targets = torch.arange(N, device=device).unsqueeze(1).repeat(1, M).view(-1)  # [NM]\n",
    "        rows = torch.arange(N*M, device=device)\n",
    "        own_sims = torch.sum(E_norm * excl_norm, dim=1)  # [NM]\n",
    "        own_sims = own_sims.to(S.dtype) \n",
    "        S[rows, targets] = own_sims\n",
    "\n",
    "        # scale & bias\n",
    "        S = self.w * S + self.b\n",
    "\n",
    "        loss = F.cross_entropy(S, targets)\n",
    "        return loss\n"
   ]
  },
  {
   "cell_type": "code",
   "execution_count": 15,
   "id": "001d1cff-ac70-4818-a791-c237d09748de",
   "metadata": {},
   "outputs": [
    {
     "name": "stdout",
     "output_type": "stream",
     "text": [
      "Encoder params (M): 49.987712\n"
     ]
    }
   ],
   "source": [
    "from torch.cuda.amp import GradScaler\n",
    "from torch import amp\n",
    "\n",
    "encoder = SpeakerEncoder(mel_dim=MEL_DIM, embed_dim=EMBED_DIM).to(DEVICE)\n",
    "criterion = GE2ELoss().to(DEVICE)\n",
    "optimizer = torch.optim.Adam(list(encoder.parameters()) + list(criterion.parameters()), lr=LR)\n",
    "scaler = amp.GradScaler(enabled=USE_AMP)\n",
    "\n",
    "print(\"Encoder params (M):\", sum(p.numel() for p in encoder.parameters()) / 1e6)"
   ]
  },
  {
   "cell_type": "code",
   "execution_count": 16,
   "id": "f439a661-7e25-4ef3-a95b-8cba507d30ba",
   "metadata": {},
   "outputs": [],
   "source": [
    "def ge2e_train_step(batch_tensor: torch.Tensor):\n",
    "    \"\"\"\n",
    "    batch_tensor: [1, N, M, T, F]\n",
    "    returns loss (float)\n",
    "    \"\"\"\n",
    "    encoder.train()\n",
    "    criterion.train()\n",
    "    optimizer.zero_grad()\n",
    "\n",
    "    x = batch_tensor.squeeze(0).to(DEVICE)   # [N, M, T, F]\n",
    "    N, M, T, F = x.shape\n",
    "    x = x.view(N * M, T, F)                  # [NM, T, F]\n",
    "\n",
    "    with torch.amp.autocast(\"cuda\", enabled=USE_AMP):\n",
    "        emb = encoder(x)                     # [NM, D]\n",
    "        emb = emb.view(N, M, -1)             # [N, M, D]\n",
    "        loss = criterion(emb)\n",
    "\n",
    "    scaler.scale(loss).backward()\n",
    "    # gradient clipping/unscale\n",
    "    scaler.unscale_(optimizer)\n",
    "    torch.nn.utils.clip_grad_norm_(encoder.parameters(), GRAD_CLIP)\n",
    "    torch.nn.utils.clip_grad_norm_(criterion.parameters(), GRAD_CLIP)\n",
    "    scaler.step(optimizer)\n",
    "    scaler.update()\n",
    "\n",
    "    return float(loss.detach().cpu().item())\n"
   ]
  },
  {
   "cell_type": "code",
   "execution_count": 19,
   "id": "28294d17-f9cd-4526-809b-0f7438d2e137",
   "metadata": {},
   "outputs": [
    {
     "name": "stdout",
     "output_type": "stream",
     "text": [
      "Collecting tqdm\n",
      "  Downloading tqdm-4.67.1-py3-none-any.whl.metadata (57 kB)\n",
      "Requirement already satisfied: colorama in c:\\users\\admin\\anaconda3\\envs\\torch-gpu\\lib\\site-packages (from tqdm) (0.4.6)\n",
      "Downloading tqdm-4.67.1-py3-none-any.whl (78 kB)\n",
      "Installing collected packages: tqdm\n",
      "Successfully installed tqdm-4.67.1\n"
     ]
    }
   ],
   "source": [
    "!pip install tqdm"
   ]
  },
  {
   "cell_type": "markdown",
   "id": "dff961d9-fe1e-4bc9-bc5d-73008676be35",
   "metadata": {
    "jp-MarkdownHeadingCollapsed": true
   },
   "source": [
    "##### train LOOP"
   ]
  },
  {
   "cell_type": "code",
   "execution_count": 19,
   "id": "a5088ca6-0811-46c1-9746-99714db3eeee",
   "metadata": {},
   "outputs": [],
   "source": [
    "def train_loop(loader, epochs, steps_per_epoch):\n",
    "    global_step = 0\n",
    "    for ep in range(1, epochs + 1):\n",
    "        t0 = perf_counter()\n",
    "        losses = []\n",
    "        it = iter(loader)\n",
    "        for step in range(1, steps_per_epoch + 1):\n",
    "            batch = next(it)  # [1, N, M, T, F]\n",
    "            loss = ge2e_train_step(batch)\n",
    "            losses.append(loss)\n",
    "            global_step += 1\n",
    "\n",
    "            #if step % 50 == 0:\n",
    "               # print(f\"Epoch {ep}/{epochs} Step {step}/{steps_per_epoch} AvgLoss {np.mean(losses[-50:]):.4f}\")\n",
    "\n",
    "        dt = perf_counter() - t0\n",
    "        print(f\"Epoch {ep} finished in {dt:.1f}s | AvgLoss {np.mean(losses):.4f}\")\n",
    "\n",
    "        ckpt = {\n",
    "            \"epoch\": ep,\n",
    "            \"encoder_state\": encoder.state_dict(),\n",
    "            \"criterion_state\": criterion.state_dict(),\n",
    "            \"optimizer_state\": optimizer.state_dict(),\n",
    "            \"scaler_state\": scaler.state_dict(),\n",
    "            \"config\": {\"N_SPK\": N_SPK, \"M_UTT\": M_UTT, \"SEGMENT_FRAMES\": SEGMENT_FRAMES}\n",
    "        }\n",
    "        ckpt_path = CHECKPOINT_DIR / f\"encoder_ep{ep:03d}.pt\"\n",
    "        torch.save(ckpt, ckpt_path)\n",
    "        print(\"Saved checkpoint:\", ckpt_path.resolve())"
   ]
  },
  {
   "cell_type": "code",
   "execution_count": 20,
   "id": "96d0e688-c2a0-44fd-b1cc-d0dc35595ddb",
   "metadata": {},
   "outputs": [],
   "source": [
    "from tqdm import trange\n",
    "from time import perf_counter\n",
    "\n",
    "def train_loop(loader, epochs, steps_per_epoch):\n",
    "    global_step = 0\n",
    "    for ep in range(1, epochs + 1):\n",
    "        t0 = perf_counter()\n",
    "        losses = []\n",
    "        it = iter(loader)\n",
    "\n",
    "        # tqdm progress bar for the current epoch\n",
    "        for step in trange(1, steps_per_epoch + 1, desc=f\"Epoch {ep}/{epochs}\", ncols=100):\n",
    "            batch = next(it)  # [1, N, M, T, F]\n",
    "            loss = ge2e_train_step(batch)\n",
    "            losses.append(loss)\n",
    "            global_step += 1\n",
    "\n",
    "        dt = perf_counter() - t0\n",
    "        print(f\"\\n[Epoch {ep}/{epochs}] Time: {dt:.1f}s | AvgLoss: {np.mean(losses):.4f}\")\n",
    "\n",
    "        # Save checkpoint\n",
    "        ckpt = {\n",
    "            \"epoch\": ep,\n",
    "            \"encoder_state\": encoder.state_dict(),\n",
    "            \"criterion_state\": criterion.state_dict(),\n",
    "            \"optimizer_state\": optimizer.state_dict(),\n",
    "            \"scaler_state\": scaler.state_dict(),\n",
    "            \"config\": {\"N_SPK\": N_SPK, \"M_UTT\": M_UTT, \"SEGMENT_FRAMES\": SEGMENT_FRAMES}\n",
    "        }\n",
    "        ckpt_path = CHECKPOINT_DIR / f\"encoder_ep{ep:03d}.pt\"\n",
    "        torch.save(ckpt, ckpt_path)\n",
    "        print(\"Saved checkpoint:\", ckpt_path.resolve())\n"
   ]
  },
  {
   "cell_type": "markdown",
   "id": "3758c001-61ea-46af-b174-f6bce4e1bbfe",
   "metadata": {},
   "source": [
    "##### Early Stopping"
   ]
  },
  {
   "cell_type": "code",
   "execution_count": 17,
   "id": "96886035-dda2-4382-98ca-17c91e6492a3",
   "metadata": {},
   "outputs": [],
   "source": [
    "def ge2e_validation_loss(model, val_loader):\n",
    "    model.eval()\n",
    "    losses = []\n",
    "\n",
    "    with torch.no_grad():\n",
    "        for batch in val_loader:\n",
    "            x = batch.squeeze(0).to(DEVICE)  # [N, M, T, F]\n",
    "            N, M, T, F = x.shape\n",
    "            x = x.view(N * M, T, F)\n",
    "\n",
    "            with torch.amp.autocast(\"cuda\", enabled=USE_AMP):\n",
    "                emb = model(x)\n",
    "                emb = emb.view(N, M, -1)\n",
    "                loss = criterion(emb)\n",
    "\n",
    "            losses.append(loss.item())\n",
    "\n",
    "    model.train()\n",
    "    return np.mean(losses)\n"
   ]
  },
  {
   "cell_type": "code",
   "execution_count": 26,
   "id": "3aa638f3-e583-4bdb-a065-1765284d9ed2",
   "metadata": {},
   "outputs": [],
   "source": [
    "def train_loop(loader, val_loader, epochs, steps_per_epoch, patience=5, log_every=50):\n",
    "    global_step = 0\n",
    "    best_val_loss = float(\"inf\")\n",
    "    patience_counter = 0\n",
    "\n",
    "    for ep in range(1, epochs + 1):\n",
    "        t0 = perf_counter()\n",
    "        losses = []\n",
    "        it = iter(loader)\n",
    "\n",
    "        # Training loop\n",
    "        for step in trange(1, steps_per_epoch + 1, desc=f\"Epoch {ep}/{epochs}\", ncols=100, leave=False):\n",
    "            try:\n",
    "                batch = next(it)  # [1, N, M, T, F]\n",
    "            except StopIteration:\n",
    "                # Reset iterator if dataset exhausted\n",
    "                it = iter(loader)\n",
    "                batch = next(it)\n",
    "\n",
    "            loss = ge2e_train_step(batch)\n",
    "            losses.append(loss)\n",
    "            global_step += 1\n",
    "\n",
    "            if step % log_every == 0:\n",
    "                print(f\"[Epoch {ep} | Step {step}/{steps_per_epoch}] Loss: {loss:.4f}\")\n",
    "\n",
    "            # Optional: early stop mid-epoch\n",
    "            if patience_counter >= patience:\n",
    "                print(\">>> Early stopping triggered mid-epoch.\")\n",
    "                return\n",
    "\n",
    "        # End of epoch summary\n",
    "        dt = perf_counter() - t0\n",
    "        avg_loss = np.mean(losses)\n",
    "        print(f\"\\n[Epoch {ep}/{epochs}] Time: {dt:.1f}s | AvgTrainLoss: {avg_loss:.4f}\")\n",
    "\n",
    "        # Validation\n",
    "        val_loss = ge2e_validation_loss(encoder, val_loader)\n",
    "        print(f\"[Validation] ValLoss: {val_loss:.4f}\")\n",
    "\n",
    "        # Early stopping\n",
    "        if val_loss < best_val_loss:\n",
    "            best_val_loss = val_loss\n",
    "            patience_counter = 0\n",
    "\n",
    "            # Save checkpoint\n",
    "            ckpt = {\n",
    "                \"epoch\": ep,\n",
    "                \"encoder_state\": encoder.state_dict(),\n",
    "                \"criterion_state\": criterion.state_dict(),\n",
    "                \"optimizer_state\": optimizer.state_dict(),\n",
    "                \"scaler_state\": scaler.state_dict(),\n",
    "                \"config\": {\n",
    "                    \"N_SPK\": N_SPK,\n",
    "                    \"M_UTT\": M_UTT,\n",
    "                    \"SEGMENT_FRAMES\": SEGMENT_FRAMES\n",
    "                }\n",
    "            }\n",
    "            best_path = CHECKPOINT_DIR / \"best_model.pt\"\n",
    "            torch.save(ckpt, best_path)\n",
    "            print(f\"✔ Saved best model: {best_path.resolve()}\")\n",
    "\n",
    "        else:\n",
    "            patience_counter += 1\n",
    "            print(f\"Patience counter: {patience_counter}/{patience}\")\n",
    "\n",
    "            if patience_counter >= patience:\n",
    "                print(\">>> Early stopping triggered after validation.\")\n",
    "                return\n",
    "\n",
    "    print(\">>> Training loop complete.\")\n"
   ]
  },
  {
   "cell_type": "markdown",
   "id": "ec9f922b-5752-4f9e-aa8b-65ad1b0e2211",
   "metadata": {
    "jp-MarkdownHeadingCollapsed": true
   },
   "source": [
    "###### using sklearn for splitting(didn't work)"
   ]
  },
  {
   "cell_type": "code",
   "execution_count": 34,
   "id": "67b29366-7696-4203-baab-2b6fda4a5f7a",
   "metadata": {},
   "outputs": [
    {
     "name": "stdout",
     "output_type": "stream",
     "text": [
      "Collecting scikit-learn\n",
      "  Downloading scikit_learn-1.7.1-cp313-cp313-win_amd64.whl.metadata (11 kB)\n",
      "Collecting numpy>=1.22.0 (from scikit-learn)\n",
      "  Downloading numpy-2.3.2-cp313-cp313-win_amd64.whl.metadata (60 kB)\n",
      "Collecting scipy>=1.8.0 (from scikit-learn)\n",
      "  Downloading scipy-1.16.1-cp313-cp313-win_amd64.whl.metadata (60 kB)\n",
      "Collecting joblib>=1.2.0 (from scikit-learn)\n",
      "  Downloading joblib-1.5.1-py3-none-any.whl.metadata (5.6 kB)\n",
      "Collecting threadpoolctl>=3.1.0 (from scikit-learn)\n",
      "  Downloading threadpoolctl-3.6.0-py3-none-any.whl.metadata (13 kB)\n",
      "Downloading scikit_learn-1.7.1-cp313-cp313-win_amd64.whl (8.7 MB)\n",
      "   ---------------------------------------- 0.0/8.7 MB ? eta -:--:--\n",
      "   - -------------------------------------- 0.3/8.7 MB ? eta -:--:--\n",
      "   -- ------------------------------------- 0.5/8.7 MB 1.6 MB/s eta 0:00:06\n",
      "   --- ------------------------------------ 0.8/8.7 MB 1.7 MB/s eta 0:00:05\n",
      "   ---- ----------------------------------- 1.0/8.7 MB 1.6 MB/s eta 0:00:05\n",
      "   ------ --------------------------------- 1.3/8.7 MB 1.5 MB/s eta 0:00:05\n",
      "   -------- ------------------------------- 1.8/8.7 MB 1.5 MB/s eta 0:00:05\n",
      "   --------- ------------------------------ 2.1/8.7 MB 1.5 MB/s eta 0:00:05\n",
      "   ---------- ----------------------------- 2.4/8.7 MB 1.5 MB/s eta 0:00:05\n",
      "   ------------ --------------------------- 2.6/8.7 MB 1.5 MB/s eta 0:00:05\n",
      "   ------------- -------------------------- 2.9/8.7 MB 1.5 MB/s eta 0:00:04\n",
      "   -------------- ------------------------- 3.1/8.7 MB 1.4 MB/s eta 0:00:05\n",
      "   -------------- ------------------------- 3.1/8.7 MB 1.4 MB/s eta 0:00:05\n",
      "   --------------- ------------------------ 3.4/8.7 MB 1.3 MB/s eta 0:00:05\n",
      "   ---------------- ----------------------- 3.7/8.7 MB 1.3 MB/s eta 0:00:04\n",
      "   ------------------ --------------------- 3.9/8.7 MB 1.2 MB/s eta 0:00:04\n",
      "   ------------------ --------------------- 3.9/8.7 MB 1.2 MB/s eta 0:00:04\n",
      "   ------------------- -------------------- 4.2/8.7 MB 1.2 MB/s eta 0:00:04\n",
      "   -------------------- ------------------- 4.5/8.7 MB 1.2 MB/s eta 0:00:04\n",
      "   -------------------- ------------------- 4.5/8.7 MB 1.2 MB/s eta 0:00:04\n",
      "   --------------------- ------------------ 4.7/8.7 MB 1.2 MB/s eta 0:00:04\n",
      "   --------------------- ------------------ 4.7/8.7 MB 1.2 MB/s eta 0:00:04\n",
      "   ---------------------- ----------------- 5.0/8.7 MB 1.1 MB/s eta 0:00:04\n",
      "   ---------------------- ----------------- 5.0/8.7 MB 1.1 MB/s eta 0:00:04\n",
      "   ---------------------- ----------------- 5.0/8.7 MB 1.1 MB/s eta 0:00:04\n",
      "   ---------------------- ----------------- 5.0/8.7 MB 1.1 MB/s eta 0:00:04\n",
      "   ---------------------- ----------------- 5.0/8.7 MB 1.1 MB/s eta 0:00:04\n",
      "   ------------------------ --------------- 5.2/8.7 MB 946.6 kB/s eta 0:00:04\n",
      "   ------------------------ --------------- 5.2/8.7 MB 946.6 kB/s eta 0:00:04\n",
      "   ------------------------ --------------- 5.2/8.7 MB 946.6 kB/s eta 0:00:04\n",
      "   ------------------------ --------------- 5.2/8.7 MB 946.6 kB/s eta 0:00:04\n",
      "   ------------------------- -------------- 5.5/8.7 MB 861.6 kB/s eta 0:00:04\n",
      "   ------------------------- -------------- 5.5/8.7 MB 861.6 kB/s eta 0:00:04\n",
      "   -------------------------- ------------- 5.8/8.7 MB 829.6 kB/s eta 0:00:04\n",
      "   -------------------------- ------------- 5.8/8.7 MB 829.6 kB/s eta 0:00:04\n",
      "   --------------------------- ------------ 6.0/8.7 MB 811.7 kB/s eta 0:00:04\n",
      "   --------------------------- ------------ 6.0/8.7 MB 811.7 kB/s eta 0:00:04\n",
      "   --------------------------- ------------ 6.0/8.7 MB 811.7 kB/s eta 0:00:04\n",
      "   ---------------------------- ----------- 6.3/8.7 MB 789.8 kB/s eta 0:00:04\n",
      "   ---------------------------- ----------- 6.3/8.7 MB 789.8 kB/s eta 0:00:04\n",
      "   ------------------------------ --------- 6.6/8.7 MB 776.0 kB/s eta 0:00:03\n",
      "   ------------------------------ --------- 6.6/8.7 MB 776.0 kB/s eta 0:00:03\n",
      "   ------------------------------ --------- 6.6/8.7 MB 776.0 kB/s eta 0:00:03\n",
      "   ------------------------------- -------- 6.8/8.7 MB 749.4 kB/s eta 0:00:03\n",
      "   ------------------------------- -------- 6.8/8.7 MB 749.4 kB/s eta 0:00:03\n",
      "   ------------------------------- -------- 6.8/8.7 MB 749.4 kB/s eta 0:00:03\n",
      "   ------------------------------- -------- 6.8/8.7 MB 749.4 kB/s eta 0:00:03\n",
      "   ------------------------------- -------- 6.8/8.7 MB 749.4 kB/s eta 0:00:03\n",
      "   -------------------------------- ------- 7.1/8.7 MB 708.9 kB/s eta 0:00:03\n",
      "   -------------------------------- ------- 7.1/8.7 MB 708.9 kB/s eta 0:00:03\n",
      "   -------------------------------- ------- 7.1/8.7 MB 708.9 kB/s eta 0:00:03\n",
      "   --------------------------------- ------ 7.3/8.7 MB 683.1 kB/s eta 0:00:03\n",
      "   --------------------------------- ------ 7.3/8.7 MB 683.1 kB/s eta 0:00:03\n",
      "   --------------------------------- ------ 7.3/8.7 MB 683.1 kB/s eta 0:00:03\n",
      "   --------------------------------- ------ 7.3/8.7 MB 683.1 kB/s eta 0:00:03\n",
      "   --------------------------------- ------ 7.3/8.7 MB 683.1 kB/s eta 0:00:03\n",
      "   ---------------------------------- ----- 7.6/8.7 MB 645.4 kB/s eta 0:00:02\n",
      "   ---------------------------------- ----- 7.6/8.7 MB 645.4 kB/s eta 0:00:02\n",
      "   ---------------------------------- ----- 7.6/8.7 MB 645.4 kB/s eta 0:00:02\n",
      "   ------------------------------------ --- 7.9/8.7 MB 634.0 kB/s eta 0:00:02\n",
      "   ------------------------------------ --- 7.9/8.7 MB 634.0 kB/s eta 0:00:02\n",
      "   ------------------------------------- -- 8.1/8.7 MB 629.9 kB/s eta 0:00:01\n",
      "   ------------------------------------- -- 8.1/8.7 MB 629.9 kB/s eta 0:00:01\n",
      "   -------------------------------------- - 8.4/8.7 MB 629.7 kB/s eta 0:00:01\n",
      "   -------------------------------------- - 8.4/8.7 MB 629.7 kB/s eta 0:00:01\n",
      "   ---------------------------------------- 8.7/8.7 MB 635.1 kB/s eta 0:00:00\n",
      "Downloading joblib-1.5.1-py3-none-any.whl (307 kB)\n",
      "Downloading numpy-2.3.2-cp313-cp313-win_amd64.whl (12.8 MB)\n",
      "   ---------------------------------------- 0.0/12.8 MB ? eta -:--:--\n",
      "   ---------------------------------------- 0.0/12.8 MB ? eta -:--:--\n",
      "   ---------------------------------------- 0.0/12.8 MB ? eta -:--:--\n",
      "    --------------------------------------- 0.3/12.8 MB ? eta -:--:--\n",
      "    --------------------------------------- 0.3/12.8 MB ? eta -:--:--\n",
      "    --------------------------------------- 0.3/12.8 MB ? eta -:--:--\n",
      "    --------------------------------------- 0.3/12.8 MB ? eta -:--:--\n",
      "   - -------------------------------------- 0.5/12.8 MB 313.2 kB/s eta 0:00:40\n",
      "   - -------------------------------------- 0.5/12.8 MB 313.2 kB/s eta 0:00:40\n",
      "   - -------------------------------------- 0.5/12.8 MB 313.2 kB/s eta 0:00:40\n",
      "   - -------------------------------------- 0.5/12.8 MB 313.2 kB/s eta 0:00:40\n",
      "   -- ------------------------------------- 0.8/12.8 MB 334.9 kB/s eta 0:00:36\n",
      "   -- ------------------------------------- 0.8/12.8 MB 334.9 kB/s eta 0:00:36\n",
      "   -- ------------------------------------- 0.8/12.8 MB 334.9 kB/s eta 0:00:36\n",
      "   -- ------------------------------------- 0.8/12.8 MB 334.9 kB/s eta 0:00:36\n",
      "   -- ------------------------------------- 0.8/12.8 MB 334.9 kB/s eta 0:00:36\n",
      "   -- ------------------------------------- 0.8/12.8 MB 334.9 kB/s eta 0:00:36\n",
      "   --- ------------------------------------ 1.0/12.8 MB 281.5 kB/s eta 0:00:42\n",
      "   --- ------------------------------------ 1.0/12.8 MB 281.5 kB/s eta 0:00:42\n",
      "   --- ------------------------------------ 1.0/12.8 MB 281.5 kB/s eta 0:00:42\n",
      "   --- ------------------------------------ 1.0/12.8 MB 281.5 kB/s eta 0:00:42\n",
      "   ---- ----------------------------------- 1.3/12.8 MB 290.1 kB/s eta 0:00:40\n",
      "   ---- ----------------------------------- 1.3/12.8 MB 290.1 kB/s eta 0:00:40\n",
      "   ---- ----------------------------------- 1.3/12.8 MB 290.1 kB/s eta 0:00:40\n",
      "   ---- ----------------------------------- 1.6/12.8 MB 303.6 kB/s eta 0:00:37\n",
      "   ---- ----------------------------------- 1.6/12.8 MB 303.6 kB/s eta 0:00:37\n",
      "   ---- ----------------------------------- 1.6/12.8 MB 303.6 kB/s eta 0:00:37\n",
      "   ----- ---------------------------------- 1.8/12.8 MB 313.5 kB/s eta 0:00:35\n",
      "   ----- ---------------------------------- 1.8/12.8 MB 313.5 kB/s eta 0:00:35\n",
      "   ----- ---------------------------------- 1.8/12.8 MB 313.5 kB/s eta 0:00:35\n",
      "   ------ --------------------------------- 2.1/12.8 MB 330.5 kB/s eta 0:00:33\n",
      "   ------ --------------------------------- 2.1/12.8 MB 330.5 kB/s eta 0:00:33\n",
      "   ------ --------------------------------- 2.1/12.8 MB 330.5 kB/s eta 0:00:33\n",
      "   ------- -------------------------------- 2.4/12.8 MB 340.6 kB/s eta 0:00:31\n",
      "   ------- -------------------------------- 2.4/12.8 MB 340.6 kB/s eta 0:00:31\n",
      "   ------- -------------------------------- 2.4/12.8 MB 340.6 kB/s eta 0:00:31\n",
      "   ------- -------------------------------- 2.4/12.8 MB 340.6 kB/s eta 0:00:31\n",
      "   ------- -------------------------------- 2.4/12.8 MB 340.6 kB/s eta 0:00:31\n",
      "   ------- -------------------------------- 2.4/12.8 MB 340.6 kB/s eta 0:00:31\n",
      "   ------- -------------------------------- 2.4/12.8 MB 340.6 kB/s eta 0:00:31\n",
      "   -------- ------------------------------- 2.6/12.8 MB 310.0 kB/s eta 0:00:33\n",
      "   --------- ------------------------------ 2.9/12.8 MB 336.1 kB/s eta 0:00:30\n",
      "   --------- ------------------------------ 2.9/12.8 MB 336.1 kB/s eta 0:00:30\n",
      "   --------- ------------------------------ 2.9/12.8 MB 336.1 kB/s eta 0:00:30\n",
      "   --------- ------------------------------ 2.9/12.8 MB 336.1 kB/s eta 0:00:30\n",
      "   --------- ------------------------------ 3.1/12.8 MB 336.3 kB/s eta 0:00:29\n",
      "   --------- ------------------------------ 3.1/12.8 MB 336.3 kB/s eta 0:00:29\n",
      "   --------- ------------------------------ 3.1/12.8 MB 336.3 kB/s eta 0:00:29\n",
      "   ---------- ----------------------------- 3.4/12.8 MB 335.8 kB/s eta 0:00:28\n",
      "   ---------- ----------------------------- 3.4/12.8 MB 335.8 kB/s eta 0:00:28\n",
      "   ---------- ----------------------------- 3.4/12.8 MB 335.8 kB/s eta 0:00:28\n",
      "   ---------- ----------------------------- 3.4/12.8 MB 335.8 kB/s eta 0:00:28\n",
      "   ----------- ---------------------------- 3.7/12.8 MB 334.6 kB/s eta 0:00:28\n",
      "   ----------- ---------------------------- 3.7/12.8 MB 334.6 kB/s eta 0:00:28\n",
      "   ----------- ---------------------------- 3.7/12.8 MB 334.6 kB/s eta 0:00:28\n",
      "   ----------- ---------------------------- 3.7/12.8 MB 334.6 kB/s eta 0:00:28\n",
      "   ------------ --------------------------- 3.9/12.8 MB 335.4 kB/s eta 0:00:27\n",
      "   ------------ --------------------------- 3.9/12.8 MB 335.4 kB/s eta 0:00:27\n",
      "   ------------ --------------------------- 3.9/12.8 MB 335.4 kB/s eta 0:00:27\n",
      "   ------------- -------------------------- 4.2/12.8 MB 341.0 kB/s eta 0:00:26\n",
      "   ------------- -------------------------- 4.2/12.8 MB 341.0 kB/s eta 0:00:26\n",
      "   ------------- -------------------------- 4.5/12.8 MB 350.3 kB/s eta 0:00:24\n",
      "   ------------- -------------------------- 4.5/12.8 MB 350.3 kB/s eta 0:00:24\n",
      "   -------------- ------------------------- 4.7/12.8 MB 357.2 kB/s eta 0:00:23\n",
      "   -------------- ------------------------- 4.7/12.8 MB 357.2 kB/s eta 0:00:23\n",
      "   -------------- ------------------------- 4.7/12.8 MB 357.2 kB/s eta 0:00:23\n",
      "   --------------- ------------------------ 5.0/12.8 MB 359.9 kB/s eta 0:00:22\n",
      "   --------------- ------------------------ 5.0/12.8 MB 359.9 kB/s eta 0:00:22\n",
      "   --------------- ------------------------ 5.0/12.8 MB 359.9 kB/s eta 0:00:22\n",
      "   ---------------- ----------------------- 5.2/12.8 MB 362.0 kB/s eta 0:00:21\n",
      "   ---------------- ----------------------- 5.2/12.8 MB 362.0 kB/s eta 0:00:21\n",
      "   ---------------- ----------------------- 5.2/12.8 MB 362.0 kB/s eta 0:00:21\n",
      "   ---------------- ----------------------- 5.2/12.8 MB 362.0 kB/s eta 0:00:21\n",
      "   ---------------- ----------------------- 5.2/12.8 MB 362.0 kB/s eta 0:00:21\n",
      "   ----------------- ---------------------- 5.5/12.8 MB 358.0 kB/s eta 0:00:21\n",
      "   ----------------- ---------------------- 5.5/12.8 MB 358.0 kB/s eta 0:00:21\n",
      "   ----------------- ---------------------- 5.5/12.8 MB 358.0 kB/s eta 0:00:21\n",
      "   ----------------- ---------------------- 5.5/12.8 MB 358.0 kB/s eta 0:00:21\n",
      "   ----------------- ---------------------- 5.5/12.8 MB 358.0 kB/s eta 0:00:21\n",
      "   ----------------- ---------------------- 5.5/12.8 MB 358.0 kB/s eta 0:00:21\n",
      "   ------------------ --------------------- 5.8/12.8 MB 344.6 kB/s eta 0:00:21\n",
      "   ------------------ --------------------- 5.8/12.8 MB 344.6 kB/s eta 0:00:21\n",
      "   ------------------ --------------------- 5.8/12.8 MB 344.6 kB/s eta 0:00:21\n",
      "   ------------------ --------------------- 5.8/12.8 MB 344.6 kB/s eta 0:00:21\n",
      "   ------------------ --------------------- 6.0/12.8 MB 341.3 kB/s eta 0:00:20\n",
      "   ------------------ --------------------- 6.0/12.8 MB 341.3 kB/s eta 0:00:20\n",
      "   ------------------ --------------------- 6.0/12.8 MB 341.3 kB/s eta 0:00:20\n",
      "   ------------------ --------------------- 6.0/12.8 MB 341.3 kB/s eta 0:00:20\n",
      "   ------------------ --------------------- 6.0/12.8 MB 341.3 kB/s eta 0:00:20\n",
      "   ------------------ --------------------- 6.0/12.8 MB 341.3 kB/s eta 0:00:20\n",
      "   ------------------ --------------------- 6.0/12.8 MB 341.3 kB/s eta 0:00:20\n",
      "   ------------------- -------------------- 6.3/12.8 MB 331.3 kB/s eta 0:00:20\n",
      "   ------------------- -------------------- 6.3/12.8 MB 331.3 kB/s eta 0:00:20\n",
      "   ------------------- -------------------- 6.3/12.8 MB 331.3 kB/s eta 0:00:20\n",
      "   ------------------- -------------------- 6.3/12.8 MB 331.3 kB/s eta 0:00:20\n",
      "   ------------------- -------------------- 6.3/12.8 MB 331.3 kB/s eta 0:00:20\n",
      "   -------------------- ------------------- 6.6/12.8 MB 324.9 kB/s eta 0:00:20\n",
      "   -------------------- ------------------- 6.6/12.8 MB 324.9 kB/s eta 0:00:20\n",
      "   -------------------- ------------------- 6.6/12.8 MB 324.9 kB/s eta 0:00:20\n",
      "   -------------------- ------------------- 6.6/12.8 MB 324.9 kB/s eta 0:00:20\n",
      "   -------------------- ------------------- 6.6/12.8 MB 324.9 kB/s eta 0:00:20\n",
      "   --------------------- ------------------ 6.8/12.8 MB 322.2 kB/s eta 0:00:19\n",
      "   --------------------- ------------------ 6.8/12.8 MB 322.2 kB/s eta 0:00:19\n",
      "   --------------------- ------------------ 6.8/12.8 MB 322.2 kB/s eta 0:00:19\n",
      "   ---------------------- ----------------- 7.1/12.8 MB 324.2 kB/s eta 0:00:18\n",
      "   ---------------------- ----------------- 7.1/12.8 MB 324.2 kB/s eta 0:00:18\n",
      "   ---------------------- ----------------- 7.1/12.8 MB 324.2 kB/s eta 0:00:18\n",
      "   ---------------------- ----------------- 7.3/12.8 MB 327.4 kB/s eta 0:00:17\n",
      "   ---------------------- ----------------- 7.3/12.8 MB 327.4 kB/s eta 0:00:17\n",
      "   ---------------------- ----------------- 7.3/12.8 MB 327.4 kB/s eta 0:00:17\n",
      "   ---------------------- ----------------- 7.3/12.8 MB 327.4 kB/s eta 0:00:17\n",
      "   ---------------------- ----------------- 7.3/12.8 MB 327.4 kB/s eta 0:00:17\n",
      "   ----------------------- ---------------- 7.6/12.8 MB 325.7 kB/s eta 0:00:16\n",
      "   ----------------------- ---------------- 7.6/12.8 MB 325.7 kB/s eta 0:00:16\n",
      "   ----------------------- ---------------- 7.6/12.8 MB 325.7 kB/s eta 0:00:16\n",
      "   ------------------------ --------------- 7.9/12.8 MB 326.0 kB/s eta 0:00:16\n",
      "   ------------------------ --------------- 7.9/12.8 MB 326.0 kB/s eta 0:00:16\n",
      "   ------------------------ --------------- 7.9/12.8 MB 326.0 kB/s eta 0:00:16\n",
      "   ------------------------ --------------- 7.9/12.8 MB 326.0 kB/s eta 0:00:16\n",
      "   ------------------------ --------------- 7.9/12.8 MB 326.0 kB/s eta 0:00:16\n",
      "   ------------------------ --------------- 7.9/12.8 MB 326.0 kB/s eta 0:00:16\n",
      "   ------------------------ --------------- 7.9/12.8 MB 326.0 kB/s eta 0:00:16\n",
      "   ------------------------- -------------- 8.1/12.8 MB 317.3 kB/s eta 0:00:15\n",
      "   ------------------------- -------------- 8.1/12.8 MB 317.3 kB/s eta 0:00:15\n",
      "   ------------------------- -------------- 8.1/12.8 MB 317.3 kB/s eta 0:00:15\n",
      "   ------------------------- -------------- 8.1/12.8 MB 317.3 kB/s eta 0:00:15\n",
      "   ------------------------- -------------- 8.1/12.8 MB 317.3 kB/s eta 0:00:15\n",
      "   -------------------------- ------------- 8.4/12.8 MB 316.5 kB/s eta 0:00:14\n",
      "   -------------------------- ------------- 8.4/12.8 MB 316.5 kB/s eta 0:00:14\n",
      "   --------------------------- ------------ 8.7/12.8 MB 319.7 kB/s eta 0:00:13\n",
      "   --------------------------- ------------ 8.7/12.8 MB 319.7 kB/s eta 0:00:13\n",
      "   --------------------------- ------------ 8.7/12.8 MB 319.7 kB/s eta 0:00:13\n",
      "   --------------------------- ------------ 8.7/12.8 MB 319.7 kB/s eta 0:00:13\n",
      "   --------------------------- ------------ 8.9/12.8 MB 320.9 kB/s eta 0:00:13\n",
      "   --------------------------- ------------ 8.9/12.8 MB 320.9 kB/s eta 0:00:13\n",
      "   --------------------------- ------------ 8.9/12.8 MB 320.9 kB/s eta 0:00:13\n",
      "   ---------------------------- ----------- 9.2/12.8 MB 321.5 kB/s eta 0:00:12\n",
      "   ---------------------------- ----------- 9.2/12.8 MB 321.5 kB/s eta 0:00:12\n",
      "   ---------------------------- ----------- 9.2/12.8 MB 321.5 kB/s eta 0:00:12\n",
      "   ---------------------------- ----------- 9.2/12.8 MB 321.5 kB/s eta 0:00:12\n",
      "   ----------------------------- ---------- 9.4/12.8 MB 323.1 kB/s eta 0:00:11\n",
      "   ----------------------------- ---------- 9.4/12.8 MB 323.1 kB/s eta 0:00:11\n",
      "   ------------------------------ --------- 9.7/12.8 MB 326.7 kB/s eta 0:00:10\n",
      "   ------------------------------ --------- 9.7/12.8 MB 326.7 kB/s eta 0:00:10\n",
      "   ------------------------------- -------- 10.0/12.8 MB 331.1 kB/s eta 0:00:09\n",
      "   ------------------------------- -------- 10.0/12.8 MB 331.1 kB/s eta 0:00:09\n",
      "   ------------------------------- -------- 10.0/12.8 MB 331.1 kB/s eta 0:00:09\n",
      "   ------------------------------- -------- 10.2/12.8 MB 333.4 kB/s eta 0:00:08\n",
      "   ------------------------------- -------- 10.2/12.8 MB 333.4 kB/s eta 0:00:08\n",
      "   ------------------------------- -------- 10.2/12.8 MB 333.4 kB/s eta 0:00:08\n",
      "   ------------------------------- -------- 10.2/12.8 MB 333.4 kB/s eta 0:00:08\n",
      "   ------------------------------- -------- 10.2/12.8 MB 333.4 kB/s eta 0:00:08\n",
      "   ------------------------------- -------- 10.2/12.8 MB 333.4 kB/s eta 0:00:08\n",
      "   ------------------------------- -------- 10.2/12.8 MB 333.4 kB/s eta 0:00:08\n",
      "   -------------------------------- ------- 10.5/12.8 MB 325.5 kB/s eta 0:00:08\n",
      "   -------------------------------- ------- 10.5/12.8 MB 325.5 kB/s eta 0:00:08\n",
      "   -------------------------------- ------- 10.5/12.8 MB 325.5 kB/s eta 0:00:08\n",
      "   -------------------------------- ------- 10.5/12.8 MB 325.5 kB/s eta 0:00:08\n",
      "   --------------------------------- ------ 10.7/12.8 MB 331.1 kB/s eta 0:00:07\n",
      "   --------------------------------- ------ 10.7/12.8 MB 331.1 kB/s eta 0:00:07\n",
      "   ---------------------------------- ----- 11.0/12.8 MB 334.7 kB/s eta 0:00:06\n",
      "   ---------------------------------- ----- 11.0/12.8 MB 334.7 kB/s eta 0:00:06\n",
      "   ----------------------------------- ---- 11.3/12.8 MB 339.7 kB/s eta 0:00:05\n",
      "   ------------------------------------ --- 11.5/12.8 MB 344.7 kB/s eta 0:00:04\n",
      "   ------------------------------------ --- 11.5/12.8 MB 344.7 kB/s eta 0:00:04\n",
      "   ------------------------------------ --- 11.8/12.8 MB 349.8 kB/s eta 0:00:03\n",
      "   ------------------------------------ --- 11.8/12.8 MB 349.8 kB/s eta 0:00:03\n",
      "   ------------------------------------ --- 11.8/12.8 MB 349.8 kB/s eta 0:00:03\n",
      "   ------------------------------------ --- 11.8/12.8 MB 349.8 kB/s eta 0:00:03\n",
      "   ------------------------------------- -- 12.1/12.8 MB 346.9 kB/s eta 0:00:03\n",
      "   ------------------------------------- -- 12.1/12.8 MB 346.9 kB/s eta 0:00:03\n",
      "   ------------------------------------- -- 12.1/12.8 MB 346.9 kB/s eta 0:00:03\n",
      "   ------------------------------------- -- 12.1/12.8 MB 346.9 kB/s eta 0:00:03\n",
      "   ------------------------------------- -- 12.1/12.8 MB 346.9 kB/s eta 0:00:03\n",
      "   ------------------------------------- -- 12.1/12.8 MB 346.9 kB/s eta 0:00:03\n",
      "   -------------------------------------- - 12.3/12.8 MB 336.6 kB/s eta 0:00:02\n",
      "   -------------------------------------- - 12.3/12.8 MB 336.6 kB/s eta 0:00:02\n",
      "   -------------------------------------- - 12.3/12.8 MB 336.6 kB/s eta 0:00:02\n",
      "   -------------------------------------- - 12.3/12.8 MB 336.6 kB/s eta 0:00:02\n",
      "   ---------------------------------------  12.6/12.8 MB 344.5 kB/s eta 0:00:01\n",
      "   ---------------------------------------  12.6/12.8 MB 344.5 kB/s eta 0:00:01\n",
      "   ---------------------------------------  12.6/12.8 MB 344.5 kB/s eta 0:00:01\n",
      "   ---------------------------------------- 12.8/12.8 MB 343.2 kB/s eta 0:00:00\n",
      "Downloading scipy-1.16.1-cp313-cp313-win_amd64.whl (38.5 MB)\n",
      "   ---------------------------------------- 0.0/38.5 MB ? eta -:--:--\n",
      "   ---------------------------------------- 0.0/38.5 MB ? eta -:--:--\n",
      "   ---------------------------------------- 0.0/38.5 MB ? eta -:--:--\n",
      "   ---------------------------------------- 0.0/38.5 MB ? eta -:--:--\n",
      "   ---------------------------------------- 0.0/38.5 MB ? eta -:--:--\n",
      "   ---------------------------------------- 0.3/38.5 MB ? eta -:--:--\n",
      "   ---------------------------------------- 0.3/38.5 MB ? eta -:--:--\n",
      "   ---------------------------------------- 0.3/38.5 MB ? eta -:--:--\n",
      "   ---------------------------------------- 0.3/38.5 MB ? eta -:--:--\n",
      "    --------------------------------------- 0.5/38.5 MB 322.3 kB/s eta 0:01:58\n",
      "    --------------------------------------- 0.5/38.5 MB 322.3 kB/s eta 0:01:58\n",
      "    --------------------------------------- 0.5/38.5 MB 322.3 kB/s eta 0:01:58\n",
      "    --------------------------------------- 0.5/38.5 MB 322.3 kB/s eta 0:01:58\n",
      "    --------------------------------------- 0.8/38.5 MB 310.5 kB/s eta 0:02:02\n",
      "    --------------------------------------- 0.8/38.5 MB 310.5 kB/s eta 0:02:02\n",
      "    --------------------------------------- 0.8/38.5 MB 310.5 kB/s eta 0:02:02\n",
      "   - -------------------------------------- 1.0/38.5 MB 332.8 kB/s eta 0:01:53\n",
      "   - -------------------------------------- 1.0/38.5 MB 332.8 kB/s eta 0:01:53\n",
      "   - -------------------------------------- 1.0/38.5 MB 332.8 kB/s eta 0:01:53\n",
      "   - -------------------------------------- 1.0/38.5 MB 332.8 kB/s eta 0:01:53\n",
      "   - -------------------------------------- 1.0/38.5 MB 332.8 kB/s eta 0:01:53\n",
      "   - -------------------------------------- 1.0/38.5 MB 332.8 kB/s eta 0:01:53\n",
      "   - -------------------------------------- 1.3/38.5 MB 304.3 kB/s eta 0:02:03\n",
      "   - -------------------------------------- 1.3/38.5 MB 304.3 kB/s eta 0:02:03\n",
      "   - -------------------------------------- 1.3/38.5 MB 304.3 kB/s eta 0:02:03\n",
      "   - -------------------------------------- 1.3/38.5 MB 304.3 kB/s eta 0:02:03\n",
      "   - -------------------------------------- 1.3/38.5 MB 304.3 kB/s eta 0:02:03\n",
      "   - -------------------------------------- 1.3/38.5 MB 304.3 kB/s eta 0:02:03\n",
      "   - -------------------------------------- 1.6/38.5 MB 278.2 kB/s eta 0:02:13\n",
      "   - -------------------------------------- 1.6/38.5 MB 278.2 kB/s eta 0:02:13\n",
      "   - -------------------------------------- 1.6/38.5 MB 278.2 kB/s eta 0:02:13\n",
      "   - -------------------------------------- 1.6/38.5 MB 278.2 kB/s eta 0:02:13\n",
      "   - -------------------------------------- 1.6/38.5 MB 278.2 kB/s eta 0:02:13\n",
      "   - -------------------------------------- 1.6/38.5 MB 278.2 kB/s eta 0:02:13\n",
      "   - -------------------------------------- 1.6/38.5 MB 278.2 kB/s eta 0:02:13\n",
      "   - -------------------------------------- 1.8/38.5 MB 252.5 kB/s eta 0:02:26\n",
      "   - -------------------------------------- 1.8/38.5 MB 252.5 kB/s eta 0:02:26\n",
      "   - -------------------------------------- 1.8/38.5 MB 252.5 kB/s eta 0:02:26\n",
      "   - -------------------------------------- 1.8/38.5 MB 252.5 kB/s eta 0:02:26\n",
      "   - -------------------------------------- 1.8/38.5 MB 252.5 kB/s eta 0:02:26\n",
      "   -- ------------------------------------- 2.1/38.5 MB 249.5 kB/s eta 0:02:26\n",
      "   -- ------------------------------------- 2.1/38.5 MB 249.5 kB/s eta 0:02:26\n",
      "   -- ------------------------------------- 2.1/38.5 MB 249.5 kB/s eta 0:02:26\n",
      "   -- ------------------------------------- 2.1/38.5 MB 249.5 kB/s eta 0:02:26\n",
      "   -- ------------------------------------- 2.1/38.5 MB 249.5 kB/s eta 0:02:26\n",
      "   -- ------------------------------------- 2.1/38.5 MB 249.5 kB/s eta 0:02:26\n",
      "   -- ------------------------------------- 2.4/38.5 MB 247.9 kB/s eta 0:02:26\n",
      "   -- ------------------------------------- 2.4/38.5 MB 247.9 kB/s eta 0:02:26\n",
      "   -- ------------------------------------- 2.4/38.5 MB 247.9 kB/s eta 0:02:26\n",
      "   -- ------------------------------------- 2.6/38.5 MB 257.4 kB/s eta 0:02:20\n",
      "   -- ------------------------------------- 2.6/38.5 MB 257.4 kB/s eta 0:02:20\n",
      "   -- ------------------------------------- 2.6/38.5 MB 257.4 kB/s eta 0:02:20\n",
      "   -- ------------------------------------- 2.9/38.5 MB 268.3 kB/s eta 0:02:13\n",
      "   -- ------------------------------------- 2.9/38.5 MB 268.3 kB/s eta 0:02:13\n",
      "   --- ------------------------------------ 3.1/38.5 MB 281.4 kB/s eta 0:02:06\n",
      "   --- ------------------------------------ 3.1/38.5 MB 281.4 kB/s eta 0:02:06\n",
      "   --- ------------------------------------ 3.4/38.5 MB 293.4 kB/s eta 0:02:00\n",
      "   --- ------------------------------------ 3.4/38.5 MB 293.4 kB/s eta 0:02:00\n",
      "   --- ------------------------------------ 3.4/38.5 MB 293.4 kB/s eta 0:02:00\n",
      "   --- ------------------------------------ 3.7/38.5 MB 304.1 kB/s eta 0:01:55\n",
      "   --- ------------------------------------ 3.7/38.5 MB 304.1 kB/s eta 0:01:55\n",
      "   ---- ----------------------------------- 3.9/38.5 MB 312.4 kB/s eta 0:01:51\n",
      "   ---- ----------------------------------- 3.9/38.5 MB 312.4 kB/s eta 0:01:51\n",
      "   ---- ----------------------------------- 3.9/38.5 MB 312.4 kB/s eta 0:01:51\n",
      "   ---- ----------------------------------- 4.2/38.5 MB 318.6 kB/s eta 0:01:48\n",
      "   ---- ----------------------------------- 4.2/38.5 MB 318.6 kB/s eta 0:01:48\n",
      "   ---- ----------------------------------- 4.2/38.5 MB 318.6 kB/s eta 0:01:48\n",
      "   ---- ----------------------------------- 4.2/38.5 MB 318.6 kB/s eta 0:01:48\n",
      "   ---- ----------------------------------- 4.5/38.5 MB 318.9 kB/s eta 0:01:47\n",
      "   ---- ----------------------------------- 4.5/38.5 MB 318.9 kB/s eta 0:01:47\n",
      "   ---- ----------------------------------- 4.5/38.5 MB 318.9 kB/s eta 0:01:47\n",
      "   ---- ----------------------------------- 4.5/38.5 MB 318.9 kB/s eta 0:01:47\n",
      "   ---- ----------------------------------- 4.7/38.5 MB 317.4 kB/s eta 0:01:47\n",
      "   ---- ----------------------------------- 4.7/38.5 MB 317.4 kB/s eta 0:01:47\n",
      "   ---- ----------------------------------- 4.7/38.5 MB 317.4 kB/s eta 0:01:47\n",
      "   ----- ---------------------------------- 5.0/38.5 MB 322.4 kB/s eta 0:01:44\n",
      "   ----- ---------------------------------- 5.0/38.5 MB 322.4 kB/s eta 0:01:44\n",
      "   ----- ---------------------------------- 5.0/38.5 MB 322.4 kB/s eta 0:01:44\n",
      "   ----- ---------------------------------- 5.2/38.5 MB 324.7 kB/s eta 0:01:43\n",
      "   ----- ---------------------------------- 5.2/38.5 MB 324.7 kB/s eta 0:01:43\n",
      "   ----- ---------------------------------- 5.2/38.5 MB 324.7 kB/s eta 0:01:43\n",
      "   ----- ---------------------------------- 5.2/38.5 MB 324.7 kB/s eta 0:01:43\n",
      "   ----- ---------------------------------- 5.5/38.5 MB 328.2 kB/s eta 0:01:41\n",
      "   ----- ---------------------------------- 5.5/38.5 MB 328.2 kB/s eta 0:01:41\n",
      "   ----- ---------------------------------- 5.8/38.5 MB 332.2 kB/s eta 0:01:39\n",
      "   ----- ---------------------------------- 5.8/38.5 MB 332.2 kB/s eta 0:01:39\n",
      "   ----- ---------------------------------- 5.8/38.5 MB 332.2 kB/s eta 0:01:39\n",
      "   ----- ---------------------------------- 5.8/38.5 MB 332.2 kB/s eta 0:01:39\n",
      "   ----- ---------------------------------- 5.8/38.5 MB 332.2 kB/s eta 0:01:39\n",
      "   ------ --------------------------------- 6.0/38.5 MB 328.5 kB/s eta 0:01:39\n",
      "   ------ --------------------------------- 6.0/38.5 MB 328.5 kB/s eta 0:01:39\n",
      "   ------ --------------------------------- 6.0/38.5 MB 328.5 kB/s eta 0:01:39\n",
      "   ------ --------------------------------- 6.3/38.5 MB 332.1 kB/s eta 0:01:37\n",
      "   ------ --------------------------------- 6.3/38.5 MB 332.1 kB/s eta 0:01:37\n",
      "   ------ --------------------------------- 6.3/38.5 MB 332.1 kB/s eta 0:01:37\n",
      "   ------ --------------------------------- 6.3/38.5 MB 332.1 kB/s eta 0:01:37\n",
      "   ------ --------------------------------- 6.6/38.5 MB 331.8 kB/s eta 0:01:37\n",
      "   ------ --------------------------------- 6.6/38.5 MB 331.8 kB/s eta 0:01:37\n",
      "   ------ --------------------------------- 6.6/38.5 MB 331.8 kB/s eta 0:01:37\n",
      "   ------- -------------------------------- 6.8/38.5 MB 335.3 kB/s eta 0:01:35\n",
      "   ------- -------------------------------- 6.8/38.5 MB 335.3 kB/s eta 0:01:35\n",
      "   ------- -------------------------------- 7.1/38.5 MB 339.2 kB/s eta 0:01:33\n",
      "   ------- -------------------------------- 7.1/38.5 MB 339.2 kB/s eta 0:01:33\n",
      "   ------- -------------------------------- 7.3/38.5 MB 344.2 kB/s eta 0:01:31\n",
      "   ------- -------------------------------- 7.3/38.5 MB 344.2 kB/s eta 0:01:31\n",
      "   ------- -------------------------------- 7.6/38.5 MB 349.6 kB/s eta 0:01:29\n",
      "   ------- -------------------------------- 7.6/38.5 MB 349.6 kB/s eta 0:01:29\n",
      "   ------- -------------------------------- 7.6/38.5 MB 349.6 kB/s eta 0:01:29\n",
      "   -------- ------------------------------- 7.9/38.5 MB 352.9 kB/s eta 0:01:27\n",
      "   -------- ------------------------------- 7.9/38.5 MB 352.9 kB/s eta 0:01:27\n",
      "   -------- ------------------------------- 7.9/38.5 MB 352.9 kB/s eta 0:01:27\n",
      "   -------- ------------------------------- 7.9/38.5 MB 352.9 kB/s eta 0:01:27\n",
      "   -------- ------------------------------- 7.9/38.5 MB 352.9 kB/s eta 0:01:27\n",
      "   -------- ------------------------------- 8.1/38.5 MB 348.0 kB/s eta 0:01:28\n",
      "   -------- ------------------------------- 8.1/38.5 MB 348.0 kB/s eta 0:01:28\n",
      "   -------- ------------------------------- 8.1/38.5 MB 348.0 kB/s eta 0:01:28\n",
      "   -------- ------------------------------- 8.1/38.5 MB 348.0 kB/s eta 0:01:28\n",
      "   -------- ------------------------------- 8.1/38.5 MB 348.0 kB/s eta 0:01:28\n",
      "   -------- ------------------------------- 8.1/38.5 MB 348.0 kB/s eta 0:01:28\n",
      "   -------- ------------------------------- 8.4/38.5 MB 342.6 kB/s eta 0:01:28\n",
      "   -------- ------------------------------- 8.4/38.5 MB 342.6 kB/s eta 0:01:28\n",
      "   -------- ------------------------------- 8.4/38.5 MB 342.6 kB/s eta 0:01:28\n",
      "   -------- ------------------------------- 8.4/38.5 MB 342.6 kB/s eta 0:01:28\n",
      "   -------- ------------------------------- 8.7/38.5 MB 341.5 kB/s eta 0:01:28\n",
      "   -------- ------------------------------- 8.7/38.5 MB 341.5 kB/s eta 0:01:28\n",
      "   -------- ------------------------------- 8.7/38.5 MB 341.5 kB/s eta 0:01:28\n",
      "   --------- ------------------------------ 8.9/38.5 MB 343.4 kB/s eta 0:01:27\n",
      "   --------- ------------------------------ 8.9/38.5 MB 343.4 kB/s eta 0:01:27\n",
      "   --------- ------------------------------ 8.9/38.5 MB 343.4 kB/s eta 0:01:27\n",
      "   --------- ------------------------------ 8.9/38.5 MB 343.4 kB/s eta 0:01:27\n",
      "   --------- ------------------------------ 9.2/38.5 MB 342.9 kB/s eta 0:01:26\n",
      "   --------- ------------------------------ 9.2/38.5 MB 342.9 kB/s eta 0:01:26\n",
      "   --------- ------------------------------ 9.2/38.5 MB 342.9 kB/s eta 0:01:26\n",
      "   --------- ------------------------------ 9.2/38.5 MB 342.9 kB/s eta 0:01:26\n",
      "   --------- ------------------------------ 9.4/38.5 MB 340.7 kB/s eta 0:01:26\n",
      "   --------- ------------------------------ 9.4/38.5 MB 340.7 kB/s eta 0:01:26\n",
      "   --------- ------------------------------ 9.4/38.5 MB 340.7 kB/s eta 0:01:26\n",
      "   --------- ------------------------------ 9.4/38.5 MB 340.7 kB/s eta 0:01:26\n",
      "   ---------- ----------------------------- 9.7/38.5 MB 338.7 kB/s eta 0:01:25\n",
      "   ---------- ----------------------------- 9.7/38.5 MB 338.7 kB/s eta 0:01:25\n",
      "   ---------- ----------------------------- 9.7/38.5 MB 338.7 kB/s eta 0:01:25\n",
      "   ---------- ----------------------------- 9.7/38.5 MB 338.7 kB/s eta 0:01:25\n",
      "   ---------- ----------------------------- 9.7/38.5 MB 338.7 kB/s eta 0:01:25\n",
      "   ---------- ----------------------------- 10.0/38.5 MB 337.7 kB/s eta 0:01:25\n",
      "   ---------- ----------------------------- 10.0/38.5 MB 337.7 kB/s eta 0:01:25\n",
      "   ---------- ----------------------------- 10.2/38.5 MB 340.6 kB/s eta 0:01:23\n",
      "   ---------- ----------------------------- 10.2/38.5 MB 340.6 kB/s eta 0:01:23\n",
      "   ---------- ----------------------------- 10.2/38.5 MB 340.6 kB/s eta 0:01:23\n",
      "   ---------- ----------------------------- 10.5/38.5 MB 342.2 kB/s eta 0:01:22\n",
      "   ---------- ----------------------------- 10.5/38.5 MB 342.2 kB/s eta 0:01:22\n",
      "   ---------- ----------------------------- 10.5/38.5 MB 342.2 kB/s eta 0:01:22\n",
      "   ---------- ----------------------------- 10.5/38.5 MB 342.2 kB/s eta 0:01:22\n",
      "   ----------- ---------------------------- 10.7/38.5 MB 341.4 kB/s eta 0:01:22\n",
      "   ----------- ---------------------------- 10.7/38.5 MB 341.4 kB/s eta 0:01:22\n",
      "   ----------- ---------------------------- 10.7/38.5 MB 341.4 kB/s eta 0:01:22\n",
      "   ----------- ---------------------------- 10.7/38.5 MB 341.4 kB/s eta 0:01:22\n",
      "   ----------- ---------------------------- 10.7/38.5 MB 341.4 kB/s eta 0:01:22\n",
      "   ----------- ---------------------------- 11.0/38.5 MB 341.0 kB/s eta 0:01:21\n",
      "   ----------- ---------------------------- 11.0/38.5 MB 341.0 kB/s eta 0:01:21\n",
      "   ----------- ---------------------------- 11.0/38.5 MB 341.0 kB/s eta 0:01:21\n",
      "   ----------- ---------------------------- 11.3/38.5 MB 341.5 kB/s eta 0:01:20\n",
      "   ----------- ---------------------------- 11.3/38.5 MB 341.5 kB/s eta 0:01:20\n",
      "   ----------- ---------------------------- 11.3/38.5 MB 341.5 kB/s eta 0:01:20\n",
      "   ----------- ---------------------------- 11.5/38.5 MB 346.4 kB/s eta 0:01:18\n",
      "   ----------- ---------------------------- 11.5/38.5 MB 346.4 kB/s eta 0:01:18\n",
      "   ----------- ---------------------------- 11.5/38.5 MB 346.4 kB/s eta 0:01:18\n",
      "   ------------ --------------------------- 11.8/38.5 MB 353.0 kB/s eta 0:01:16\n",
      "   ------------ --------------------------- 11.8/38.5 MB 353.0 kB/s eta 0:01:16\n",
      "   ------------ --------------------------- 11.8/38.5 MB 353.0 kB/s eta 0:01:16\n",
      "   ------------ --------------------------- 11.8/38.5 MB 353.0 kB/s eta 0:01:16\n",
      "   ------------ --------------------------- 12.1/38.5 MB 351.9 kB/s eta 0:01:16\n",
      "   ------------ --------------------------- 12.1/38.5 MB 351.9 kB/s eta 0:01:16\n",
      "   ------------ --------------------------- 12.1/38.5 MB 351.9 kB/s eta 0:01:16\n",
      "   ------------ --------------------------- 12.1/38.5 MB 351.9 kB/s eta 0:01:16\n",
      "   ------------ --------------------------- 12.1/38.5 MB 351.9 kB/s eta 0:01:16\n",
      "   ------------ --------------------------- 12.3/38.5 MB 357.9 kB/s eta 0:01:14\n",
      "   ------------ --------------------------- 12.3/38.5 MB 357.9 kB/s eta 0:01:14\n",
      "   ------------ --------------------------- 12.3/38.5 MB 357.9 kB/s eta 0:01:14\n",
      "   ------------ --------------------------- 12.3/38.5 MB 357.9 kB/s eta 0:01:14\n",
      "   ------------ --------------------------- 12.3/38.5 MB 357.9 kB/s eta 0:01:14\n",
      "   ------------- -------------------------- 12.6/38.5 MB 360.9 kB/s eta 0:01:12\n",
      "   ------------- -------------------------- 12.6/38.5 MB 360.9 kB/s eta 0:01:12\n",
      "   ------------- -------------------------- 12.6/38.5 MB 360.9 kB/s eta 0:01:12\n",
      "   ------------- -------------------------- 12.6/38.5 MB 360.9 kB/s eta 0:01:12\n",
      "   ------------- -------------------------- 12.6/38.5 MB 360.9 kB/s eta 0:01:12\n",
      "   ------------- -------------------------- 12.6/38.5 MB 360.9 kB/s eta 0:01:12\n",
      "   ------------- -------------------------- 12.6/38.5 MB 360.9 kB/s eta 0:01:12\n",
      "   ------------- -------------------------- 12.8/38.5 MB 357.2 kB/s eta 0:01:12\n",
      "   ------------- -------------------------- 12.8/38.5 MB 357.2 kB/s eta 0:01:12\n",
      "   ------------- -------------------------- 12.8/38.5 MB 357.2 kB/s eta 0:01:12\n",
      "   ------------- -------------------------- 13.1/38.5 MB 357.4 kB/s eta 0:01:11\n",
      "   ------------- -------------------------- 13.1/38.5 MB 357.4 kB/s eta 0:01:11\n",
      "   ------------- -------------------------- 13.1/38.5 MB 357.4 kB/s eta 0:01:11\n",
      "   ------------- -------------------------- 13.1/38.5 MB 357.4 kB/s eta 0:01:11\n",
      "   ------------- -------------------------- 13.1/38.5 MB 357.4 kB/s eta 0:01:11\n",
      "   ------------- -------------------------- 13.4/38.5 MB 351.8 kB/s eta 0:01:12\n",
      "   ------------- -------------------------- 13.4/38.5 MB 351.8 kB/s eta 0:01:12\n",
      "   ------------- -------------------------- 13.4/38.5 MB 351.8 kB/s eta 0:01:12\n",
      "   ------------- -------------------------- 13.4/38.5 MB 351.8 kB/s eta 0:01:12\n",
      "   ------------- -------------------------- 13.4/38.5 MB 351.8 kB/s eta 0:01:12\n",
      "   -------------- ------------------------- 13.6/38.5 MB 343.0 kB/s eta 0:01:13\n",
      "   -------------- ------------------------- 13.6/38.5 MB 343.0 kB/s eta 0:01:13\n",
      "   -------------- ------------------------- 13.6/38.5 MB 343.0 kB/s eta 0:01:13\n",
      "   -------------- ------------------------- 13.6/38.5 MB 343.0 kB/s eta 0:01:13\n",
      "   -------------- ------------------------- 13.9/38.5 MB 335.5 kB/s eta 0:01:14\n",
      "   -------------- ------------------------- 13.9/38.5 MB 335.5 kB/s eta 0:01:14\n",
      "   -------------- ------------------------- 13.9/38.5 MB 335.5 kB/s eta 0:01:14\n",
      "   -------------- ------------------------- 14.2/38.5 MB 335.6 kB/s eta 0:01:13\n",
      "   -------------- ------------------------- 14.2/38.5 MB 335.6 kB/s eta 0:01:13\n",
      "   -------------- ------------------------- 14.2/38.5 MB 335.6 kB/s eta 0:01:13\n",
      "   -------------- ------------------------- 14.4/38.5 MB 337.2 kB/s eta 0:01:12\n",
      "   -------------- ------------------------- 14.4/38.5 MB 337.2 kB/s eta 0:01:12\n",
      "   -------------- ------------------------- 14.4/38.5 MB 337.2 kB/s eta 0:01:12\n",
      "   -------------- ------------------------- 14.4/38.5 MB 337.2 kB/s eta 0:01:12\n",
      "   --------------- ------------------------ 14.7/38.5 MB 339.0 kB/s eta 0:01:11\n",
      "   --------------- ------------------------ 14.7/38.5 MB 339.0 kB/s eta 0:01:11\n",
      "   --------------- ------------------------ 14.7/38.5 MB 339.0 kB/s eta 0:01:11\n",
      "   --------------- ------------------------ 14.7/38.5 MB 339.0 kB/s eta 0:01:11\n",
      "   --------------- ------------------------ 14.7/38.5 MB 339.0 kB/s eta 0:01:11\n",
      "   --------------- ------------------------ 14.7/38.5 MB 339.0 kB/s eta 0:01:11\n",
      "   --------------- ------------------------ 14.7/38.5 MB 339.0 kB/s eta 0:01:11\n",
      "   --------------- ------------------------ 14.9/38.5 MB 328.1 kB/s eta 0:01:12\n",
      "   --------------- ------------------------ 14.9/38.5 MB 328.1 kB/s eta 0:01:12\n",
      "   --------------- ------------------------ 14.9/38.5 MB 328.1 kB/s eta 0:01:12\n",
      "   --------------- ------------------------ 15.2/38.5 MB 328.0 kB/s eta 0:01:11\n",
      "   --------------- ------------------------ 15.2/38.5 MB 328.0 kB/s eta 0:01:11\n",
      "   --------------- ------------------------ 15.2/38.5 MB 328.0 kB/s eta 0:01:11\n",
      "   --------------- ------------------------ 15.2/38.5 MB 328.0 kB/s eta 0:01:11\n",
      "   --------------- ------------------------ 15.2/38.5 MB 328.0 kB/s eta 0:01:11\n",
      "   ---------------- ----------------------- 15.5/38.5 MB 323.7 kB/s eta 0:01:12\n",
      "   ---------------- ----------------------- 15.5/38.5 MB 323.7 kB/s eta 0:01:12\n",
      "   ---------------- ----------------------- 15.5/38.5 MB 323.7 kB/s eta 0:01:12\n",
      "   ---------------- ----------------------- 15.5/38.5 MB 323.7 kB/s eta 0:01:12\n",
      "   ---------------- ----------------------- 15.7/38.5 MB 325.5 kB/s eta 0:01:10\n",
      "   ---------------- ----------------------- 15.7/38.5 MB 325.5 kB/s eta 0:01:10\n",
      "   ---------------- ----------------------- 15.7/38.5 MB 325.5 kB/s eta 0:01:10\n",
      "   ---------------- ----------------------- 15.7/38.5 MB 325.5 kB/s eta 0:01:10\n",
      "   ---------------- ----------------------- 15.7/38.5 MB 325.5 kB/s eta 0:01:10\n",
      "   ---------------- ----------------------- 15.7/38.5 MB 325.5 kB/s eta 0:01:10\n",
      "   ---------------- ----------------------- 16.0/38.5 MB 318.6 kB/s eta 0:01:11\n",
      "   ---------------- ----------------------- 16.0/38.5 MB 318.6 kB/s eta 0:01:11\n",
      "   ---------------- ----------------------- 16.0/38.5 MB 318.6 kB/s eta 0:01:11\n",
      "   ---------------- ----------------------- 16.0/38.5 MB 318.6 kB/s eta 0:01:11\n",
      "   ---------------- ----------------------- 16.3/38.5 MB 315.3 kB/s eta 0:01:11\n",
      "   ---------------- ----------------------- 16.3/38.5 MB 315.3 kB/s eta 0:01:11\n",
      "   ---------------- ----------------------- 16.3/38.5 MB 315.3 kB/s eta 0:01:11\n",
      "   ---------------- ----------------------- 16.3/38.5 MB 315.3 kB/s eta 0:01:11\n",
      "   ----------------- ---------------------- 16.5/38.5 MB 307.9 kB/s eta 0:01:12\n",
      "   ----------------- ---------------------- 16.5/38.5 MB 307.9 kB/s eta 0:01:12\n",
      "   ----------------- ---------------------- 16.5/38.5 MB 307.9 kB/s eta 0:01:12\n",
      "   ----------------- ---------------------- 16.5/38.5 MB 307.9 kB/s eta 0:01:12\n",
      "   ----------------- ---------------------- 16.5/38.5 MB 307.9 kB/s eta 0:01:12\n",
      "   ----------------- ---------------------- 16.8/38.5 MB 299.1 kB/s eta 0:01:13\n",
      "   ----------------- ---------------------- 16.8/38.5 MB 299.1 kB/s eta 0:01:13\n",
      "   ----------------- ---------------------- 16.8/38.5 MB 299.1 kB/s eta 0:01:13\n",
      "   ----------------- ---------------------- 16.8/38.5 MB 299.1 kB/s eta 0:01:13\n",
      "   ----------------- ---------------------- 16.8/38.5 MB 299.1 kB/s eta 0:01:13\n",
      "   ----------------- ---------------------- 17.0/38.5 MB 298.5 kB/s eta 0:01:12\n",
      "   ----------------- ---------------------- 17.0/38.5 MB 298.5 kB/s eta 0:01:12\n",
      "   ----------------- ---------------------- 17.0/38.5 MB 298.5 kB/s eta 0:01:12\n",
      "   ----------------- ---------------------- 17.0/38.5 MB 298.5 kB/s eta 0:01:12\n",
      "   ----------------- ---------------------- 17.3/38.5 MB 301.6 kB/s eta 0:01:11\n",
      "   ----------------- ---------------------- 17.3/38.5 MB 301.6 kB/s eta 0:01:11\n",
      "   ----------------- ---------------------- 17.3/38.5 MB 301.6 kB/s eta 0:01:11\n",
      "   ----------------- ---------------------- 17.3/38.5 MB 301.6 kB/s eta 0:01:11\n",
      "   ------------------ --------------------- 17.6/38.5 MB 302.5 kB/s eta 0:01:10\n",
      "   ------------------ --------------------- 17.6/38.5 MB 302.5 kB/s eta 0:01:10\n",
      "   ------------------ --------------------- 17.6/38.5 MB 302.5 kB/s eta 0:01:10\n",
      "   ------------------ --------------------- 17.8/38.5 MB 302.2 kB/s eta 0:01:09\n",
      "   ------------------ --------------------- 17.8/38.5 MB 302.2 kB/s eta 0:01:09\n",
      "   ------------------ --------------------- 17.8/38.5 MB 302.2 kB/s eta 0:01:09\n",
      "   ------------------ --------------------- 18.1/38.5 MB 304.5 kB/s eta 0:01:07\n",
      "   ------------------ --------------------- 18.1/38.5 MB 304.5 kB/s eta 0:01:07\n",
      "   ------------------ --------------------- 18.1/38.5 MB 304.5 kB/s eta 0:01:07\n",
      "   ------------------ --------------------- 18.1/38.5 MB 304.5 kB/s eta 0:01:07\n",
      "   ------------------- -------------------- 18.4/38.5 MB 304.6 kB/s eta 0:01:07\n",
      "   ------------------- -------------------- 18.4/38.5 MB 304.6 kB/s eta 0:01:07\n",
      "   ------------------- -------------------- 18.4/38.5 MB 304.6 kB/s eta 0:01:07\n",
      "   ------------------- -------------------- 18.4/38.5 MB 304.6 kB/s eta 0:01:07\n",
      "   ------------------- -------------------- 18.6/38.5 MB 305.9 kB/s eta 0:01:05\n",
      "   ------------------- -------------------- 18.6/38.5 MB 305.9 kB/s eta 0:01:05\n",
      "   ------------------- -------------------- 18.9/38.5 MB 309.9 kB/s eta 0:01:04\n",
      "   ------------------- -------------------- 18.9/38.5 MB 309.9 kB/s eta 0:01:04\n",
      "   ------------------- -------------------- 18.9/38.5 MB 309.9 kB/s eta 0:01:04\n",
      "   ------------------- -------------------- 19.1/38.5 MB 314.4 kB/s eta 0:01:02\n",
      "   ------------------- -------------------- 19.1/38.5 MB 314.4 kB/s eta 0:01:02\n",
      "   ------------------- -------------------- 19.1/38.5 MB 314.4 kB/s eta 0:01:02\n",
      "   -------------------- ------------------- 19.4/38.5 MB 316.4 kB/s eta 0:01:01\n",
      "   -------------------- ------------------- 19.4/38.5 MB 316.4 kB/s eta 0:01:01\n",
      "   -------------------- ------------------- 19.4/38.5 MB 316.4 kB/s eta 0:01:01\n",
      "   -------------------- ------------------- 19.4/38.5 MB 316.4 kB/s eta 0:01:01\n",
      "   -------------------- ------------------- 19.7/38.5 MB 310.4 kB/s eta 0:01:01\n",
      "   -------------------- ------------------- 19.7/38.5 MB 310.4 kB/s eta 0:01:01\n",
      "   -------------------- ------------------- 19.7/38.5 MB 310.4 kB/s eta 0:01:01\n",
      "   -------------------- ------------------- 19.7/38.5 MB 310.4 kB/s eta 0:01:01\n",
      "   -------------------- ------------------- 19.7/38.5 MB 310.4 kB/s eta 0:01:01\n",
      "   -------------------- ------------------- 19.9/38.5 MB 307.7 kB/s eta 0:01:01\n",
      "   -------------------- ------------------- 19.9/38.5 MB 307.7 kB/s eta 0:01:01\n",
      "   -------------------- ------------------- 19.9/38.5 MB 307.7 kB/s eta 0:01:01\n",
      "   -------------------- ------------------- 19.9/38.5 MB 307.7 kB/s eta 0:01:01\n",
      "   -------------------- ------------------- 19.9/38.5 MB 307.7 kB/s eta 0:01:01\n",
      "   -------------------- ------------------- 19.9/38.5 MB 307.7 kB/s eta 0:01:01\n",
      "   -------------------- ------------------- 19.9/38.5 MB 307.7 kB/s eta 0:01:01\n",
      "   -------------------- ------------------- 20.2/38.5 MB 301.4 kB/s eta 0:01:01\n",
      "   -------------------- ------------------- 20.2/38.5 MB 301.4 kB/s eta 0:01:01\n",
      "   -------------------- ------------------- 20.2/38.5 MB 301.4 kB/s eta 0:01:01\n",
      "   -------------------- ------------------- 20.2/38.5 MB 301.4 kB/s eta 0:01:01\n",
      "   --------------------- ------------------ 20.4/38.5 MB 300.2 kB/s eta 0:01:01\n",
      "   --------------------- ------------------ 20.4/38.5 MB 300.2 kB/s eta 0:01:01\n",
      "   --------------------- ------------------ 20.4/38.5 MB 300.2 kB/s eta 0:01:01\n",
      "   --------------------- ------------------ 20.7/38.5 MB 299.3 kB/s eta 0:01:00\n",
      "   --------------------- ------------------ 20.7/38.5 MB 299.3 kB/s eta 0:01:00\n",
      "   --------------------- ------------------ 20.7/38.5 MB 299.3 kB/s eta 0:01:00\n",
      "   --------------------- ------------------ 20.7/38.5 MB 299.3 kB/s eta 0:01:00\n",
      "   --------------------- ------------------ 20.7/38.5 MB 299.3 kB/s eta 0:01:00\n",
      "   --------------------- ------------------ 21.0/38.5 MB 297.8 kB/s eta 0:00:59\n",
      "   --------------------- ------------------ 21.0/38.5 MB 297.8 kB/s eta 0:00:59\n",
      "   --------------------- ------------------ 21.0/38.5 MB 297.8 kB/s eta 0:00:59\n",
      "   --------------------- ------------------ 21.0/38.5 MB 297.8 kB/s eta 0:00:59\n",
      "   --------------------- ------------------ 21.0/38.5 MB 297.8 kB/s eta 0:00:59\n",
      "   --------------------- ------------------ 21.0/38.5 MB 297.8 kB/s eta 0:00:59\n",
      "   --------------------- ------------------ 21.0/38.5 MB 297.8 kB/s eta 0:00:59\n",
      "   ---------------------- ----------------- 21.2/38.5 MB 294.1 kB/s eta 0:00:59\n",
      "   ---------------------- ----------------- 21.2/38.5 MB 294.1 kB/s eta 0:00:59\n",
      "   ---------------------- ----------------- 21.2/38.5 MB 294.1 kB/s eta 0:00:59\n",
      "   ---------------------- ----------------- 21.5/38.5 MB 300.3 kB/s eta 0:00:57\n",
      "   ---------------------- ----------------- 21.5/38.5 MB 300.3 kB/s eta 0:00:57\n",
      "   ---------------------- ----------------- 21.5/38.5 MB 300.3 kB/s eta 0:00:57\n",
      "   ---------------------- ----------------- 21.5/38.5 MB 300.3 kB/s eta 0:00:57\n",
      "   ---------------------- ----------------- 21.5/38.5 MB 300.3 kB/s eta 0:00:57\n",
      "   ---------------------- ----------------- 21.8/38.5 MB 299.4 kB/s eta 0:00:56\n",
      "   ---------------------- ----------------- 21.8/38.5 MB 299.4 kB/s eta 0:00:56\n",
      "   ---------------------- ----------------- 21.8/38.5 MB 299.4 kB/s eta 0:00:56\n",
      "   ---------------------- ----------------- 21.8/38.5 MB 299.4 kB/s eta 0:00:56\n",
      "   ---------------------- ----------------- 21.8/38.5 MB 299.4 kB/s eta 0:00:56\n",
      "   ---------------------- ----------------- 22.0/38.5 MB 298.1 kB/s eta 0:00:56\n",
      "   ---------------------- ----------------- 22.0/38.5 MB 298.1 kB/s eta 0:00:56\n",
      "   ---------------------- ----------------- 22.0/38.5 MB 298.1 kB/s eta 0:00:56\n",
      "   ---------------------- ----------------- 22.0/38.5 MB 298.1 kB/s eta 0:00:56\n",
      "   ---------------------- ----------------- 22.0/38.5 MB 298.1 kB/s eta 0:00:56\n",
      "   ---------------------- ----------------- 22.0/38.5 MB 298.1 kB/s eta 0:00:56\n",
      "   ---------------------- ----------------- 22.0/38.5 MB 298.1 kB/s eta 0:00:56\n",
      "   ----------------------- ---------------- 22.3/38.5 MB 293.1 kB/s eta 0:00:56\n",
      "   ----------------------- ---------------- 22.3/38.5 MB 293.1 kB/s eta 0:00:56\n",
      "   ----------------------- ---------------- 22.3/38.5 MB 293.1 kB/s eta 0:00:56\n",
      "   ----------------------- ---------------- 22.3/38.5 MB 293.1 kB/s eta 0:00:56\n",
      "   ----------------------- ---------------- 22.3/38.5 MB 293.1 kB/s eta 0:00:56\n",
      "   ----------------------- ---------------- 22.3/38.5 MB 293.1 kB/s eta 0:00:56\n",
      "   ----------------------- ---------------- 22.5/38.5 MB 288.4 kB/s eta 0:00:56\n",
      "   ----------------------- ---------------- 22.5/38.5 MB 288.4 kB/s eta 0:00:56\n",
      "   ----------------------- ---------------- 22.5/38.5 MB 288.4 kB/s eta 0:00:56\n",
      "   ----------------------- ---------------- 22.5/38.5 MB 288.4 kB/s eta 0:00:56\n",
      "   ----------------------- ---------------- 22.5/38.5 MB 288.4 kB/s eta 0:00:56\n",
      "   ----------------------- ---------------- 22.5/38.5 MB 288.4 kB/s eta 0:00:56\n",
      "   ----------------------- ---------------- 22.8/38.5 MB 281.3 kB/s eta 0:00:56\n",
      "   ----------------------- ---------------- 22.8/38.5 MB 281.3 kB/s eta 0:00:56\n",
      "   ----------------------- ---------------- 22.8/38.5 MB 281.3 kB/s eta 0:00:56\n",
      "   ----------------------- ---------------- 22.8/38.5 MB 281.3 kB/s eta 0:00:56\n",
      "   ----------------------- ---------------- 22.8/38.5 MB 281.3 kB/s eta 0:00:56\n",
      "   ----------------------- ---------------- 23.1/38.5 MB 281.9 kB/s eta 0:00:55\n",
      "   ----------------------- ---------------- 23.1/38.5 MB 281.9 kB/s eta 0:00:55\n",
      "   ----------------------- ---------------- 23.1/38.5 MB 281.9 kB/s eta 0:00:55\n",
      "   ----------------------- ---------------- 23.1/38.5 MB 281.9 kB/s eta 0:00:55\n",
      "   ------------------------ --------------- 23.3/38.5 MB 282.7 kB/s eta 0:00:54\n",
      "   ------------------------ --------------- 23.3/38.5 MB 282.7 kB/s eta 0:00:54\n",
      "   ------------------------ --------------- 23.3/38.5 MB 282.7 kB/s eta 0:00:54\n",
      "   ------------------------ --------------- 23.3/38.5 MB 282.7 kB/s eta 0:00:54\n",
      "   ------------------------ --------------- 23.3/38.5 MB 282.7 kB/s eta 0:00:54\n",
      "   ------------------------ --------------- 23.3/38.5 MB 282.7 kB/s eta 0:00:54\n",
      "   ------------------------ --------------- 23.3/38.5 MB 282.7 kB/s eta 0:00:54\n",
      "   ------------------------ --------------- 23.6/38.5 MB 275.5 kB/s eta 0:00:55\n",
      "   ------------------------ --------------- 23.6/38.5 MB 275.5 kB/s eta 0:00:55\n",
      "   ------------------------ --------------- 23.6/38.5 MB 275.5 kB/s eta 0:00:55\n",
      "   ------------------------ --------------- 23.6/38.5 MB 275.5 kB/s eta 0:00:55\n",
      "   ------------------------ --------------- 23.6/38.5 MB 275.5 kB/s eta 0:00:55\n",
      "   ------------------------ --------------- 23.6/38.5 MB 275.5 kB/s eta 0:00:55\n",
      "   ------------------------ --------------- 23.6/38.5 MB 275.5 kB/s eta 0:00:55\n",
      "   ------------------------ --------------- 23.6/38.5 MB 275.5 kB/s eta 0:00:55\n",
      "   ------------------------ --------------- 23.9/38.5 MB 271.2 kB/s eta 0:00:54\n",
      "   ------------------------ --------------- 23.9/38.5 MB 271.2 kB/s eta 0:00:54\n",
      "   ------------------------ --------------- 23.9/38.5 MB 271.2 kB/s eta 0:00:54\n",
      "   ------------------------ --------------- 23.9/38.5 MB 271.2 kB/s eta 0:00:54\n",
      "   ------------------------- -------------- 24.1/38.5 MB 272.3 kB/s eta 0:00:53\n",
      "   ------------------------- -------------- 24.1/38.5 MB 272.3 kB/s eta 0:00:53\n",
      "   ------------------------- -------------- 24.1/38.5 MB 272.3 kB/s eta 0:00:53\n",
      "   ------------------------- -------------- 24.1/38.5 MB 272.3 kB/s eta 0:00:53\n",
      "   ------------------------- -------------- 24.1/38.5 MB 272.3 kB/s eta 0:00:53\n",
      "   ------------------------- -------------- 24.4/38.5 MB 271.2 kB/s eta 0:00:52\n",
      "   ------------------------- -------------- 24.4/38.5 MB 271.2 kB/s eta 0:00:52\n",
      "   ------------------------- -------------- 24.4/38.5 MB 271.2 kB/s eta 0:00:52\n",
      "   ------------------------- -------------- 24.4/38.5 MB 271.2 kB/s eta 0:00:52\n",
      "   ------------------------- -------------- 24.6/38.5 MB 271.9 kB/s eta 0:00:51\n",
      "   ------------------------- -------------- 24.6/38.5 MB 271.9 kB/s eta 0:00:51\n",
      "   ------------------------- -------------- 24.6/38.5 MB 271.9 kB/s eta 0:00:51\n",
      "   ------------------------- -------------- 24.6/38.5 MB 271.9 kB/s eta 0:00:51\n",
      "   ------------------------- -------------- 24.6/38.5 MB 271.9 kB/s eta 0:00:51\n",
      "   ------------------------- -------------- 24.9/38.5 MB 272.2 kB/s eta 0:00:50\n",
      "   ------------------------- -------------- 24.9/38.5 MB 272.2 kB/s eta 0:00:50\n",
      "   ------------------------- -------------- 24.9/38.5 MB 272.2 kB/s eta 0:00:50\n",
      "   ------------------------- -------------- 24.9/38.5 MB 272.2 kB/s eta 0:00:50\n",
      "   ------------------------- -------------- 24.9/38.5 MB 272.2 kB/s eta 0:00:50\n",
      "   -------------------------- ------------- 25.2/38.5 MB 269.3 kB/s eta 0:00:50\n",
      "   -------------------------- ------------- 25.2/38.5 MB 269.3 kB/s eta 0:00:50\n",
      "   -------------------------- ------------- 25.2/38.5 MB 269.3 kB/s eta 0:00:50\n",
      "   -------------------------- ------------- 25.2/38.5 MB 269.3 kB/s eta 0:00:50\n",
      "   -------------------------- ------------- 25.4/38.5 MB 268.4 kB/s eta 0:00:49\n",
      "   -------------------------- ------------- 25.4/38.5 MB 268.4 kB/s eta 0:00:49\n",
      "   -------------------------- ------------- 25.4/38.5 MB 268.4 kB/s eta 0:00:49\n",
      "   -------------------------- ------------- 25.7/38.5 MB 271.7 kB/s eta 0:00:48\n",
      "   -------------------------- ------------- 25.7/38.5 MB 271.7 kB/s eta 0:00:48\n",
      "   -------------------------- ------------- 25.7/38.5 MB 271.7 kB/s eta 0:00:48\n",
      "   -------------------------- ------------- 25.7/38.5 MB 271.7 kB/s eta 0:00:48\n",
      "   -------------------------- ------------- 26.0/38.5 MB 266.7 kB/s eta 0:00:47\n",
      "   -------------------------- ------------- 26.0/38.5 MB 266.7 kB/s eta 0:00:47\n",
      "   -------------------------- ------------- 26.0/38.5 MB 266.7 kB/s eta 0:00:47\n",
      "   -------------------------- ------------- 26.0/38.5 MB 266.7 kB/s eta 0:00:47\n",
      "   --------------------------- ------------ 26.2/38.5 MB 268.4 kB/s eta 0:00:46\n",
      "   --------------------------- ------------ 26.2/38.5 MB 268.4 kB/s eta 0:00:46\n",
      "   --------------------------- ------------ 26.5/38.5 MB 271.8 kB/s eta 0:00:45\n",
      "   --------------------------- ------------ 26.5/38.5 MB 271.8 kB/s eta 0:00:45\n",
      "   --------------------------- ------------ 26.5/38.5 MB 271.8 kB/s eta 0:00:45\n",
      "   --------------------------- ------------ 26.5/38.5 MB 271.8 kB/s eta 0:00:45\n",
      "   --------------------------- ------------ 26.7/38.5 MB 272.0 kB/s eta 0:00:44\n",
      "   --------------------------- ------------ 26.7/38.5 MB 272.0 kB/s eta 0:00:44\n",
      "   ---------------------------- ----------- 27.0/38.5 MB 272.3 kB/s eta 0:00:43\n",
      "   ---------------------------- ----------- 27.0/38.5 MB 272.3 kB/s eta 0:00:43\n",
      "   ---------------------------- ----------- 27.0/38.5 MB 272.3 kB/s eta 0:00:43\n",
      "   ---------------------------- ----------- 27.0/38.5 MB 272.3 kB/s eta 0:00:43\n",
      "   ---------------------------- ----------- 27.3/38.5 MB 266.4 kB/s eta 0:00:43\n",
      "   ---------------------------- ----------- 27.3/38.5 MB 266.4 kB/s eta 0:00:43\n",
      "   ---------------------------- ----------- 27.3/38.5 MB 266.4 kB/s eta 0:00:43\n",
      "   ---------------------------- ----------- 27.3/38.5 MB 266.4 kB/s eta 0:00:43\n",
      "   ---------------------------- ----------- 27.5/38.5 MB 267.1 kB/s eta 0:00:42\n",
      "   ---------------------------- ----------- 27.5/38.5 MB 267.1 kB/s eta 0:00:42\n",
      "   ---------------------------- ----------- 27.5/38.5 MB 267.1 kB/s eta 0:00:42\n",
      "   ---------------------------- ----------- 27.5/38.5 MB 267.1 kB/s eta 0:00:42\n",
      "   ---------------------------- ----------- 27.5/38.5 MB 267.1 kB/s eta 0:00:42\n",
      "   ---------------------------- ----------- 27.5/38.5 MB 267.1 kB/s eta 0:00:42\n",
      "   ---------------------------- ----------- 27.5/38.5 MB 267.1 kB/s eta 0:00:42\n",
      "   ---------------------------- ----------- 27.8/38.5 MB 264.1 kB/s eta 0:00:41\n",
      "   ---------------------------- ----------- 27.8/38.5 MB 264.1 kB/s eta 0:00:41\n",
      "   ---------------------------- ----------- 27.8/38.5 MB 264.1 kB/s eta 0:00:41\n",
      "   ----------------------------- ---------- 28.0/38.5 MB 269.1 kB/s eta 0:00:39\n",
      "   ----------------------------- ---------- 28.0/38.5 MB 269.1 kB/s eta 0:00:39\n",
      "   ----------------------------- ---------- 28.0/38.5 MB 269.1 kB/s eta 0:00:39\n",
      "   ----------------------------- ---------- 28.0/38.5 MB 269.1 kB/s eta 0:00:39\n",
      "   ----------------------------- ---------- 28.3/38.5 MB 268.6 kB/s eta 0:00:38\n",
      "   ----------------------------- ---------- 28.3/38.5 MB 268.6 kB/s eta 0:00:38\n",
      "   ----------------------------- ---------- 28.3/38.5 MB 268.6 kB/s eta 0:00:38\n",
      "   ----------------------------- ---------- 28.3/38.5 MB 268.6 kB/s eta 0:00:38\n",
      "   ----------------------------- ---------- 28.6/38.5 MB 269.3 kB/s eta 0:00:37\n",
      "   ----------------------------- ---------- 28.6/38.5 MB 269.3 kB/s eta 0:00:37\n",
      "   ----------------------------- ---------- 28.6/38.5 MB 269.3 kB/s eta 0:00:37\n",
      "   ----------------------------- ---------- 28.8/38.5 MB 271.3 kB/s eta 0:00:36\n",
      "   ----------------------------- ---------- 28.8/38.5 MB 271.3 kB/s eta 0:00:36\n",
      "   ----------------------------- ---------- 28.8/38.5 MB 271.3 kB/s eta 0:00:36\n",
      "   ----------------------------- ---------- 28.8/38.5 MB 271.3 kB/s eta 0:00:36\n",
      "   ------------------------------ --------- 29.1/38.5 MB 272.6 kB/s eta 0:00:35\n",
      "   ------------------------------ --------- 29.1/38.5 MB 272.6 kB/s eta 0:00:35\n",
      "   ------------------------------ --------- 29.1/38.5 MB 272.6 kB/s eta 0:00:35\n",
      "   ------------------------------ --------- 29.1/38.5 MB 272.6 kB/s eta 0:00:35\n",
      "   ------------------------------ --------- 29.4/38.5 MB 278.2 kB/s eta 0:00:33\n",
      "   ------------------------------ --------- 29.4/38.5 MB 278.2 kB/s eta 0:00:33\n",
      "   ------------------------------ --------- 29.4/38.5 MB 278.2 kB/s eta 0:00:33\n",
      "   ------------------------------ --------- 29.6/38.5 MB 281.6 kB/s eta 0:00:32\n",
      "   ------------------------------ --------- 29.6/38.5 MB 281.6 kB/s eta 0:00:32\n",
      "   ------------------------------ --------- 29.6/38.5 MB 281.6 kB/s eta 0:00:32\n",
      "   ------------------------------- -------- 29.9/38.5 MB 284.0 kB/s eta 0:00:31\n",
      "   ------------------------------- -------- 29.9/38.5 MB 284.0 kB/s eta 0:00:31\n",
      "   ------------------------------- -------- 30.1/38.5 MB 287.9 kB/s eta 0:00:29\n",
      "   ------------------------------- -------- 30.1/38.5 MB 287.9 kB/s eta 0:00:29\n",
      "   ------------------------------- -------- 30.1/38.5 MB 287.9 kB/s eta 0:00:29\n",
      "   ------------------------------- -------- 30.4/38.5 MB 291.9 kB/s eta 0:00:28\n",
      "   ------------------------------- -------- 30.4/38.5 MB 291.9 kB/s eta 0:00:28\n",
      "   ------------------------------- -------- 30.7/38.5 MB 296.9 kB/s eta 0:00:27\n",
      "   ------------------------------- -------- 30.7/38.5 MB 296.9 kB/s eta 0:00:27\n",
      "   ------------------------------- -------- 30.7/38.5 MB 296.9 kB/s eta 0:00:27\n",
      "   -------------------------------- ------- 30.9/38.5 MB 299.6 kB/s eta 0:00:26\n",
      "   -------------------------------- ------- 30.9/38.5 MB 299.6 kB/s eta 0:00:26\n",
      "   -------------------------------- ------- 31.2/38.5 MB 309.7 kB/s eta 0:00:24\n",
      "   -------------------------------- ------- 31.2/38.5 MB 309.7 kB/s eta 0:00:24\n",
      "   -------------------------------- ------- 31.2/38.5 MB 309.7 kB/s eta 0:00:24\n",
      "   -------------------------------- ------- 31.5/38.5 MB 313.6 kB/s eta 0:00:23\n",
      "   -------------------------------- ------- 31.5/38.5 MB 313.6 kB/s eta 0:00:23\n",
      "   -------------------------------- ------- 31.7/38.5 MB 317.1 kB/s eta 0:00:22\n",
      "   -------------------------------- ------- 31.7/38.5 MB 317.1 kB/s eta 0:00:22\n",
      "   -------------------------------- ------- 31.7/38.5 MB 317.1 kB/s eta 0:00:22\n",
      "   --------------------------------- ------ 32.0/38.5 MB 326.5 kB/s eta 0:00:20\n",
      "   --------------------------------- ------ 32.0/38.5 MB 326.5 kB/s eta 0:00:20\n",
      "   --------------------------------- ------ 32.0/38.5 MB 326.5 kB/s eta 0:00:20\n",
      "   --------------------------------- ------ 32.0/38.5 MB 326.5 kB/s eta 0:00:20\n",
      "   --------------------------------- ------ 32.2/38.5 MB 324.6 kB/s eta 0:00:20\n",
      "   --------------------------------- ------ 32.2/38.5 MB 324.6 kB/s eta 0:00:20\n",
      "   --------------------------------- ------ 32.2/38.5 MB 324.6 kB/s eta 0:00:20\n",
      "   --------------------------------- ------ 32.5/38.5 MB 329.5 kB/s eta 0:00:19\n",
      "   --------------------------------- ------ 32.5/38.5 MB 329.5 kB/s eta 0:00:19\n",
      "   --------------------------------- ------ 32.5/38.5 MB 329.5 kB/s eta 0:00:19\n",
      "   ---------------------------------- ----- 32.8/38.5 MB 332.2 kB/s eta 0:00:18\n",
      "   ---------------------------------- ----- 32.8/38.5 MB 332.2 kB/s eta 0:00:18\n",
      "   ---------------------------------- ----- 32.8/38.5 MB 332.2 kB/s eta 0:00:18\n",
      "   ---------------------------------- ----- 33.0/38.5 MB 339.9 kB/s eta 0:00:17\n",
      "   ---------------------------------- ----- 33.0/38.5 MB 339.9 kB/s eta 0:00:17\n",
      "   ---------------------------------- ----- 33.3/38.5 MB 343.4 kB/s eta 0:00:16\n",
      "   ---------------------------------- ----- 33.3/38.5 MB 343.4 kB/s eta 0:00:16\n",
      "   ---------------------------------- ----- 33.6/38.5 MB 347.7 kB/s eta 0:00:15\n",
      "   ---------------------------------- ----- 33.6/38.5 MB 347.7 kB/s eta 0:00:15\n",
      "   ---------------------------------- ----- 33.6/38.5 MB 347.7 kB/s eta 0:00:15\n",
      "   ----------------------------------- ---- 33.8/38.5 MB 358.1 kB/s eta 0:00:14\n",
      "   ----------------------------------- ---- 33.8/38.5 MB 358.1 kB/s eta 0:00:14\n",
      "   ----------------------------------- ---- 33.8/38.5 MB 358.1 kB/s eta 0:00:14\n",
      "   ----------------------------------- ---- 33.8/38.5 MB 358.1 kB/s eta 0:00:14\n",
      "   ----------------------------------- ---- 34.1/38.5 MB 358.0 kB/s eta 0:00:13\n",
      "   ----------------------------------- ---- 34.1/38.5 MB 358.0 kB/s eta 0:00:13\n",
      "   ----------------------------------- ---- 34.3/38.5 MB 359.9 kB/s eta 0:00:12\n",
      "   ----------------------------------- ---- 34.3/38.5 MB 359.9 kB/s eta 0:00:12\n",
      "   ----------------------------------- ---- 34.6/38.5 MB 373.7 kB/s eta 0:00:11\n",
      "   ----------------------------------- ---- 34.6/38.5 MB 373.7 kB/s eta 0:00:11\n",
      "   ------------------------------------ --- 34.9/38.5 MB 377.5 kB/s eta 0:00:10\n",
      "   ------------------------------------ --- 34.9/38.5 MB 377.5 kB/s eta 0:00:10\n",
      "   ------------------------------------ --- 34.9/38.5 MB 377.5 kB/s eta 0:00:10\n",
      "   ------------------------------------ --- 35.1/38.5 MB 379.0 kB/s eta 0:00:09\n",
      "   ------------------------------------ --- 35.1/38.5 MB 379.0 kB/s eta 0:00:09\n",
      "   ------------------------------------ --- 35.1/38.5 MB 379.0 kB/s eta 0:00:09\n",
      "   ------------------------------------ --- 35.4/38.5 MB 382.6 kB/s eta 0:00:09\n",
      "   ------------------------------------ --- 35.4/38.5 MB 382.6 kB/s eta 0:00:09\n",
      "   ------------------------------------ --- 35.4/38.5 MB 382.6 kB/s eta 0:00:09\n",
      "   ------------------------------------ --- 35.4/38.5 MB 382.6 kB/s eta 0:00:09\n",
      "   ------------------------------------- -- 35.7/38.5 MB 383.2 kB/s eta 0:00:08\n",
      "   ------------------------------------- -- 35.7/38.5 MB 383.2 kB/s eta 0:00:08\n",
      "   ------------------------------------- -- 35.7/38.5 MB 383.2 kB/s eta 0:00:08\n",
      "   ------------------------------------- -- 35.9/38.5 MB 384.7 kB/s eta 0:00:07\n",
      "   ------------------------------------- -- 35.9/38.5 MB 384.7 kB/s eta 0:00:07\n",
      "   ------------------------------------- -- 36.2/38.5 MB 389.6 kB/s eta 0:00:06\n",
      "   ------------------------------------- -- 36.2/38.5 MB 389.6 kB/s eta 0:00:06\n",
      "   ------------------------------------- -- 36.4/38.5 MB 393.5 kB/s eta 0:00:06\n",
      "   ------------------------------------- -- 36.4/38.5 MB 393.5 kB/s eta 0:00:06\n",
      "   -------------------------------------- - 36.7/38.5 MB 402.0 kB/s eta 0:00:05\n",
      "   -------------------------------------- - 36.7/38.5 MB 402.0 kB/s eta 0:00:05\n",
      "   -------------------------------------- - 37.0/38.5 MB 405.7 kB/s eta 0:00:04\n",
      "   -------------------------------------- - 37.0/38.5 MB 405.7 kB/s eta 0:00:04\n",
      "   -------------------------------------- - 37.2/38.5 MB 416.1 kB/s eta 0:00:04\n",
      "   -------------------------------------- - 37.2/38.5 MB 416.1 kB/s eta 0:00:04\n",
      "   -------------------------------------- - 37.5/38.5 MB 417.9 kB/s eta 0:00:03\n",
      "   -------------------------------------- - 37.5/38.5 MB 417.9 kB/s eta 0:00:03\n",
      "   -------------------------------------- - 37.5/38.5 MB 417.9 kB/s eta 0:00:03\n",
      "   ---------------------------------------  37.7/38.5 MB 422.4 kB/s eta 0:00:02\n",
      "   ---------------------------------------  37.7/38.5 MB 422.4 kB/s eta 0:00:02\n",
      "   ---------------------------------------  37.7/38.5 MB 422.4 kB/s eta 0:00:02\n",
      "   ---------------------------------------  38.0/38.5 MB 422.0 kB/s eta 0:00:02\n",
      "   ---------------------------------------  38.0/38.5 MB 422.0 kB/s eta 0:00:02\n",
      "   ---------------------------------------  38.0/38.5 MB 422.0 kB/s eta 0:00:02\n",
      "   ---------------------------------------  38.0/38.5 MB 422.0 kB/s eta 0:00:02\n",
      "   ---------------------------------------  38.3/38.5 MB 421.7 kB/s eta 0:00:01\n",
      "   ---------------------------------------  38.3/38.5 MB 421.7 kB/s eta 0:00:01\n",
      "   ---------------------------------------  38.3/38.5 MB 421.7 kB/s eta 0:00:01\n",
      "   ---------------------------------------- 38.5/38.5 MB 421.0 kB/s eta 0:00:00\n",
      "Downloading threadpoolctl-3.6.0-py3-none-any.whl (18 kB)\n",
      "Installing collected packages: threadpoolctl, numpy, joblib, scipy, scikit-learn\n",
      "\n",
      "  Attempting uninstall: threadpoolctl\n",
      "\n",
      "    Found existing installation: threadpoolctl 3.6.0\n",
      "\n",
      "    Uninstalling threadpoolctl-3.6.0:\n",
      "\n",
      "   ---------------------------------------- 0/5 [threadpoolctl]\n",
      "   ---------------------------------------- 0/5 [threadpoolctl]\n",
      "      Successfully uninstalled threadpoolctl-3.6.0\n",
      "   ---------------------------------------- 0/5 [threadpoolctl]\n",
      "  Attempting uninstall: numpy\n",
      "   ---------------------------------------- 0/5 [threadpoolctl]\n",
      "    Found existing installation: numpy 2.2.6\n",
      "   ---------------------------------------- 0/5 [threadpoolctl]\n",
      "   -------- ------------------------------- 1/5 [numpy]\n",
      "    Uninstalling numpy-2.2.6:\n",
      "   -------- ------------------------------- 1/5 [numpy]\n",
      "      Successfully uninstalled numpy-2.2.6\n",
      "   -------- ------------------------------- 1/5 [numpy]\n",
      "   -------- ------------------------------- 1/5 [numpy]\n",
      "   -------- ------------------------------- 1/5 [numpy]\n",
      "   -------- ------------------------------- 1/5 [numpy]\n",
      "   -------- ------------------------------- 1/5 [numpy]\n",
      "   -------- ------------------------------- 1/5 [numpy]\n",
      "   -------- ------------------------------- 1/5 [numpy]\n",
      "   -------- ------------------------------- 1/5 [numpy]\n",
      "   -------- ------------------------------- 1/5 [numpy]\n",
      "   -------- ------------------------------- 1/5 [numpy]\n",
      "   -------- ------------------------------- 1/5 [numpy]\n",
      "   -------- ------------------------------- 1/5 [numpy]\n",
      "   -------- ------------------------------- 1/5 [numpy]\n",
      "   -------- ------------------------------- 1/5 [numpy]\n",
      "   -------- ------------------------------- 1/5 [numpy]\n",
      "   -------- ------------------------------- 1/5 [numpy]\n",
      "   -------- ------------------------------- 1/5 [numpy]\n",
      "   -------- ------------------------------- 1/5 [numpy]\n",
      "   -------- ------------------------------- 1/5 [numpy]\n",
      "   -------- ------------------------------- 1/5 [numpy]\n",
      "   -------- ------------------------------- 1/5 [numpy]\n",
      "   -------- ------------------------------- 1/5 [numpy]\n",
      "   -------- ------------------------------- 1/5 [numpy]\n",
      "   -------- ------------------------------- 1/5 [numpy]\n",
      "   -------- ------------------------------- 1/5 [numpy]\n",
      "   -------- ------------------------------- 1/5 [numpy]\n",
      "   -------- ------------------------------- 1/5 [numpy]\n",
      "   -------- ------------------------------- 1/5 [numpy]\n",
      "   -------- ------------------------------- 1/5 [numpy]\n",
      "   -------- ------------------------------- 1/5 [numpy]\n",
      "   -------- ------------------------------- 1/5 [numpy]\n",
      "   -------- ------------------------------- 1/5 [numpy]\n",
      "   -------- ------------------------------- 1/5 [numpy]\n",
      "   -------- ------------------------------- 1/5 [numpy]\n",
      "   -------- ------------------------------- 1/5 [numpy]\n",
      "   -------- ------------------------------- 1/5 [numpy]\n",
      "   -------- ------------------------------- 1/5 [numpy]\n",
      "   -------- ------------------------------- 1/5 [numpy]\n",
      "   -------- ------------------------------- 1/5 [numpy]\n",
      "   -------- ------------------------------- 1/5 [numpy]\n",
      "   -------- ------------------------------- 1/5 [numpy]\n",
      "   -------- ------------------------------- 1/5 [numpy]\n",
      "   -------- ------------------------------- 1/5 [numpy]\n",
      "   -------- ------------------------------- 1/5 [numpy]\n",
      "   -------- ------------------------------- 1/5 [numpy]\n",
      "   -------- ------------------------------- 1/5 [numpy]\n",
      "  Attempting uninstall: joblib\n",
      "   -------- ------------------------------- 1/5 [numpy]\n",
      "    Found existing installation: joblib 1.5.1\n",
      "   -------- ------------------------------- 1/5 [numpy]\n",
      "    Uninstalling joblib-1.5.1:\n",
      "   -------- ------------------------------- 1/5 [numpy]\n",
      "      Successfully uninstalled joblib-1.5.1\n",
      "   -------- ------------------------------- 1/5 [numpy]\n",
      "   ---------------- ----------------------- 2/5 [joblib]\n",
      "   ---------------- ----------------------- 2/5 [joblib]\n",
      "  Attempting uninstall: scipy\n",
      "   ---------------- ----------------------- 2/5 [joblib]\n",
      "    Found existing installation: scipy 1.16.1\n",
      "   ---------------- ----------------------- 2/5 [joblib]\n",
      "   ------------------------ --------------- 3/5 [scipy]\n",
      "    Uninstalling scipy-1.16.1:\n",
      "   ------------------------ --------------- 3/5 [scipy]\n",
      "      Successfully uninstalled scipy-1.16.1\n",
      "   ------------------------ --------------- 3/5 [scipy]\n",
      "   ------------------------ --------------- 3/5 [scipy]\n",
      "   ------------------------ --------------- 3/5 [scipy]\n",
      "   ------------------------ --------------- 3/5 [scipy]\n",
      "   ------------------------ --------------- 3/5 [scipy]\n",
      "   ------------------------ --------------- 3/5 [scipy]\n",
      "   ------------------------ --------------- 3/5 [scipy]\n",
      "   ------------------------ --------------- 3/5 [scipy]\n",
      "   ------------------------ --------------- 3/5 [scipy]\n",
      "   ------------------------ --------------- 3/5 [scipy]\n",
      "   ------------------------ --------------- 3/5 [scipy]\n",
      "   ------------------------ --------------- 3/5 [scipy]\n",
      "   ------------------------ --------------- 3/5 [scipy]\n",
      "   ------------------------ --------------- 3/5 [scipy]\n",
      "   ------------------------ --------------- 3/5 [scipy]\n",
      "   ------------------------ --------------- 3/5 [scipy]\n",
      "   ------------------------ --------------- 3/5 [scipy]\n",
      "   ------------------------ --------------- 3/5 [scipy]\n",
      "   ------------------------ --------------- 3/5 [scipy]\n",
      "   ------------------------ --------------- 3/5 [scipy]\n",
      "   ------------------------ --------------- 3/5 [scipy]\n",
      "   ------------------------ --------------- 3/5 [scipy]\n",
      "   ------------------------ --------------- 3/5 [scipy]\n",
      "   ------------------------ --------------- 3/5 [scipy]\n",
      "   ------------------------ --------------- 3/5 [scipy]\n",
      "   ------------------------ --------------- 3/5 [scipy]\n",
      "   ------------------------ --------------- 3/5 [scipy]\n",
      "   ------------------------ --------------- 3/5 [scipy]\n",
      "   ------------------------ --------------- 3/5 [scipy]\n",
      "   ------------------------ --------------- 3/5 [scipy]\n",
      "   ------------------------ --------------- 3/5 [scipy]\n",
      "   ------------------------ --------------- 3/5 [scipy]\n",
      "   ------------------------ --------------- 3/5 [scipy]\n",
      "   ------------------------ --------------- 3/5 [scipy]\n",
      "   ------------------------ --------------- 3/5 [scipy]\n",
      "   ------------------------ --------------- 3/5 [scipy]\n",
      "   ------------------------ --------------- 3/5 [scipy]\n",
      "   ------------------------ --------------- 3/5 [scipy]\n",
      "   ------------------------ --------------- 3/5 [scipy]\n",
      "   ------------------------ --------------- 3/5 [scipy]\n",
      "   ------------------------ --------------- 3/5 [scipy]\n",
      "   ------------------------ --------------- 3/5 [scipy]\n",
      "   ------------------------ --------------- 3/5 [scipy]\n",
      "   ------------------------ --------------- 3/5 [scipy]\n",
      "   ------------------------ --------------- 3/5 [scipy]\n",
      "   ------------------------ --------------- 3/5 [scipy]\n",
      "   ------------------------ --------------- 3/5 [scipy]\n",
      "   ------------------------ --------------- 3/5 [scipy]\n",
      "   ------------------------ --------------- 3/5 [scipy]\n",
      "   ------------------------ --------------- 3/5 [scipy]\n",
      "   ------------------------ --------------- 3/5 [scipy]\n",
      "   ------------------------ --------------- 3/5 [scipy]\n",
      "   ------------------------ --------------- 3/5 [scipy]\n",
      "   ------------------------ --------------- 3/5 [scipy]\n",
      "   ------------------------ --------------- 3/5 [scipy]\n",
      "   ------------------------ --------------- 3/5 [scipy]\n",
      "   ------------------------ --------------- 3/5 [scipy]\n",
      "  Attempting uninstall: scikit-learn\n",
      "   ------------------------ --------------- 3/5 [scipy]\n",
      "    Found existing installation: scikit-learn 1.7.1\n",
      "   ------------------------ --------------- 3/5 [scipy]\n",
      "    Uninstalling scikit-learn-1.7.1:\n",
      "   ------------------------ --------------- 3/5 [scipy]\n",
      "      Successfully uninstalled scikit-learn-1.7.1\n",
      "   ------------------------ --------------- 3/5 [scipy]\n",
      "   -------------------------------- ------- 4/5 [scikit-learn]\n",
      "   -------------------------------- ------- 4/5 [scikit-learn]\n",
      "   -------------------------------- ------- 4/5 [scikit-learn]\n",
      "   -------------------------------- ------- 4/5 [scikit-learn]\n",
      "   -------------------------------- ------- 4/5 [scikit-learn]\n",
      "   -------------------------------- ------- 4/5 [scikit-learn]\n",
      "   -------------------------------- ------- 4/5 [scikit-learn]\n",
      "   -------------------------------- ------- 4/5 [scikit-learn]\n",
      "   -------------------------------- ------- 4/5 [scikit-learn]\n",
      "   -------------------------------- ------- 4/5 [scikit-learn]\n",
      "   -------------------------------- ------- 4/5 [scikit-learn]\n",
      "   -------------------------------- ------- 4/5 [scikit-learn]\n",
      "   -------------------------------- ------- 4/5 [scikit-learn]\n",
      "   -------------------------------- ------- 4/5 [scikit-learn]\n",
      "   -------------------------------- ------- 4/5 [scikit-learn]\n",
      "   -------------------------------- ------- 4/5 [scikit-learn]\n",
      "   -------------------------------- ------- 4/5 [scikit-learn]\n",
      "   -------------------------------- ------- 4/5 [scikit-learn]\n",
      "   -------------------------------- ------- 4/5 [scikit-learn]\n",
      "   -------------------------------- ------- 4/5 [scikit-learn]\n",
      "   -------------------------------- ------- 4/5 [scikit-learn]\n",
      "   -------------------------------- ------- 4/5 [scikit-learn]\n",
      "   -------------------------------- ------- 4/5 [scikit-learn]\n",
      "   -------------------------------- ------- 4/5 [scikit-learn]\n",
      "   -------------------------------- ------- 4/5 [scikit-learn]\n",
      "   -------------------------------- ------- 4/5 [scikit-learn]\n",
      "   -------------------------------- ------- 4/5 [scikit-learn]\n",
      "   -------------------------------- ------- 4/5 [scikit-learn]\n",
      "   -------------------------------- ------- 4/5 [scikit-learn]\n",
      "   ---------------------------------------- 5/5 [scikit-learn]\n",
      "\n",
      "Successfully installed joblib-1.4.2 numpy-2.1.3 scikit-learn-1.6.1 scipy-1.15.3 threadpoolctl-3.5.0\n"
     ]
    },
    {
     "name": "stderr",
     "output_type": "stream",
     "text": [
      "  WARNING: Failed to remove contents in a temporary directory 'C:\\Users\\ADMIN\\AppData\\Roaming\\Python\\Python313\\site-packages\\~umpy.libs'.\n",
      "  You can safely remove it manually.\n",
      "  WARNING: Failed to remove contents in a temporary directory 'C:\\Users\\ADMIN\\AppData\\Roaming\\Python\\Python313\\site-packages\\~umpy'.\n",
      "  You can safely remove it manually.\n",
      "  WARNING: Failed to remove contents in a temporary directory 'C:\\Users\\ADMIN\\AppData\\Roaming\\Python\\Python313\\site-packages\\~cipy.libs'.\n",
      "  You can safely remove it manually.\n",
      "  WARNING: Failed to remove contents in a temporary directory 'C:\\Users\\ADMIN\\AppData\\Roaming\\Python\\Python313\\site-packages\\~cipy'.\n",
      "  You can safely remove it manually.\n",
      "  WARNING: Failed to remove contents in a temporary directory 'C:\\Users\\ADMIN\\AppData\\Roaming\\Python\\Python313\\site-packages\\~klearn'.\n",
      "  You can safely remove it manually.\n",
      "ERROR: pip's dependency resolver does not currently take into account all the packages that are installed. This behaviour is the source of the following dependency conflicts.\n",
      "numba 0.61.2 requires numpy<2.3,>=1.24, but you have numpy 2.3.2 which is incompatible.\n",
      "sklearn-compat 0.1.3 requires scikit-learn<1.7,>=1.2, but you have scikit-learn 1.7.1 which is incompatible.\n",
      "streamlit 1.45.1 requires packaging<25,>=20, but you have packaging 25.0 which is incompatible.\n"
     ]
    }
   ],
   "source": [
    "!pip install --force-reinstall scikit-learn"
   ]
  },
  {
   "cell_type": "code",
   "execution_count": 35,
   "id": "db1ed318-6e74-4427-824c-190f90a4eaf5",
   "metadata": {},
   "outputs": [
    {
     "ename": "ModuleNotFoundError",
     "evalue": "No module named 'sklearn'",
     "output_type": "error",
     "traceback": [
      "\u001b[1;31m---------------------------------------------------------------------------\u001b[0m",
      "\u001b[1;31mModuleNotFoundError\u001b[0m                       Traceback (most recent call last)",
      "Cell \u001b[1;32mIn[35], line 1\u001b[0m\n\u001b[1;32m----> 1\u001b[0m \u001b[38;5;28;01mfrom\u001b[39;00m\u001b[38;5;250m \u001b[39m\u001b[38;5;21;01msklearn\u001b[39;00m\u001b[38;5;21;01m.\u001b[39;00m\u001b[38;5;21;01mmodel_selection\u001b[39;00m\u001b[38;5;250m \u001b[39m\u001b[38;5;28;01mimport\u001b[39;00m train_test_split\n\u001b[0;32m      3\u001b[0m \u001b[38;5;66;03m# Split speakers\u001b[39;00m\n\u001b[0;32m      4\u001b[0m spk_list \u001b[38;5;241m=\u001b[39m \u001b[38;5;28mlist\u001b[39m(spk2utts\u001b[38;5;241m.\u001b[39mkeys())\n",
      "\u001b[1;31mModuleNotFoundError\u001b[0m: No module named 'sklearn'"
     ]
    }
   ],
   "source": [
    "from sklearn.model_selection import train_test_split\n",
    "\n",
    "# Split speakers\n",
    "spk_list = list(spk2utts.keys())\n",
    "train_spks, val_spks = train_test_split(spk_list, test_size=0.2, random_state=42)\n",
    "\n",
    "# Split dictionaries\n",
    "spk2utts_train = {spk: spk2utts[spk] for spk in train_spks}\n",
    "spk2utts_val = {spk: spk2utts[spk] for spk in val_spks}\n"
   ]
  },
  {
   "cell_type": "markdown",
   "id": "1537c0c5-9899-49ce-954e-2174e4310cac",
   "metadata": {},
   "source": [
    "###### Using torch.utils for splitting"
   ]
  },
  {
   "cell_type": "code",
   "execution_count": 27,
   "id": "b71df4f2-0aa5-494c-9135-79048f234456",
   "metadata": {},
   "outputs": [],
   "source": [
    "import torch\n",
    "from torch.utils.data import random_split\n",
    "\n",
    "# Convert dict keys to list\n",
    "spk_list = list(spk2utts.keys())\n",
    "\n",
    "#Convert to a torch Dataset-like object (just a list is fine here)\n",
    "total_spks = len(spk_list)\n",
    "train_size = int(0.8 * total_spks)\n",
    "val_size = total_spks - train_size\n",
    "\n",
    "#Set manual seed for reproducibility (like random_state=42)\n",
    "generator = torch.Generator().manual_seed(42)\n",
    "\n",
    "#Use random_split\n",
    "train_subset, val_subset = random_split(spk_list, [train_size, val_size], generator=generator)\n",
    "\n",
    "#Convert back to dictionaries\n",
    "spk2utts_train = {spk: spk2utts[spk] for spk in train_subset}\n",
    "spk2utts_val = {spk: spk2utts[spk] for spk in val_subset}\n"
   ]
  },
  {
   "cell_type": "code",
   "execution_count": 28,
   "id": "36962948-d4a4-484a-a904-cfe25bc795c3",
   "metadata": {},
   "outputs": [
    {
     "name": "stdout",
     "output_type": "stream",
     "text": [
      "[GE2ESampler] Initialized with 194 speakers\n",
      "[GE2ESampler] Initialized with 48 speakers\n"
     ]
    }
   ],
   "source": [
    "NUM_TRAIN_BATCHES = 500  # Match steps_per_epoch\n",
    "NUM_VAL_BATCHES = 100\n",
    "# Train loader\n",
    "train_sampler = GE2ESampler(spk2utts_train, N_SPK, M_UTT)\n",
    "train_dataset = GE2EDataset(train_sampler, SEGMENT_FRAMES, num_batches=NUM_TRAIN_BATCHES)\n",
    "train_loader = DataLoader(train_dataset, batch_size=1, shuffle=True, num_workers=0)\n",
    "# Validation loader\n",
    "val_sampler = GE2ESampler(spk2utts_val, N_SPK, M_UTT)\n",
    "val_dataset = GE2EDataset(val_sampler, SEGMENT_FRAMES, num_batches=NUM_VAL_BATCHES)\n",
    "val_loader =DataLoader(val_dataset, batch_size=1, shuffle=False, num_workers=0)\n",
    "\n",
    "\n",
    "#train_dataset = GE2EDataset(train_sampler, SEGMENT_FRAMES)\n",
    "#train_loader = DataLoader(train_dataset, batch_size=1, shuffle=False, num_workers=0, pin_memory=PIN_MEMORY)\n",
    "#val_dataset = GE2EDataset(val_sampler, SEGMENT_FRAMES)\n",
    "#val_loader = DataLoader(val_dataset, batch_size=1, shuffle=False, num_workers=0, pin_memory=PIN_MEMORY)"
   ]
  },
  {
   "cell_type": "code",
   "execution_count": 30,
   "id": "d4a7c911-5d61-4df9-80d2-0abe88221a30",
   "metadata": {
    "scrolled": true
   },
   "outputs": [
    {
     "name": "stderr",
     "output_type": "stream",
     "text": [
      "Epoch 1/100:   5%|██▍                                            | 102/2000 [00:06<01:57, 16.14it/s]"
     ]
    },
    {
     "name": "stdout",
     "output_type": "stream",
     "text": [
      "[Epoch 1 | Step 100/2000] Loss: 1.5396\n"
     ]
    },
    {
     "name": "stderr",
     "output_type": "stream",
     "text": [
      "Epoch 1/100:  10%|████▋                                          | 202/2000 [00:12<01:49, 16.38it/s]"
     ]
    },
    {
     "name": "stdout",
     "output_type": "stream",
     "text": [
      "[Epoch 1 | Step 200/2000] Loss: 1.3867\n"
     ]
    },
    {
     "name": "stderr",
     "output_type": "stream",
     "text": [
      "Epoch 1/100:  15%|███████                                        | 302/2000 [00:19<01:47, 15.76it/s]"
     ]
    },
    {
     "name": "stdout",
     "output_type": "stream",
     "text": [
      "[Epoch 1 | Step 300/2000] Loss: 1.3867\n"
     ]
    },
    {
     "name": "stderr",
     "output_type": "stream",
     "text": [
      "Epoch 1/100:  20%|█████████▍                                     | 402/2000 [00:25<02:14, 11.88it/s]"
     ]
    },
    {
     "name": "stdout",
     "output_type": "stream",
     "text": [
      "[Epoch 1 | Step 400/2000] Loss: 1.3867\n"
     ]
    },
    {
     "name": "stderr",
     "output_type": "stream",
     "text": [
      "Epoch 1/100:  25%|███████████▊                                   | 502/2000 [00:32<01:30, 16.56it/s]"
     ]
    },
    {
     "name": "stdout",
     "output_type": "stream",
     "text": [
      "[Epoch 1 | Step 500/2000] Loss: 1.3870\n"
     ]
    },
    {
     "name": "stderr",
     "output_type": "stream",
     "text": [
      "Epoch 1/100:  30%|██████████████▏                                | 602/2000 [00:38<01:26, 16.24it/s]"
     ]
    },
    {
     "name": "stdout",
     "output_type": "stream",
     "text": [
      "[Epoch 1 | Step 600/2000] Loss: 1.3869\n"
     ]
    },
    {
     "name": "stderr",
     "output_type": "stream",
     "text": [
      "Epoch 1/100:  35%|████████████████▍                              | 702/2000 [00:44<01:17, 16.76it/s]"
     ]
    },
    {
     "name": "stdout",
     "output_type": "stream",
     "text": [
      "[Epoch 1 | Step 700/2000] Loss: 1.3286\n"
     ]
    },
    {
     "name": "stderr",
     "output_type": "stream",
     "text": [
      "Epoch 1/100:  40%|██████████████████▊                            | 802/2000 [00:50<01:11, 16.84it/s]"
     ]
    },
    {
     "name": "stdout",
     "output_type": "stream",
     "text": [
      "[Epoch 1 | Step 800/2000] Loss: 1.3867\n"
     ]
    },
    {
     "name": "stderr",
     "output_type": "stream",
     "text": [
      "Epoch 1/100:  45%|█████████████████████▏                         | 900/2000 [00:57<01:44, 10.56it/s]"
     ]
    },
    {
     "name": "stdout",
     "output_type": "stream",
     "text": [
      "[Epoch 1 | Step 900/2000] Loss: 1.3867\n"
     ]
    },
    {
     "name": "stderr",
     "output_type": "stream",
     "text": [
      "Epoch 1/100:  50%|███████████████████████                       | 1001/2000 [01:07<01:36, 10.36it/s]"
     ]
    },
    {
     "name": "stdout",
     "output_type": "stream",
     "text": [
      "[Epoch 1 | Step 1000/2000] Loss: 1.3867\n"
     ]
    },
    {
     "name": "stderr",
     "output_type": "stream",
     "text": [
      "Epoch 1/100:  55%|█████████████████████████▎                    | 1101/2000 [01:16<01:17, 11.55it/s]"
     ]
    },
    {
     "name": "stdout",
     "output_type": "stream",
     "text": [
      "[Epoch 1 | Step 1100/2000] Loss: 1.3867\n"
     ]
    },
    {
     "name": "stderr",
     "output_type": "stream",
     "text": [
      "Epoch 1/100:  60%|███████████████████████████▌                  | 1201/2000 [01:25<01:11, 11.19it/s]"
     ]
    },
    {
     "name": "stdout",
     "output_type": "stream",
     "text": [
      "[Epoch 1 | Step 1200/2000] Loss: 1.3867\n"
     ]
    },
    {
     "name": "stderr",
     "output_type": "stream",
     "text": [
      "Epoch 1/100:  65%|█████████████████████████████▉                | 1301/2000 [01:35<01:08, 10.23it/s]"
     ]
    },
    {
     "name": "stdout",
     "output_type": "stream",
     "text": [
      "[Epoch 1 | Step 1300/2000] Loss: 1.3867\n"
     ]
    },
    {
     "name": "stderr",
     "output_type": "stream",
     "text": [
      "Epoch 1/100:  70%|████████████████████████████████▏             | 1401/2000 [01:44<00:50, 11.93it/s]"
     ]
    },
    {
     "name": "stdout",
     "output_type": "stream",
     "text": [
      "[Epoch 1 | Step 1400/2000] Loss: 1.3867\n"
     ]
    },
    {
     "name": "stderr",
     "output_type": "stream",
     "text": [
      "Epoch 1/100:  75%|██████████████████████████████████▌           | 1501/2000 [01:52<00:42, 11.68it/s]"
     ]
    },
    {
     "name": "stdout",
     "output_type": "stream",
     "text": [
      "[Epoch 1 | Step 1500/2000] Loss: 1.3867\n"
     ]
    },
    {
     "name": "stderr",
     "output_type": "stream",
     "text": [
      "Epoch 1/100:  80%|████████████████████████████████████▊         | 1601/2000 [02:01<00:34, 11.44it/s]"
     ]
    },
    {
     "name": "stdout",
     "output_type": "stream",
     "text": [
      "[Epoch 1 | Step 1600/2000] Loss: 1.3867\n"
     ]
    },
    {
     "name": "stderr",
     "output_type": "stream",
     "text": [
      "Epoch 1/100:  85%|███████████████████████████████████████       | 1701/2000 [02:10<00:23, 12.57it/s]"
     ]
    },
    {
     "name": "stdout",
     "output_type": "stream",
     "text": [
      "[Epoch 1 | Step 1700/2000] Loss: 1.3867\n"
     ]
    },
    {
     "name": "stderr",
     "output_type": "stream",
     "text": [
      "Epoch 1/100:  90%|█████████████████████████████████████████▍    | 1801/2000 [02:18<00:15, 12.96it/s]"
     ]
    },
    {
     "name": "stdout",
     "output_type": "stream",
     "text": [
      "[Epoch 1 | Step 1800/2000] Loss: 1.3867\n"
     ]
    },
    {
     "name": "stderr",
     "output_type": "stream",
     "text": [
      "Epoch 1/100:  95%|███████████████████████████████████████████▋  | 1901/2000 [02:26<00:08, 11.77it/s]"
     ]
    },
    {
     "name": "stdout",
     "output_type": "stream",
     "text": [
      "[Epoch 1 | Step 1900/2000] Loss: 1.3861\n"
     ]
    },
    {
     "name": "stderr",
     "output_type": "stream",
     "text": [
      "                                                                                                    "
     ]
    },
    {
     "name": "stdout",
     "output_type": "stream",
     "text": [
      "[Epoch 1 | Step 2000/2000] Loss: 1.3861\n",
      "\n",
      "[Epoch 1/100] Time: 154.3s | AvgTrainLoss: 1.3799\n",
      "[Validation] ValLoss: 1.3856\n",
      "✔ Saved best model: C:\\Users\\ADMIN\\Downloads\\SSP\\checkpoints\\encoder\\best_model.pt\n"
     ]
    },
    {
     "name": "stderr",
     "output_type": "stream",
     "text": [
      "Epoch 2/100:   5%|██▍                                            | 102/2000 [00:08<02:36, 12.13it/s]"
     ]
    },
    {
     "name": "stdout",
     "output_type": "stream",
     "text": [
      "[Epoch 2 | Step 100/2000] Loss: 1.3867\n"
     ]
    },
    {
     "name": "stderr",
     "output_type": "stream",
     "text": [
      "Epoch 2/100:  10%|████▋                                          | 202/2000 [00:15<02:13, 13.48it/s]"
     ]
    },
    {
     "name": "stdout",
     "output_type": "stream",
     "text": [
      "[Epoch 2 | Step 200/2000] Loss: 1.3867\n"
     ]
    },
    {
     "name": "stderr",
     "output_type": "stream",
     "text": [
      "Epoch 2/100:  15%|███████                                        | 302/2000 [00:23<02:07, 13.34it/s]"
     ]
    },
    {
     "name": "stdout",
     "output_type": "stream",
     "text": [
      "[Epoch 2 | Step 300/2000] Loss: 1.3867\n"
     ]
    },
    {
     "name": "stderr",
     "output_type": "stream",
     "text": [
      "Epoch 2/100:  20%|█████████▍                                     | 402/2000 [00:31<01:55, 13.81it/s]"
     ]
    },
    {
     "name": "stdout",
     "output_type": "stream",
     "text": [
      "[Epoch 2 | Step 400/2000] Loss: 1.3867\n"
     ]
    },
    {
     "name": "stderr",
     "output_type": "stream",
     "text": [
      "Epoch 2/100:  25%|███████████▊                                   | 502/2000 [00:38<01:49, 13.70it/s]"
     ]
    },
    {
     "name": "stdout",
     "output_type": "stream",
     "text": [
      "[Epoch 2 | Step 500/2000] Loss: 1.3867\n"
     ]
    },
    {
     "name": "stderr",
     "output_type": "stream",
     "text": [
      "Epoch 2/100:  30%|██████████████▏                                | 602/2000 [00:45<01:45, 13.19it/s]"
     ]
    },
    {
     "name": "stdout",
     "output_type": "stream",
     "text": [
      "[Epoch 2 | Step 600/2000] Loss: 1.3867\n"
     ]
    },
    {
     "name": "stderr",
     "output_type": "stream",
     "text": [
      "Epoch 2/100:  35%|████████████████▍                              | 702/2000 [00:53<01:32, 14.10it/s]"
     ]
    },
    {
     "name": "stdout",
     "output_type": "stream",
     "text": [
      "[Epoch 2 | Step 700/2000] Loss: 1.3867\n"
     ]
    },
    {
     "name": "stderr",
     "output_type": "stream",
     "text": [
      "Epoch 2/100:  40%|██████████████████▊                            | 802/2000 [01:00<01:25, 14.08it/s]"
     ]
    },
    {
     "name": "stdout",
     "output_type": "stream",
     "text": [
      "[Epoch 2 | Step 800/2000] Loss: 1.3867\n"
     ]
    },
    {
     "name": "stderr",
     "output_type": "stream",
     "text": [
      "Epoch 2/100:  45%|█████████████████████▏                         | 902/2000 [01:08<01:19, 13.73it/s]"
     ]
    },
    {
     "name": "stdout",
     "output_type": "stream",
     "text": [
      "[Epoch 2 | Step 900/2000] Loss: 1.3867\n"
     ]
    },
    {
     "name": "stderr",
     "output_type": "stream",
     "text": [
      "Epoch 2/100:  50%|███████████████████████                       | 1002/2000 [01:15<01:11, 13.96it/s]"
     ]
    },
    {
     "name": "stdout",
     "output_type": "stream",
     "text": [
      "[Epoch 2 | Step 1000/2000] Loss: 1.3867\n"
     ]
    },
    {
     "name": "stderr",
     "output_type": "stream",
     "text": [
      "Epoch 2/100:  55%|█████████████████████████▎                    | 1102/2000 [01:22<01:02, 14.41it/s]"
     ]
    },
    {
     "name": "stdout",
     "output_type": "stream",
     "text": [
      "[Epoch 2 | Step 1100/2000] Loss: 1.3858\n"
     ]
    },
    {
     "name": "stderr",
     "output_type": "stream",
     "text": [
      "Epoch 2/100:  60%|███████████████████████████▋                  | 1202/2000 [01:29<00:53, 14.89it/s]"
     ]
    },
    {
     "name": "stdout",
     "output_type": "stream",
     "text": [
      "[Epoch 2 | Step 1200/2000] Loss: 1.3746\n"
     ]
    },
    {
     "name": "stderr",
     "output_type": "stream",
     "text": [
      "Epoch 2/100:  65%|█████████████████████████████▉                | 1302/2000 [01:35<00:48, 14.40it/s]"
     ]
    },
    {
     "name": "stdout",
     "output_type": "stream",
     "text": [
      "[Epoch 2 | Step 1300/2000] Loss: 1.3857\n"
     ]
    },
    {
     "name": "stderr",
     "output_type": "stream",
     "text": [
      "Epoch 2/100:  70%|████████████████████████████████▏             | 1402/2000 [01:42<00:40, 14.94it/s]"
     ]
    },
    {
     "name": "stdout",
     "output_type": "stream",
     "text": [
      "[Epoch 2 | Step 1400/2000] Loss: 1.3856\n"
     ]
    },
    {
     "name": "stderr",
     "output_type": "stream",
     "text": [
      "Epoch 2/100:  75%|██████████████████████████████████▌           | 1502/2000 [01:49<00:33, 14.86it/s]"
     ]
    },
    {
     "name": "stdout",
     "output_type": "stream",
     "text": [
      "[Epoch 2 | Step 1500/2000] Loss: 1.3862\n"
     ]
    },
    {
     "name": "stderr",
     "output_type": "stream",
     "text": [
      "Epoch 2/100:  80%|████████████████████████████████████▊         | 1602/2000 [01:56<00:25, 15.34it/s]"
     ]
    },
    {
     "name": "stdout",
     "output_type": "stream",
     "text": [
      "[Epoch 2 | Step 1600/2000] Loss: 1.3712\n"
     ]
    },
    {
     "name": "stderr",
     "output_type": "stream",
     "text": [
      "Epoch 2/100:  85%|███████████████████████████████████████▏      | 1702/2000 [02:03<00:21, 14.01it/s]"
     ]
    },
    {
     "name": "stdout",
     "output_type": "stream",
     "text": [
      "[Epoch 2 | Step 1700/2000] Loss: 1.3867\n"
     ]
    },
    {
     "name": "stderr",
     "output_type": "stream",
     "text": [
      "Epoch 2/100:  90%|█████████████████████████████████████████▍    | 1802/2000 [02:09<00:12, 15.23it/s]"
     ]
    },
    {
     "name": "stdout",
     "output_type": "stream",
     "text": [
      "[Epoch 2 | Step 1800/2000] Loss: 1.3867\n"
     ]
    },
    {
     "name": "stderr",
     "output_type": "stream",
     "text": [
      "Epoch 2/100:  95%|███████████████████████████████████████████▋  | 1902/2000 [02:16<00:06, 15.15it/s]"
     ]
    },
    {
     "name": "stdout",
     "output_type": "stream",
     "text": [
      "[Epoch 2 | Step 1900/2000] Loss: 1.3867\n"
     ]
    },
    {
     "name": "stderr",
     "output_type": "stream",
     "text": [
      "                                                                                                    "
     ]
    },
    {
     "name": "stdout",
     "output_type": "stream",
     "text": [
      "[Epoch 2 | Step 2000/2000] Loss: 1.3867\n",
      "\n",
      "[Epoch 2/100] Time: 143.0s | AvgTrainLoss: 1.3848\n",
      "[Validation] ValLoss: 1.3867\n",
      "Patience counter: 1/15\n"
     ]
    },
    {
     "name": "stderr",
     "output_type": "stream",
     "text": [
      "Epoch 3/100:   5%|██▍                                            | 102/2000 [00:06<02:09, 14.66it/s]"
     ]
    },
    {
     "name": "stdout",
     "output_type": "stream",
     "text": [
      "[Epoch 3 | Step 100/2000] Loss: 1.3867\n"
     ]
    },
    {
     "name": "stderr",
     "output_type": "stream",
     "text": [
      "Epoch 3/100:  10%|████▋                                          | 202/2000 [00:13<02:00, 14.97it/s]"
     ]
    },
    {
     "name": "stdout",
     "output_type": "stream",
     "text": [
      "[Epoch 3 | Step 200/2000] Loss: 1.3867\n"
     ]
    },
    {
     "name": "stderr",
     "output_type": "stream",
     "text": [
      "Epoch 3/100:  15%|███████                                        | 302/2000 [00:19<01:50, 15.42it/s]"
     ]
    },
    {
     "name": "stdout",
     "output_type": "stream",
     "text": [
      "[Epoch 3 | Step 300/2000] Loss: 1.3867\n"
     ]
    },
    {
     "name": "stderr",
     "output_type": "stream",
     "text": [
      "Epoch 3/100:  20%|█████████▍                                     | 402/2000 [00:26<01:41, 15.80it/s]"
     ]
    },
    {
     "name": "stdout",
     "output_type": "stream",
     "text": [
      "[Epoch 3 | Step 400/2000] Loss: 1.3867\n"
     ]
    },
    {
     "name": "stderr",
     "output_type": "stream",
     "text": [
      "Epoch 3/100:  25%|███████████▊                                   | 502/2000 [00:33<01:36, 15.48it/s]"
     ]
    },
    {
     "name": "stdout",
     "output_type": "stream",
     "text": [
      "[Epoch 3 | Step 500/2000] Loss: 1.3867\n"
     ]
    },
    {
     "name": "stderr",
     "output_type": "stream",
     "text": [
      "Epoch 3/100:  30%|██████████████▏                                | 602/2000 [00:39<01:30, 15.48it/s]"
     ]
    },
    {
     "name": "stdout",
     "output_type": "stream",
     "text": [
      "[Epoch 3 | Step 600/2000] Loss: 1.3867\n"
     ]
    },
    {
     "name": "stderr",
     "output_type": "stream",
     "text": [
      "Epoch 3/100:  35%|████████████████▍                              | 702/2000 [00:46<01:29, 14.56it/s]"
     ]
    },
    {
     "name": "stdout",
     "output_type": "stream",
     "text": [
      "[Epoch 3 | Step 700/2000] Loss: 1.3867\n"
     ]
    },
    {
     "name": "stderr",
     "output_type": "stream",
     "text": [
      "Epoch 3/100:  40%|██████████████████▊                            | 802/2000 [00:52<01:14, 16.08it/s]"
     ]
    },
    {
     "name": "stdout",
     "output_type": "stream",
     "text": [
      "[Epoch 3 | Step 800/2000] Loss: 1.3867\n"
     ]
    },
    {
     "name": "stderr",
     "output_type": "stream",
     "text": [
      "Epoch 3/100:  45%|█████████████████████▏                         | 902/2000 [00:59<01:09, 15.85it/s]"
     ]
    },
    {
     "name": "stdout",
     "output_type": "stream",
     "text": [
      "[Epoch 3 | Step 900/2000] Loss: 1.3867\n"
     ]
    },
    {
     "name": "stderr",
     "output_type": "stream",
     "text": [
      "Epoch 3/100:  50%|███████████████████████                       | 1002/2000 [01:05<01:02, 15.97it/s]"
     ]
    },
    {
     "name": "stdout",
     "output_type": "stream",
     "text": [
      "[Epoch 3 | Step 1000/2000] Loss: 1.3864\n"
     ]
    },
    {
     "name": "stderr",
     "output_type": "stream",
     "text": [
      "Epoch 3/100:  55%|█████████████████████████▎                    | 1102/2000 [01:11<00:58, 15.27it/s]"
     ]
    },
    {
     "name": "stdout",
     "output_type": "stream",
     "text": [
      "[Epoch 3 | Step 1100/2000] Loss: 1.3867\n"
     ]
    },
    {
     "name": "stderr",
     "output_type": "stream",
     "text": [
      "Epoch 3/100:  60%|███████████████████████████▋                  | 1202/2000 [01:18<00:51, 15.44it/s]"
     ]
    },
    {
     "name": "stdout",
     "output_type": "stream",
     "text": [
      "[Epoch 3 | Step 1200/2000] Loss: 1.3867\n"
     ]
    },
    {
     "name": "stderr",
     "output_type": "stream",
     "text": [
      "Epoch 3/100:  65%|█████████████████████████████▉                | 1302/2000 [01:24<00:43, 16.08it/s]"
     ]
    },
    {
     "name": "stdout",
     "output_type": "stream",
     "text": [
      "[Epoch 3 | Step 1300/2000] Loss: 1.3867\n"
     ]
    },
    {
     "name": "stderr",
     "output_type": "stream",
     "text": [
      "Epoch 3/100:  70%|████████████████████████████████▏             | 1402/2000 [01:31<00:37, 15.89it/s]"
     ]
    },
    {
     "name": "stdout",
     "output_type": "stream",
     "text": [
      "[Epoch 3 | Step 1400/2000] Loss: 1.3867\n"
     ]
    },
    {
     "name": "stderr",
     "output_type": "stream",
     "text": [
      "Epoch 3/100:  75%|██████████████████████████████████▌           | 1502/2000 [01:37<00:31, 15.75it/s]"
     ]
    },
    {
     "name": "stdout",
     "output_type": "stream",
     "text": [
      "[Epoch 3 | Step 1500/2000] Loss: 1.3867\n"
     ]
    },
    {
     "name": "stderr",
     "output_type": "stream",
     "text": [
      "Epoch 3/100:  80%|████████████████████████████████████▊         | 1602/2000 [01:44<00:27, 14.46it/s]"
     ]
    },
    {
     "name": "stdout",
     "output_type": "stream",
     "text": [
      "[Epoch 3 | Step 1600/2000] Loss: 1.3867\n"
     ]
    },
    {
     "name": "stderr",
     "output_type": "stream",
     "text": [
      "Epoch 3/100:  85%|███████████████████████████████████████▏      | 1702/2000 [01:50<00:19, 15.60it/s]"
     ]
    },
    {
     "name": "stdout",
     "output_type": "stream",
     "text": [
      "[Epoch 3 | Step 1700/2000] Loss: 1.3867\n"
     ]
    },
    {
     "name": "stderr",
     "output_type": "stream",
     "text": [
      "Epoch 3/100:  90%|█████████████████████████████████████████▍    | 1802/2000 [01:56<00:13, 15.14it/s]"
     ]
    },
    {
     "name": "stdout",
     "output_type": "stream",
     "text": [
      "[Epoch 3 | Step 1800/2000] Loss: 1.3867\n"
     ]
    },
    {
     "name": "stderr",
     "output_type": "stream",
     "text": [
      "Epoch 3/100:  95%|███████████████████████████████████████████▋  | 1902/2000 [02:03<00:06, 15.78it/s]"
     ]
    },
    {
     "name": "stdout",
     "output_type": "stream",
     "text": [
      "[Epoch 3 | Step 1900/2000] Loss: 1.3867\n"
     ]
    },
    {
     "name": "stderr",
     "output_type": "stream",
     "text": [
      "                                                                                                    "
     ]
    },
    {
     "name": "stdout",
     "output_type": "stream",
     "text": [
      "[Epoch 3 | Step 2000/2000] Loss: 1.3867\n",
      "\n",
      "[Epoch 3/100] Time: 129.3s | AvgTrainLoss: 1.3867\n",
      "[Validation] ValLoss: 1.3867\n",
      "Patience counter: 2/15\n"
     ]
    },
    {
     "name": "stderr",
     "output_type": "stream",
     "text": [
      "Epoch 4/100:   5%|██▍                                            | 102/2000 [00:06<02:02, 15.46it/s]"
     ]
    },
    {
     "name": "stdout",
     "output_type": "stream",
     "text": [
      "[Epoch 4 | Step 100/2000] Loss: 1.3867\n"
     ]
    },
    {
     "name": "stderr",
     "output_type": "stream",
     "text": [
      "Epoch 4/100:  10%|████▋                                          | 202/2000 [00:12<01:50, 16.23it/s]"
     ]
    },
    {
     "name": "stdout",
     "output_type": "stream",
     "text": [
      "[Epoch 4 | Step 200/2000] Loss: 1.3867\n"
     ]
    },
    {
     "name": "stderr",
     "output_type": "stream",
     "text": [
      "Epoch 4/100:  15%|███████                                        | 302/2000 [00:19<01:47, 15.83it/s]"
     ]
    },
    {
     "name": "stdout",
     "output_type": "stream",
     "text": [
      "[Epoch 4 | Step 300/2000] Loss: 1.3865\n"
     ]
    },
    {
     "name": "stderr",
     "output_type": "stream",
     "text": [
      "Epoch 4/100:  20%|█████████▍                                     | 402/2000 [00:25<01:36, 16.59it/s]"
     ]
    },
    {
     "name": "stdout",
     "output_type": "stream",
     "text": [
      "[Epoch 4 | Step 400/2000] Loss: 1.3864\n"
     ]
    },
    {
     "name": "stderr",
     "output_type": "stream",
     "text": [
      "Epoch 4/100:  25%|███████████▊                                   | 502/2000 [00:31<01:36, 15.47it/s]"
     ]
    },
    {
     "name": "stdout",
     "output_type": "stream",
     "text": [
      "[Epoch 4 | Step 500/2000] Loss: 1.3863\n"
     ]
    },
    {
     "name": "stderr",
     "output_type": "stream",
     "text": [
      "Epoch 4/100:  30%|██████████████▏                                | 602/2000 [00:37<01:26, 16.21it/s]"
     ]
    },
    {
     "name": "stdout",
     "output_type": "stream",
     "text": [
      "[Epoch 4 | Step 600/2000] Loss: 1.3867\n"
     ]
    },
    {
     "name": "stderr",
     "output_type": "stream",
     "text": [
      "Epoch 4/100:  35%|████████████████▍                              | 702/2000 [00:44<01:19, 16.25it/s]"
     ]
    },
    {
     "name": "stdout",
     "output_type": "stream",
     "text": [
      "[Epoch 4 | Step 700/2000] Loss: 1.3867\n"
     ]
    },
    {
     "name": "stderr",
     "output_type": "stream",
     "text": [
      "Epoch 4/100:  40%|██████████████████▊                            | 802/2000 [00:50<01:13, 16.26it/s]"
     ]
    },
    {
     "name": "stdout",
     "output_type": "stream",
     "text": [
      "[Epoch 4 | Step 800/2000] Loss: 1.3867\n"
     ]
    },
    {
     "name": "stderr",
     "output_type": "stream",
     "text": [
      "Epoch 4/100:  45%|█████████████████████▏                         | 902/2000 [00:56<01:09, 15.88it/s]"
     ]
    },
    {
     "name": "stdout",
     "output_type": "stream",
     "text": [
      "[Epoch 4 | Step 900/2000] Loss: 1.3867\n"
     ]
    },
    {
     "name": "stderr",
     "output_type": "stream",
     "text": [
      "Epoch 4/100:  50%|███████████████████████                       | 1002/2000 [01:02<01:02, 15.87it/s]"
     ]
    },
    {
     "name": "stdout",
     "output_type": "stream",
     "text": [
      "[Epoch 4 | Step 1000/2000] Loss: 1.3867\n"
     ]
    },
    {
     "name": "stderr",
     "output_type": "stream",
     "text": [
      "Epoch 4/100:  55%|█████████████████████████▎                    | 1102/2000 [01:09<00:57, 15.72it/s]"
     ]
    },
    {
     "name": "stdout",
     "output_type": "stream",
     "text": [
      "[Epoch 4 | Step 1100/2000] Loss: 1.3867\n"
     ]
    },
    {
     "name": "stderr",
     "output_type": "stream",
     "text": [
      "Epoch 4/100:  60%|███████████████████████████▋                  | 1202/2000 [01:15<00:51, 15.64it/s]"
     ]
    },
    {
     "name": "stdout",
     "output_type": "stream",
     "text": [
      "[Epoch 4 | Step 1200/2000] Loss: 1.3867\n"
     ]
    },
    {
     "name": "stderr",
     "output_type": "stream",
     "text": [
      "Epoch 4/100:  65%|█████████████████████████████▉                | 1302/2000 [01:21<00:43, 16.18it/s]"
     ]
    },
    {
     "name": "stdout",
     "output_type": "stream",
     "text": [
      "[Epoch 4 | Step 1300/2000] Loss: 1.3867\n"
     ]
    },
    {
     "name": "stderr",
     "output_type": "stream",
     "text": [
      "Epoch 4/100:  70%|████████████████████████████████▏             | 1402/2000 [01:27<00:36, 16.44it/s]"
     ]
    },
    {
     "name": "stdout",
     "output_type": "stream",
     "text": [
      "[Epoch 4 | Step 1400/2000] Loss: 1.3867\n"
     ]
    },
    {
     "name": "stderr",
     "output_type": "stream",
     "text": [
      "Epoch 4/100:  75%|██████████████████████████████████▌           | 1502/2000 [01:33<00:32, 15.54it/s]"
     ]
    },
    {
     "name": "stdout",
     "output_type": "stream",
     "text": [
      "[Epoch 4 | Step 1500/2000] Loss: 1.3867\n"
     ]
    },
    {
     "name": "stderr",
     "output_type": "stream",
     "text": [
      "Epoch 4/100:  80%|████████████████████████████████████▊         | 1602/2000 [01:40<00:24, 16.28it/s]"
     ]
    },
    {
     "name": "stdout",
     "output_type": "stream",
     "text": [
      "[Epoch 4 | Step 1600/2000] Loss: 1.3867\n"
     ]
    },
    {
     "name": "stderr",
     "output_type": "stream",
     "text": [
      "Epoch 4/100:  85%|███████████████████████████████████████▏      | 1702/2000 [01:46<00:18, 16.26it/s]"
     ]
    },
    {
     "name": "stdout",
     "output_type": "stream",
     "text": [
      "[Epoch 4 | Step 1700/2000] Loss: 1.3867\n"
     ]
    },
    {
     "name": "stderr",
     "output_type": "stream",
     "text": [
      "Epoch 4/100:  90%|█████████████████████████████████████████▍    | 1802/2000 [01:52<00:12, 15.63it/s]"
     ]
    },
    {
     "name": "stdout",
     "output_type": "stream",
     "text": [
      "[Epoch 4 | Step 1800/2000] Loss: 1.3867\n"
     ]
    },
    {
     "name": "stderr",
     "output_type": "stream",
     "text": [
      "Epoch 4/100:  95%|███████████████████████████████████████████▋  | 1902/2000 [01:58<00:06, 16.15it/s]"
     ]
    },
    {
     "name": "stdout",
     "output_type": "stream",
     "text": [
      "[Epoch 4 | Step 1900/2000] Loss: 1.3867\n"
     ]
    },
    {
     "name": "stderr",
     "output_type": "stream",
     "text": [
      "                                                                                                    "
     ]
    },
    {
     "name": "stdout",
     "output_type": "stream",
     "text": [
      "[Epoch 4 | Step 2000/2000] Loss: 1.3867\n",
      "\n",
      "[Epoch 4/100] Time: 124.8s | AvgTrainLoss: 1.3867\n",
      "[Validation] ValLoss: 1.3867\n",
      "Patience counter: 3/15\n"
     ]
    },
    {
     "name": "stderr",
     "output_type": "stream",
     "text": [
      "Epoch 5/100:   5%|██▍                                            | 102/2000 [00:06<01:57, 16.22it/s]"
     ]
    },
    {
     "name": "stdout",
     "output_type": "stream",
     "text": [
      "[Epoch 5 | Step 100/2000] Loss: 1.3867\n"
     ]
    },
    {
     "name": "stderr",
     "output_type": "stream",
     "text": [
      "Epoch 5/100:  10%|████▋                                          | 202/2000 [00:12<01:50, 16.32it/s]"
     ]
    },
    {
     "name": "stdout",
     "output_type": "stream",
     "text": [
      "[Epoch 5 | Step 200/2000] Loss: 1.3867\n"
     ]
    },
    {
     "name": "stderr",
     "output_type": "stream",
     "text": [
      "Epoch 5/100:  15%|███████                                        | 302/2000 [00:18<01:43, 16.39it/s]"
     ]
    },
    {
     "name": "stdout",
     "output_type": "stream",
     "text": [
      "[Epoch 5 | Step 300/2000] Loss: 1.3867\n"
     ]
    },
    {
     "name": "stderr",
     "output_type": "stream",
     "text": [
      "Epoch 5/100:  20%|█████████▍                                     | 402/2000 [00:24<01:41, 15.75it/s]"
     ]
    },
    {
     "name": "stdout",
     "output_type": "stream",
     "text": [
      "[Epoch 5 | Step 400/2000] Loss: 1.3867\n"
     ]
    },
    {
     "name": "stderr",
     "output_type": "stream",
     "text": [
      "Epoch 5/100:  25%|███████████▊                                   | 502/2000 [00:30<01:32, 16.27it/s]"
     ]
    },
    {
     "name": "stdout",
     "output_type": "stream",
     "text": [
      "[Epoch 5 | Step 500/2000] Loss: 1.3867\n"
     ]
    },
    {
     "name": "stderr",
     "output_type": "stream",
     "text": [
      "Epoch 5/100:  30%|██████████████▏                                | 602/2000 [00:37<01:25, 16.42it/s]"
     ]
    },
    {
     "name": "stdout",
     "output_type": "stream",
     "text": [
      "[Epoch 5 | Step 600/2000] Loss: 1.3867\n"
     ]
    },
    {
     "name": "stderr",
     "output_type": "stream",
     "text": [
      "Epoch 5/100:  35%|████████████████▍                              | 702/2000 [00:43<01:21, 15.88it/s]"
     ]
    },
    {
     "name": "stdout",
     "output_type": "stream",
     "text": [
      "[Epoch 5 | Step 700/2000] Loss: 1.3867\n"
     ]
    },
    {
     "name": "stderr",
     "output_type": "stream",
     "text": [
      "Epoch 5/100:  40%|██████████████████▊                            | 802/2000 [00:49<01:15, 15.77it/s]"
     ]
    },
    {
     "name": "stdout",
     "output_type": "stream",
     "text": [
      "[Epoch 5 | Step 800/2000] Loss: 1.3867\n"
     ]
    },
    {
     "name": "stderr",
     "output_type": "stream",
     "text": [
      "Epoch 5/100:  45%|█████████████████████▏                         | 902/2000 [00:55<01:06, 16.48it/s]"
     ]
    },
    {
     "name": "stdout",
     "output_type": "stream",
     "text": [
      "[Epoch 5 | Step 900/2000] Loss: 1.3867\n"
     ]
    },
    {
     "name": "stderr",
     "output_type": "stream",
     "text": [
      "Epoch 5/100:  50%|███████████████████████                       | 1002/2000 [01:01<01:00, 16.54it/s]"
     ]
    },
    {
     "name": "stdout",
     "output_type": "stream",
     "text": [
      "[Epoch 5 | Step 1000/2000] Loss: 1.3867\n"
     ]
    },
    {
     "name": "stderr",
     "output_type": "stream",
     "text": [
      "Epoch 5/100:  55%|█████████████████████████▎                    | 1102/2000 [01:07<00:55, 16.12it/s]"
     ]
    },
    {
     "name": "stdout",
     "output_type": "stream",
     "text": [
      "[Epoch 5 | Step 1100/2000] Loss: 1.3867\n"
     ]
    },
    {
     "name": "stderr",
     "output_type": "stream",
     "text": [
      "Epoch 5/100:  60%|███████████████████████████▋                  | 1202/2000 [01:13<00:49, 16.06it/s]"
     ]
    },
    {
     "name": "stdout",
     "output_type": "stream",
     "text": [
      "[Epoch 5 | Step 1200/2000] Loss: 1.3867\n"
     ]
    },
    {
     "name": "stderr",
     "output_type": "stream",
     "text": [
      "Epoch 5/100:  65%|█████████████████████████████▉                | 1302/2000 [01:20<00:44, 15.70it/s]"
     ]
    },
    {
     "name": "stdout",
     "output_type": "stream",
     "text": [
      "[Epoch 5 | Step 1300/2000] Loss: 1.3867\n"
     ]
    },
    {
     "name": "stderr",
     "output_type": "stream",
     "text": [
      "Epoch 5/100:  70%|████████████████████████████████▏             | 1402/2000 [01:26<00:36, 16.27it/s]"
     ]
    },
    {
     "name": "stdout",
     "output_type": "stream",
     "text": [
      "[Epoch 5 | Step 1400/2000] Loss: 1.3867\n"
     ]
    },
    {
     "name": "stderr",
     "output_type": "stream",
     "text": [
      "Epoch 5/100:  75%|██████████████████████████████████▌           | 1502/2000 [01:32<00:30, 16.27it/s]"
     ]
    },
    {
     "name": "stdout",
     "output_type": "stream",
     "text": [
      "[Epoch 5 | Step 1500/2000] Loss: 1.3867\n"
     ]
    },
    {
     "name": "stderr",
     "output_type": "stream",
     "text": [
      "Epoch 5/100:  80%|████████████████████████████████████▊         | 1602/2000 [01:38<00:24, 15.96it/s]"
     ]
    },
    {
     "name": "stdout",
     "output_type": "stream",
     "text": [
      "[Epoch 5 | Step 1600/2000] Loss: 1.3867\n"
     ]
    },
    {
     "name": "stderr",
     "output_type": "stream",
     "text": [
      "Epoch 5/100:  85%|███████████████████████████████████████▏      | 1702/2000 [01:44<00:18, 16.15it/s]"
     ]
    },
    {
     "name": "stdout",
     "output_type": "stream",
     "text": [
      "[Epoch 5 | Step 1700/2000] Loss: 1.3867\n"
     ]
    },
    {
     "name": "stderr",
     "output_type": "stream",
     "text": [
      "Epoch 5/100:  90%|█████████████████████████████████████████▍    | 1802/2000 [01:50<00:12, 16.18it/s]"
     ]
    },
    {
     "name": "stdout",
     "output_type": "stream",
     "text": [
      "[Epoch 5 | Step 1800/2000] Loss: 1.3867\n"
     ]
    },
    {
     "name": "stderr",
     "output_type": "stream",
     "text": [
      "Epoch 5/100:  95%|███████████████████████████████████████████▋  | 1902/2000 [01:56<00:06, 16.30it/s]"
     ]
    },
    {
     "name": "stdout",
     "output_type": "stream",
     "text": [
      "[Epoch 5 | Step 1900/2000] Loss: 1.3867\n"
     ]
    },
    {
     "name": "stderr",
     "output_type": "stream",
     "text": [
      "                                                                                                    "
     ]
    },
    {
     "name": "stdout",
     "output_type": "stream",
     "text": [
      "[Epoch 5 | Step 2000/2000] Loss: 1.3867\n",
      "\n",
      "[Epoch 5/100] Time: 122.7s | AvgTrainLoss: 1.3867\n",
      "[Validation] ValLoss: 1.3867\n",
      "Patience counter: 4/15\n"
     ]
    },
    {
     "name": "stderr",
     "output_type": "stream",
     "text": [
      "Epoch 6/100:   5%|██▍                                            | 102/2000 [00:06<01:56, 16.27it/s]"
     ]
    },
    {
     "name": "stdout",
     "output_type": "stream",
     "text": [
      "[Epoch 6 | Step 100/2000] Loss: 1.3867\n"
     ]
    },
    {
     "name": "stderr",
     "output_type": "stream",
     "text": [
      "Epoch 6/100:  10%|████▋                                          | 202/2000 [00:12<01:50, 16.34it/s]"
     ]
    },
    {
     "name": "stdout",
     "output_type": "stream",
     "text": [
      "[Epoch 6 | Step 200/2000] Loss: 1.3867\n"
     ]
    },
    {
     "name": "stderr",
     "output_type": "stream",
     "text": [
      "Epoch 6/100:  15%|███████                                        | 302/2000 [00:18<01:43, 16.42it/s]"
     ]
    },
    {
     "name": "stdout",
     "output_type": "stream",
     "text": [
      "[Epoch 6 | Step 300/2000] Loss: 1.3867\n"
     ]
    },
    {
     "name": "stderr",
     "output_type": "stream",
     "text": [
      "Epoch 6/100:  20%|█████████▍                                     | 402/2000 [00:24<01:37, 16.43it/s]"
     ]
    },
    {
     "name": "stdout",
     "output_type": "stream",
     "text": [
      "[Epoch 6 | Step 400/2000] Loss: 1.3867\n"
     ]
    },
    {
     "name": "stderr",
     "output_type": "stream",
     "text": [
      "Epoch 6/100:  25%|███████████▊                                   | 502/2000 [00:30<01:32, 16.13it/s]"
     ]
    },
    {
     "name": "stdout",
     "output_type": "stream",
     "text": [
      "[Epoch 6 | Step 500/2000] Loss: 1.3867\n"
     ]
    },
    {
     "name": "stderr",
     "output_type": "stream",
     "text": [
      "Epoch 6/100:  30%|██████████████▏                                | 602/2000 [00:36<01:25, 16.34it/s]"
     ]
    },
    {
     "name": "stdout",
     "output_type": "stream",
     "text": [
      "[Epoch 6 | Step 600/2000] Loss: 1.3867\n"
     ]
    },
    {
     "name": "stderr",
     "output_type": "stream",
     "text": [
      "Epoch 6/100:  35%|████████████████▍                              | 702/2000 [00:42<01:17, 16.83it/s]"
     ]
    },
    {
     "name": "stdout",
     "output_type": "stream",
     "text": [
      "[Epoch 6 | Step 700/2000] Loss: 1.3867\n"
     ]
    },
    {
     "name": "stderr",
     "output_type": "stream",
     "text": [
      "Epoch 6/100:  40%|██████████████████▊                            | 802/2000 [00:48<01:10, 16.96it/s]"
     ]
    },
    {
     "name": "stdout",
     "output_type": "stream",
     "text": [
      "[Epoch 6 | Step 800/2000] Loss: 1.3867\n"
     ]
    },
    {
     "name": "stderr",
     "output_type": "stream",
     "text": [
      "Epoch 6/100:  45%|█████████████████████▏                         | 902/2000 [00:54<01:07, 16.24it/s]"
     ]
    },
    {
     "name": "stdout",
     "output_type": "stream",
     "text": [
      "[Epoch 6 | Step 900/2000] Loss: 1.3867\n"
     ]
    },
    {
     "name": "stderr",
     "output_type": "stream",
     "text": [
      "Epoch 6/100:  50%|███████████████████████                       | 1002/2000 [01:00<00:59, 16.91it/s]"
     ]
    },
    {
     "name": "stdout",
     "output_type": "stream",
     "text": [
      "[Epoch 6 | Step 1000/2000] Loss: 1.3867\n"
     ]
    },
    {
     "name": "stderr",
     "output_type": "stream",
     "text": [
      "Epoch 6/100:  55%|█████████████████████████▎                    | 1102/2000 [01:06<00:53, 16.90it/s]"
     ]
    },
    {
     "name": "stdout",
     "output_type": "stream",
     "text": [
      "[Epoch 6 | Step 1100/2000] Loss: 1.3867\n"
     ]
    },
    {
     "name": "stderr",
     "output_type": "stream",
     "text": [
      "Epoch 6/100:  60%|███████████████████████████▋                  | 1202/2000 [01:13<00:48, 16.46it/s]"
     ]
    },
    {
     "name": "stdout",
     "output_type": "stream",
     "text": [
      "[Epoch 6 | Step 1200/2000] Loss: 1.3867\n"
     ]
    },
    {
     "name": "stderr",
     "output_type": "stream",
     "text": [
      "Epoch 6/100:  65%|█████████████████████████████▉                | 1302/2000 [01:19<00:42, 16.49it/s]"
     ]
    },
    {
     "name": "stdout",
     "output_type": "stream",
     "text": [
      "[Epoch 6 | Step 1300/2000] Loss: 1.3867\n"
     ]
    },
    {
     "name": "stderr",
     "output_type": "stream",
     "text": [
      "Epoch 6/100:  70%|████████████████████████████████▏             | 1402/2000 [01:25<00:36, 16.40it/s]"
     ]
    },
    {
     "name": "stdout",
     "output_type": "stream",
     "text": [
      "[Epoch 6 | Step 1400/2000] Loss: 1.3867\n"
     ]
    },
    {
     "name": "stderr",
     "output_type": "stream",
     "text": [
      "Epoch 6/100:  75%|██████████████████████████████████▌           | 1502/2000 [01:31<00:30, 16.48it/s]"
     ]
    },
    {
     "name": "stdout",
     "output_type": "stream",
     "text": [
      "[Epoch 6 | Step 1500/2000] Loss: 1.3867\n"
     ]
    },
    {
     "name": "stderr",
     "output_type": "stream",
     "text": [
      "Epoch 6/100:  80%|████████████████████████████████████▊         | 1602/2000 [01:37<00:23, 16.84it/s]"
     ]
    },
    {
     "name": "stdout",
     "output_type": "stream",
     "text": [
      "[Epoch 6 | Step 1600/2000] Loss: 1.3867\n"
     ]
    },
    {
     "name": "stderr",
     "output_type": "stream",
     "text": [
      "Epoch 6/100:  85%|███████████████████████████████████████▏      | 1702/2000 [01:43<00:18, 16.32it/s]"
     ]
    },
    {
     "name": "stdout",
     "output_type": "stream",
     "text": [
      "[Epoch 6 | Step 1700/2000] Loss: 1.3867\n"
     ]
    },
    {
     "name": "stderr",
     "output_type": "stream",
     "text": [
      "Epoch 6/100:  90%|█████████████████████████████████████████▍    | 1802/2000 [01:49<00:12, 16.39it/s]"
     ]
    },
    {
     "name": "stdout",
     "output_type": "stream",
     "text": [
      "[Epoch 6 | Step 1800/2000] Loss: 1.3867\n"
     ]
    },
    {
     "name": "stderr",
     "output_type": "stream",
     "text": [
      "Epoch 6/100:  95%|███████████████████████████████████████████▋  | 1902/2000 [01:55<00:05, 16.78it/s]"
     ]
    },
    {
     "name": "stdout",
     "output_type": "stream",
     "text": [
      "[Epoch 6 | Step 1900/2000] Loss: 1.3867\n"
     ]
    },
    {
     "name": "stderr",
     "output_type": "stream",
     "text": [
      "                                                                                                    "
     ]
    },
    {
     "name": "stdout",
     "output_type": "stream",
     "text": [
      "[Epoch 6 | Step 2000/2000] Loss: 1.3867\n",
      "\n",
      "[Epoch 6/100] Time: 121.5s | AvgTrainLoss: 1.3867\n",
      "[Validation] ValLoss: 1.3867\n",
      "Patience counter: 5/15\n"
     ]
    },
    {
     "name": "stderr",
     "output_type": "stream",
     "text": [
      "Epoch 7/100:   5%|██▍                                            | 102/2000 [00:06<01:52, 16.92it/s]"
     ]
    },
    {
     "name": "stdout",
     "output_type": "stream",
     "text": [
      "[Epoch 7 | Step 100/2000] Loss: 1.3867\n"
     ]
    },
    {
     "name": "stderr",
     "output_type": "stream",
     "text": [
      "Epoch 7/100:  10%|████▋                                          | 202/2000 [00:12<01:48, 16.58it/s]"
     ]
    },
    {
     "name": "stdout",
     "output_type": "stream",
     "text": [
      "[Epoch 7 | Step 200/2000] Loss: 1.3867\n"
     ]
    },
    {
     "name": "stderr",
     "output_type": "stream",
     "text": [
      "Epoch 7/100:  15%|███████                                        | 302/2000 [00:18<01:44, 16.28it/s]"
     ]
    },
    {
     "name": "stdout",
     "output_type": "stream",
     "text": [
      "[Epoch 7 | Step 300/2000] Loss: 1.3867\n"
     ]
    },
    {
     "name": "stderr",
     "output_type": "stream",
     "text": [
      "Epoch 7/100:  20%|█████████▍                                     | 402/2000 [00:24<01:35, 16.75it/s]"
     ]
    },
    {
     "name": "stdout",
     "output_type": "stream",
     "text": [
      "[Epoch 7 | Step 400/2000] Loss: 1.3867\n"
     ]
    },
    {
     "name": "stderr",
     "output_type": "stream",
     "text": [
      "Epoch 7/100:  25%|███████████▊                                   | 502/2000 [00:30<01:30, 16.51it/s]"
     ]
    },
    {
     "name": "stdout",
     "output_type": "stream",
     "text": [
      "[Epoch 7 | Step 500/2000] Loss: 1.3867\n"
     ]
    },
    {
     "name": "stderr",
     "output_type": "stream",
     "text": [
      "Epoch 7/100:  30%|██████████████▏                                | 602/2000 [00:36<01:24, 16.49it/s]"
     ]
    },
    {
     "name": "stdout",
     "output_type": "stream",
     "text": [
      "[Epoch 7 | Step 600/2000] Loss: 1.3867\n"
     ]
    },
    {
     "name": "stderr",
     "output_type": "stream",
     "text": [
      "Epoch 7/100:  35%|████████████████▍                              | 702/2000 [00:42<01:19, 16.32it/s]"
     ]
    },
    {
     "name": "stdout",
     "output_type": "stream",
     "text": [
      "[Epoch 7 | Step 700/2000] Loss: 1.3867\n"
     ]
    },
    {
     "name": "stderr",
     "output_type": "stream",
     "text": [
      "Epoch 7/100:  40%|██████████████████▊                            | 802/2000 [00:48<01:11, 16.64it/s]"
     ]
    },
    {
     "name": "stdout",
     "output_type": "stream",
     "text": [
      "[Epoch 7 | Step 800/2000] Loss: 1.3867\n"
     ]
    },
    {
     "name": "stderr",
     "output_type": "stream",
     "text": [
      "Epoch 7/100:  45%|█████████████████████▏                         | 902/2000 [00:54<01:07, 16.31it/s]"
     ]
    },
    {
     "name": "stdout",
     "output_type": "stream",
     "text": [
      "[Epoch 7 | Step 900/2000] Loss: 1.3867\n"
     ]
    },
    {
     "name": "stderr",
     "output_type": "stream",
     "text": [
      "Epoch 7/100:  50%|███████████████████████                       | 1002/2000 [01:00<01:00, 16.37it/s]"
     ]
    },
    {
     "name": "stdout",
     "output_type": "stream",
     "text": [
      "[Epoch 7 | Step 1000/2000] Loss: 1.3867\n"
     ]
    },
    {
     "name": "stderr",
     "output_type": "stream",
     "text": [
      "Epoch 7/100:  55%|█████████████████████████▎                    | 1102/2000 [01:06<00:53, 16.65it/s]"
     ]
    },
    {
     "name": "stdout",
     "output_type": "stream",
     "text": [
      "[Epoch 7 | Step 1100/2000] Loss: 1.3867\n"
     ]
    },
    {
     "name": "stderr",
     "output_type": "stream",
     "text": [
      "Epoch 7/100:  60%|███████████████████████████▋                  | 1202/2000 [01:13<00:48, 16.32it/s]"
     ]
    },
    {
     "name": "stdout",
     "output_type": "stream",
     "text": [
      "[Epoch 7 | Step 1200/2000] Loss: 1.3867\n"
     ]
    },
    {
     "name": "stderr",
     "output_type": "stream",
     "text": [
      "Epoch 7/100:  65%|█████████████████████████████▉                | 1302/2000 [01:19<00:42, 16.32it/s]"
     ]
    },
    {
     "name": "stdout",
     "output_type": "stream",
     "text": [
      "[Epoch 7 | Step 1300/2000] Loss: 1.3867\n"
     ]
    },
    {
     "name": "stderr",
     "output_type": "stream",
     "text": [
      "Epoch 7/100:  70%|████████████████████████████████▏             | 1402/2000 [01:25<00:36, 16.29it/s]"
     ]
    },
    {
     "name": "stdout",
     "output_type": "stream",
     "text": [
      "[Epoch 7 | Step 1400/2000] Loss: 1.3867\n"
     ]
    },
    {
     "name": "stderr",
     "output_type": "stream",
     "text": [
      "Epoch 7/100:  75%|██████████████████████████████████▌           | 1502/2000 [01:31<00:30, 16.57it/s]"
     ]
    },
    {
     "name": "stdout",
     "output_type": "stream",
     "text": [
      "[Epoch 7 | Step 1500/2000] Loss: 1.3867\n"
     ]
    },
    {
     "name": "stderr",
     "output_type": "stream",
     "text": [
      "Epoch 7/100:  80%|████████████████████████████████████▊         | 1602/2000 [01:37<00:24, 16.27it/s]"
     ]
    },
    {
     "name": "stdout",
     "output_type": "stream",
     "text": [
      "[Epoch 7 | Step 1600/2000] Loss: 1.3867\n"
     ]
    },
    {
     "name": "stderr",
     "output_type": "stream",
     "text": [
      "Epoch 7/100:  85%|███████████████████████████████████████▏      | 1702/2000 [01:43<00:18, 16.38it/s]"
     ]
    },
    {
     "name": "stdout",
     "output_type": "stream",
     "text": [
      "[Epoch 7 | Step 1700/2000] Loss: 1.3867\n"
     ]
    },
    {
     "name": "stderr",
     "output_type": "stream",
     "text": [
      "Epoch 7/100:  90%|█████████████████████████████████████████▍    | 1802/2000 [01:49<00:11, 16.98it/s]"
     ]
    },
    {
     "name": "stdout",
     "output_type": "stream",
     "text": [
      "[Epoch 7 | Step 1800/2000] Loss: 1.3867\n"
     ]
    },
    {
     "name": "stderr",
     "output_type": "stream",
     "text": [
      "Epoch 7/100:  95%|███████████████████████████████████████████▋  | 1902/2000 [01:55<00:06, 16.21it/s]"
     ]
    },
    {
     "name": "stdout",
     "output_type": "stream",
     "text": [
      "[Epoch 7 | Step 1900/2000] Loss: 1.3867\n"
     ]
    },
    {
     "name": "stderr",
     "output_type": "stream",
     "text": [
      "                                                                                                    "
     ]
    },
    {
     "name": "stdout",
     "output_type": "stream",
     "text": [
      "[Epoch 7 | Step 2000/2000] Loss: 1.3867\n",
      "\n",
      "[Epoch 7/100] Time: 121.5s | AvgTrainLoss: 1.3867\n",
      "[Validation] ValLoss: 1.3867\n",
      "Patience counter: 6/15\n"
     ]
    },
    {
     "name": "stderr",
     "output_type": "stream",
     "text": [
      "Epoch 8/100:   5%|██▍                                            | 102/2000 [00:06<01:55, 16.38it/s]"
     ]
    },
    {
     "name": "stdout",
     "output_type": "stream",
     "text": [
      "[Epoch 8 | Step 100/2000] Loss: 1.3867\n"
     ]
    },
    {
     "name": "stderr",
     "output_type": "stream",
     "text": [
      "Epoch 8/100:  10%|████▋                                          | 202/2000 [00:12<01:49, 16.38it/s]"
     ]
    },
    {
     "name": "stdout",
     "output_type": "stream",
     "text": [
      "[Epoch 8 | Step 200/2000] Loss: 1.3867\n"
     ]
    },
    {
     "name": "stderr",
     "output_type": "stream",
     "text": [
      "Epoch 8/100:  15%|███████                                        | 302/2000 [00:18<01:44, 16.23it/s]"
     ]
    },
    {
     "name": "stdout",
     "output_type": "stream",
     "text": [
      "[Epoch 8 | Step 300/2000] Loss: 1.3867\n"
     ]
    },
    {
     "name": "stderr",
     "output_type": "stream",
     "text": [
      "Epoch 8/100:  20%|█████████▍                                     | 402/2000 [00:24<01:37, 16.46it/s]"
     ]
    },
    {
     "name": "stdout",
     "output_type": "stream",
     "text": [
      "[Epoch 8 | Step 400/2000] Loss: 1.3867\n"
     ]
    },
    {
     "name": "stderr",
     "output_type": "stream",
     "text": [
      "Epoch 8/100:  25%|███████████▊                                   | 502/2000 [00:30<01:31, 16.45it/s]"
     ]
    },
    {
     "name": "stdout",
     "output_type": "stream",
     "text": [
      "[Epoch 8 | Step 500/2000] Loss: 1.3867\n"
     ]
    },
    {
     "name": "stderr",
     "output_type": "stream",
     "text": [
      "Epoch 8/100:  30%|██████████████▏                                | 602/2000 [00:36<01:25, 16.41it/s]"
     ]
    },
    {
     "name": "stdout",
     "output_type": "stream",
     "text": [
      "[Epoch 8 | Step 600/2000] Loss: 1.3867\n"
     ]
    },
    {
     "name": "stderr",
     "output_type": "stream",
     "text": [
      "Epoch 8/100:  35%|████████████████▍                              | 702/2000 [00:42<01:20, 16.16it/s]"
     ]
    },
    {
     "name": "stdout",
     "output_type": "stream",
     "text": [
      "[Epoch 8 | Step 700/2000] Loss: 1.3867\n"
     ]
    },
    {
     "name": "stderr",
     "output_type": "stream",
     "text": [
      "Epoch 8/100:  40%|██████████████████▊                            | 802/2000 [00:48<01:13, 16.35it/s]"
     ]
    },
    {
     "name": "stdout",
     "output_type": "stream",
     "text": [
      "[Epoch 8 | Step 800/2000] Loss: 1.3867\n"
     ]
    },
    {
     "name": "stderr",
     "output_type": "stream",
     "text": [
      "Epoch 8/100:  45%|█████████████████████▏                         | 902/2000 [00:54<01:06, 16.42it/s]"
     ]
    },
    {
     "name": "stdout",
     "output_type": "stream",
     "text": [
      "[Epoch 8 | Step 900/2000] Loss: 1.3867\n"
     ]
    },
    {
     "name": "stderr",
     "output_type": "stream",
     "text": [
      "Epoch 8/100:  50%|███████████████████████                       | 1002/2000 [01:00<01:00, 16.42it/s]"
     ]
    },
    {
     "name": "stdout",
     "output_type": "stream",
     "text": [
      "[Epoch 8 | Step 1000/2000] Loss: 1.3867\n"
     ]
    },
    {
     "name": "stderr",
     "output_type": "stream",
     "text": [
      "Epoch 8/100:  55%|█████████████████████████▎                    | 1102/2000 [01:06<00:53, 16.73it/s]"
     ]
    },
    {
     "name": "stdout",
     "output_type": "stream",
     "text": [
      "[Epoch 8 | Step 1100/2000] Loss: 1.3867\n"
     ]
    },
    {
     "name": "stderr",
     "output_type": "stream",
     "text": [
      "Epoch 8/100:  60%|███████████████████████████▋                  | 1202/2000 [01:12<00:48, 16.32it/s]"
     ]
    },
    {
     "name": "stdout",
     "output_type": "stream",
     "text": [
      "[Epoch 8 | Step 1200/2000] Loss: 1.3867\n"
     ]
    },
    {
     "name": "stderr",
     "output_type": "stream",
     "text": [
      "Epoch 8/100:  65%|█████████████████████████████▉                | 1302/2000 [01:18<00:42, 16.49it/s]"
     ]
    },
    {
     "name": "stdout",
     "output_type": "stream",
     "text": [
      "[Epoch 8 | Step 1300/2000] Loss: 1.3867\n"
     ]
    },
    {
     "name": "stderr",
     "output_type": "stream",
     "text": [
      "Epoch 8/100:  70%|████████████████████████████████▏             | 1402/2000 [01:25<00:36, 16.30it/s]"
     ]
    },
    {
     "name": "stdout",
     "output_type": "stream",
     "text": [
      "[Epoch 8 | Step 1400/2000] Loss: 1.3867\n"
     ]
    },
    {
     "name": "stderr",
     "output_type": "stream",
     "text": [
      "Epoch 8/100:  75%|██████████████████████████████████▌           | 1502/2000 [01:31<00:30, 16.54it/s]"
     ]
    },
    {
     "name": "stdout",
     "output_type": "stream",
     "text": [
      "[Epoch 8 | Step 1500/2000] Loss: 1.3867\n"
     ]
    },
    {
     "name": "stderr",
     "output_type": "stream",
     "text": [
      "Epoch 8/100:  80%|████████████████████████████████████▊         | 1602/2000 [01:37<00:24, 16.27it/s]"
     ]
    },
    {
     "name": "stdout",
     "output_type": "stream",
     "text": [
      "[Epoch 8 | Step 1600/2000] Loss: 1.3867\n"
     ]
    },
    {
     "name": "stderr",
     "output_type": "stream",
     "text": [
      "Epoch 8/100:  85%|███████████████████████████████████████▏      | 1702/2000 [01:43<00:17, 16.56it/s]"
     ]
    },
    {
     "name": "stdout",
     "output_type": "stream",
     "text": [
      "[Epoch 8 | Step 1700/2000] Loss: 1.3867\n"
     ]
    },
    {
     "name": "stderr",
     "output_type": "stream",
     "text": [
      "Epoch 8/100:  90%|█████████████████████████████████████████▍    | 1802/2000 [01:49<00:12, 16.39it/s]"
     ]
    },
    {
     "name": "stdout",
     "output_type": "stream",
     "text": [
      "[Epoch 8 | Step 1800/2000] Loss: 1.3867\n"
     ]
    },
    {
     "name": "stderr",
     "output_type": "stream",
     "text": [
      "Epoch 8/100:  95%|███████████████████████████████████████████▋  | 1902/2000 [01:55<00:05, 16.77it/s]"
     ]
    },
    {
     "name": "stdout",
     "output_type": "stream",
     "text": [
      "[Epoch 8 | Step 1900/2000] Loss: 1.3867\n"
     ]
    },
    {
     "name": "stderr",
     "output_type": "stream",
     "text": [
      "                                                                                                    "
     ]
    },
    {
     "name": "stdout",
     "output_type": "stream",
     "text": [
      "[Epoch 8 | Step 2000/2000] Loss: 1.3867\n",
      "\n",
      "[Epoch 8/100] Time: 121.5s | AvgTrainLoss: 1.3867\n",
      "[Validation] ValLoss: 1.3867\n",
      "Patience counter: 7/15\n"
     ]
    },
    {
     "name": "stderr",
     "output_type": "stream",
     "text": [
      "Epoch 9/100:   5%|██▍                                            | 102/2000 [00:06<01:55, 16.41it/s]"
     ]
    },
    {
     "name": "stdout",
     "output_type": "stream",
     "text": [
      "[Epoch 9 | Step 100/2000] Loss: 1.3867\n"
     ]
    },
    {
     "name": "stderr",
     "output_type": "stream",
     "text": [
      "Epoch 9/100:  10%|████▋                                          | 202/2000 [00:12<01:50, 16.26it/s]"
     ]
    },
    {
     "name": "stdout",
     "output_type": "stream",
     "text": [
      "[Epoch 9 | Step 200/2000] Loss: 1.3867\n"
     ]
    },
    {
     "name": "stderr",
     "output_type": "stream",
     "text": [
      "Epoch 9/100:  15%|███████                                        | 302/2000 [00:18<01:42, 16.50it/s]"
     ]
    },
    {
     "name": "stdout",
     "output_type": "stream",
     "text": [
      "[Epoch 9 | Step 300/2000] Loss: 1.3867\n"
     ]
    },
    {
     "name": "stderr",
     "output_type": "stream",
     "text": [
      "Epoch 9/100:  20%|█████████▍                                     | 402/2000 [00:24<01:34, 16.84it/s]"
     ]
    },
    {
     "name": "stdout",
     "output_type": "stream",
     "text": [
      "[Epoch 9 | Step 400/2000] Loss: 1.3867\n"
     ]
    },
    {
     "name": "stderr",
     "output_type": "stream",
     "text": [
      "Epoch 9/100:  25%|███████████▊                                   | 502/2000 [00:30<01:32, 16.12it/s]"
     ]
    },
    {
     "name": "stdout",
     "output_type": "stream",
     "text": [
      "[Epoch 9 | Step 500/2000] Loss: 1.3867\n"
     ]
    },
    {
     "name": "stderr",
     "output_type": "stream",
     "text": [
      "Epoch 9/100:  30%|██████████████▏                                | 602/2000 [00:36<01:23, 16.65it/s]"
     ]
    },
    {
     "name": "stdout",
     "output_type": "stream",
     "text": [
      "[Epoch 9 | Step 600/2000] Loss: 1.3867\n"
     ]
    },
    {
     "name": "stderr",
     "output_type": "stream",
     "text": [
      "Epoch 9/100:  35%|████████████████▍                              | 702/2000 [00:42<01:18, 16.64it/s]"
     ]
    },
    {
     "name": "stdout",
     "output_type": "stream",
     "text": [
      "[Epoch 9 | Step 700/2000] Loss: 1.3867\n"
     ]
    },
    {
     "name": "stderr",
     "output_type": "stream",
     "text": [
      "Epoch 9/100:  40%|██████████████████▊                            | 802/2000 [00:48<01:11, 16.64it/s]"
     ]
    },
    {
     "name": "stdout",
     "output_type": "stream",
     "text": [
      "[Epoch 9 | Step 800/2000] Loss: 1.3867\n"
     ]
    },
    {
     "name": "stderr",
     "output_type": "stream",
     "text": [
      "Epoch 9/100:  45%|█████████████████████▏                         | 902/2000 [00:54<01:07, 16.36it/s]"
     ]
    },
    {
     "name": "stdout",
     "output_type": "stream",
     "text": [
      "[Epoch 9 | Step 900/2000] Loss: 1.3867\n"
     ]
    },
    {
     "name": "stderr",
     "output_type": "stream",
     "text": [
      "Epoch 9/100:  50%|███████████████████████                       | 1002/2000 [01:01<00:59, 16.76it/s]"
     ]
    },
    {
     "name": "stdout",
     "output_type": "stream",
     "text": [
      "[Epoch 9 | Step 1000/2000] Loss: 1.3867\n"
     ]
    },
    {
     "name": "stderr",
     "output_type": "stream",
     "text": [
      "Epoch 9/100:  55%|█████████████████████████▎                    | 1102/2000 [01:07<00:53, 16.89it/s]"
     ]
    },
    {
     "name": "stdout",
     "output_type": "stream",
     "text": [
      "[Epoch 9 | Step 1100/2000] Loss: 1.3867\n"
     ]
    },
    {
     "name": "stderr",
     "output_type": "stream",
     "text": [
      "Epoch 9/100:  60%|███████████████████████████▋                  | 1202/2000 [01:13<00:49, 16.14it/s]"
     ]
    },
    {
     "name": "stdout",
     "output_type": "stream",
     "text": [
      "[Epoch 9 | Step 1200/2000] Loss: 1.3867\n"
     ]
    },
    {
     "name": "stderr",
     "output_type": "stream",
     "text": [
      "Epoch 9/100:  65%|█████████████████████████████▉                | 1302/2000 [01:19<00:42, 16.24it/s]"
     ]
    },
    {
     "name": "stdout",
     "output_type": "stream",
     "text": [
      "[Epoch 9 | Step 1300/2000] Loss: 1.3867\n"
     ]
    },
    {
     "name": "stderr",
     "output_type": "stream",
     "text": [
      "Epoch 9/100:  70%|████████████████████████████████▏             | 1402/2000 [01:25<00:36, 16.51it/s]"
     ]
    },
    {
     "name": "stdout",
     "output_type": "stream",
     "text": [
      "[Epoch 9 | Step 1400/2000] Loss: 1.3867\n"
     ]
    },
    {
     "name": "stderr",
     "output_type": "stream",
     "text": [
      "Epoch 9/100:  75%|██████████████████████████████████▌           | 1502/2000 [01:31<00:30, 16.21it/s]"
     ]
    },
    {
     "name": "stdout",
     "output_type": "stream",
     "text": [
      "[Epoch 9 | Step 1500/2000] Loss: 1.3867\n"
     ]
    },
    {
     "name": "stderr",
     "output_type": "stream",
     "text": [
      "Epoch 9/100:  80%|████████████████████████████████████▊         | 1602/2000 [01:37<00:24, 16.37it/s]"
     ]
    },
    {
     "name": "stdout",
     "output_type": "stream",
     "text": [
      "[Epoch 9 | Step 1600/2000] Loss: 1.3867\n"
     ]
    },
    {
     "name": "stderr",
     "output_type": "stream",
     "text": [
      "Epoch 9/100:  85%|███████████████████████████████████████▏      | 1702/2000 [01:43<00:18, 16.44it/s]"
     ]
    },
    {
     "name": "stdout",
     "output_type": "stream",
     "text": [
      "[Epoch 9 | Step 1700/2000] Loss: 1.3867\n"
     ]
    },
    {
     "name": "stderr",
     "output_type": "stream",
     "text": [
      "Epoch 9/100:  90%|█████████████████████████████████████████▍    | 1802/2000 [01:49<00:11, 16.50it/s]"
     ]
    },
    {
     "name": "stdout",
     "output_type": "stream",
     "text": [
      "[Epoch 9 | Step 1800/2000] Loss: 1.3867\n"
     ]
    },
    {
     "name": "stderr",
     "output_type": "stream",
     "text": [
      "Epoch 9/100:  95%|███████████████████████████████████████████▋  | 1902/2000 [01:55<00:05, 16.38it/s]"
     ]
    },
    {
     "name": "stdout",
     "output_type": "stream",
     "text": [
      "[Epoch 9 | Step 1900/2000] Loss: 1.3867\n"
     ]
    },
    {
     "name": "stderr",
     "output_type": "stream",
     "text": [
      "                                                                                                    "
     ]
    },
    {
     "name": "stdout",
     "output_type": "stream",
     "text": [
      "[Epoch 9 | Step 2000/2000] Loss: 1.3867\n",
      "\n",
      "[Epoch 9/100] Time: 121.8s | AvgTrainLoss: 1.3867\n",
      "[Validation] ValLoss: 1.3867\n",
      "Patience counter: 8/15\n"
     ]
    },
    {
     "name": "stderr",
     "output_type": "stream",
     "text": [
      "Epoch 10/100:   5%|██▎                                           | 102/2000 [00:06<01:51, 17.03it/s]"
     ]
    },
    {
     "name": "stdout",
     "output_type": "stream",
     "text": [
      "[Epoch 10 | Step 100/2000] Loss: 1.3867\n"
     ]
    },
    {
     "name": "stderr",
     "output_type": "stream",
     "text": [
      "Epoch 10/100:  10%|████▋                                         | 202/2000 [00:12<01:46, 16.83it/s]"
     ]
    },
    {
     "name": "stdout",
     "output_type": "stream",
     "text": [
      "[Epoch 10 | Step 200/2000] Loss: 1.3867\n"
     ]
    },
    {
     "name": "stderr",
     "output_type": "stream",
     "text": [
      "Epoch 10/100:  15%|██████▉                                       | 302/2000 [00:18<01:42, 16.54it/s]"
     ]
    },
    {
     "name": "stdout",
     "output_type": "stream",
     "text": [
      "[Epoch 10 | Step 300/2000] Loss: 1.3867\n"
     ]
    },
    {
     "name": "stderr",
     "output_type": "stream",
     "text": [
      "Epoch 10/100:  20%|█████████▏                                    | 402/2000 [00:24<01:37, 16.35it/s]"
     ]
    },
    {
     "name": "stdout",
     "output_type": "stream",
     "text": [
      "[Epoch 10 | Step 400/2000] Loss: 1.3867\n"
     ]
    },
    {
     "name": "stderr",
     "output_type": "stream",
     "text": [
      "Epoch 10/100:  25%|███████████▌                                  | 502/2000 [00:30<01:29, 16.76it/s]"
     ]
    },
    {
     "name": "stdout",
     "output_type": "stream",
     "text": [
      "[Epoch 10 | Step 500/2000] Loss: 1.3867\n"
     ]
    },
    {
     "name": "stderr",
     "output_type": "stream",
     "text": [
      "Epoch 10/100:  30%|█████████████▊                                | 602/2000 [00:36<01:22, 16.88it/s]"
     ]
    },
    {
     "name": "stdout",
     "output_type": "stream",
     "text": [
      "[Epoch 10 | Step 600/2000] Loss: 1.3867\n"
     ]
    },
    {
     "name": "stderr",
     "output_type": "stream",
     "text": [
      "Epoch 10/100:  35%|████████████████▏                             | 702/2000 [00:42<01:19, 16.40it/s]"
     ]
    },
    {
     "name": "stdout",
     "output_type": "stream",
     "text": [
      "[Epoch 10 | Step 700/2000] Loss: 1.3867\n"
     ]
    },
    {
     "name": "stderr",
     "output_type": "stream",
     "text": [
      "Epoch 10/100:  40%|██████████████████▍                           | 802/2000 [00:48<01:13, 16.27it/s]"
     ]
    },
    {
     "name": "stdout",
     "output_type": "stream",
     "text": [
      "[Epoch 10 | Step 800/2000] Loss: 1.3867\n"
     ]
    },
    {
     "name": "stderr",
     "output_type": "stream",
     "text": [
      "Epoch 10/100:  45%|████████████████████▋                         | 902/2000 [00:54<01:06, 16.42it/s]"
     ]
    },
    {
     "name": "stdout",
     "output_type": "stream",
     "text": [
      "[Epoch 10 | Step 900/2000] Loss: 1.3867\n"
     ]
    },
    {
     "name": "stderr",
     "output_type": "stream",
     "text": [
      "Epoch 10/100:  50%|██████████████████████▌                      | 1002/2000 [01:00<01:00, 16.61it/s]"
     ]
    },
    {
     "name": "stdout",
     "output_type": "stream",
     "text": [
      "[Epoch 10 | Step 1000/2000] Loss: 1.3867\n"
     ]
    },
    {
     "name": "stderr",
     "output_type": "stream",
     "text": [
      "Epoch 10/100:  55%|████████████████████████▊                    | 1102/2000 [01:06<00:55, 16.32it/s]"
     ]
    },
    {
     "name": "stdout",
     "output_type": "stream",
     "text": [
      "[Epoch 10 | Step 1100/2000] Loss: 1.3867\n"
     ]
    },
    {
     "name": "stderr",
     "output_type": "stream",
     "text": [
      "Epoch 10/100:  60%|███████████████████████████                  | 1202/2000 [01:13<00:48, 16.42it/s]"
     ]
    },
    {
     "name": "stdout",
     "output_type": "stream",
     "text": [
      "[Epoch 10 | Step 1200/2000] Loss: 1.3867\n"
     ]
    },
    {
     "name": "stderr",
     "output_type": "stream",
     "text": [
      "Epoch 10/100:  65%|█████████████████████████████▎               | 1302/2000 [01:19<00:42, 16.42it/s]"
     ]
    },
    {
     "name": "stdout",
     "output_type": "stream",
     "text": [
      "[Epoch 10 | Step 1300/2000] Loss: 1.3867\n"
     ]
    },
    {
     "name": "stderr",
     "output_type": "stream",
     "text": [
      "Epoch 10/100:  70%|███████████████████████████████▌             | 1402/2000 [01:25<00:36, 16.28it/s]"
     ]
    },
    {
     "name": "stdout",
     "output_type": "stream",
     "text": [
      "[Epoch 10 | Step 1400/2000] Loss: 1.3867\n"
     ]
    },
    {
     "name": "stderr",
     "output_type": "stream",
     "text": [
      "Epoch 10/100:  75%|█████████████████████████████████▊           | 1502/2000 [01:31<00:30, 16.44it/s]"
     ]
    },
    {
     "name": "stdout",
     "output_type": "stream",
     "text": [
      "[Epoch 10 | Step 1500/2000] Loss: 1.3867\n"
     ]
    },
    {
     "name": "stderr",
     "output_type": "stream",
     "text": [
      "Epoch 10/100:  80%|████████████████████████████████████         | 1602/2000 [01:37<00:24, 16.45it/s]"
     ]
    },
    {
     "name": "stdout",
     "output_type": "stream",
     "text": [
      "[Epoch 10 | Step 1600/2000] Loss: 1.3867\n"
     ]
    },
    {
     "name": "stderr",
     "output_type": "stream",
     "text": [
      "Epoch 10/100:  85%|██████████████████████████████████████▎      | 1702/2000 [01:43<00:17, 16.73it/s]"
     ]
    },
    {
     "name": "stdout",
     "output_type": "stream",
     "text": [
      "[Epoch 10 | Step 1700/2000] Loss: 1.3867\n"
     ]
    },
    {
     "name": "stderr",
     "output_type": "stream",
     "text": [
      "Epoch 10/100:  90%|████████████████████████████████████████▌    | 1802/2000 [01:49<00:12, 16.33it/s]"
     ]
    },
    {
     "name": "stdout",
     "output_type": "stream",
     "text": [
      "[Epoch 10 | Step 1800/2000] Loss: 1.3867\n"
     ]
    },
    {
     "name": "stderr",
     "output_type": "stream",
     "text": [
      "Epoch 10/100:  95%|██████████████████████████████████████████▊  | 1902/2000 [01:55<00:06, 16.17it/s]"
     ]
    },
    {
     "name": "stdout",
     "output_type": "stream",
     "text": [
      "[Epoch 10 | Step 1900/2000] Loss: 1.3867\n"
     ]
    },
    {
     "name": "stderr",
     "output_type": "stream",
     "text": [
      "                                                                                                    "
     ]
    },
    {
     "name": "stdout",
     "output_type": "stream",
     "text": [
      "[Epoch 10 | Step 2000/2000] Loss: 1.3867\n",
      "\n",
      "[Epoch 10/100] Time: 121.3s | AvgTrainLoss: 1.3867\n",
      "[Validation] ValLoss: 1.3867\n",
      "Patience counter: 9/15\n"
     ]
    },
    {
     "name": "stderr",
     "output_type": "stream",
     "text": [
      "Epoch 11/100:   5%|██▎                                           | 102/2000 [00:06<01:55, 16.37it/s]"
     ]
    },
    {
     "name": "stdout",
     "output_type": "stream",
     "text": [
      "[Epoch 11 | Step 100/2000] Loss: 1.3867\n"
     ]
    },
    {
     "name": "stderr",
     "output_type": "stream",
     "text": [
      "Epoch 11/100:  10%|████▋                                         | 202/2000 [00:12<01:49, 16.47it/s]"
     ]
    },
    {
     "name": "stdout",
     "output_type": "stream",
     "text": [
      "[Epoch 11 | Step 200/2000] Loss: 1.3867\n"
     ]
    },
    {
     "name": "stderr",
     "output_type": "stream",
     "text": [
      "Epoch 11/100:  15%|██████▉                                       | 302/2000 [00:18<01:41, 16.81it/s]"
     ]
    },
    {
     "name": "stdout",
     "output_type": "stream",
     "text": [
      "[Epoch 11 | Step 300/2000] Loss: 1.3867\n"
     ]
    },
    {
     "name": "stderr",
     "output_type": "stream",
     "text": [
      "Epoch 11/100:  20%|█████████▏                                    | 402/2000 [00:24<01:36, 16.52it/s]"
     ]
    },
    {
     "name": "stdout",
     "output_type": "stream",
     "text": [
      "[Epoch 11 | Step 400/2000] Loss: 1.3867\n"
     ]
    },
    {
     "name": "stderr",
     "output_type": "stream",
     "text": [
      "Epoch 11/100:  25%|███████████▌                                  | 502/2000 [00:30<01:29, 16.73it/s]"
     ]
    },
    {
     "name": "stdout",
     "output_type": "stream",
     "text": [
      "[Epoch 11 | Step 500/2000] Loss: 1.3867\n"
     ]
    },
    {
     "name": "stderr",
     "output_type": "stream",
     "text": [
      "Epoch 11/100:  30%|█████████████▊                                | 602/2000 [00:36<01:23, 16.78it/s]"
     ]
    },
    {
     "name": "stdout",
     "output_type": "stream",
     "text": [
      "[Epoch 11 | Step 600/2000] Loss: 1.3867\n"
     ]
    },
    {
     "name": "stderr",
     "output_type": "stream",
     "text": [
      "Epoch 11/100:  35%|████████████████▏                             | 702/2000 [00:42<01:18, 16.58it/s]"
     ]
    },
    {
     "name": "stdout",
     "output_type": "stream",
     "text": [
      "[Epoch 11 | Step 700/2000] Loss: 1.3867\n"
     ]
    },
    {
     "name": "stderr",
     "output_type": "stream",
     "text": [
      "Epoch 11/100:  40%|██████████████████▍                           | 802/2000 [00:48<01:13, 16.39it/s]"
     ]
    },
    {
     "name": "stdout",
     "output_type": "stream",
     "text": [
      "[Epoch 11 | Step 800/2000] Loss: 1.3867\n"
     ]
    },
    {
     "name": "stderr",
     "output_type": "stream",
     "text": [
      "Epoch 11/100:  45%|████████████████████▋                         | 902/2000 [00:54<01:05, 16.82it/s]"
     ]
    },
    {
     "name": "stdout",
     "output_type": "stream",
     "text": [
      "[Epoch 11 | Step 900/2000] Loss: 1.3867\n"
     ]
    },
    {
     "name": "stderr",
     "output_type": "stream",
     "text": [
      "Epoch 11/100:  50%|██████████████████████▌                      | 1002/2000 [01:00<00:59, 16.89it/s]"
     ]
    },
    {
     "name": "stdout",
     "output_type": "stream",
     "text": [
      "[Epoch 11 | Step 1000/2000] Loss: 1.3867\n"
     ]
    },
    {
     "name": "stderr",
     "output_type": "stream",
     "text": [
      "Epoch 11/100:  55%|████████████████████████▊                    | 1102/2000 [01:06<00:54, 16.41it/s]"
     ]
    },
    {
     "name": "stdout",
     "output_type": "stream",
     "text": [
      "[Epoch 11 | Step 1100/2000] Loss: 1.3867\n"
     ]
    },
    {
     "name": "stderr",
     "output_type": "stream",
     "text": [
      "Epoch 11/100:  60%|███████████████████████████                  | 1202/2000 [01:12<00:48, 16.33it/s]"
     ]
    },
    {
     "name": "stdout",
     "output_type": "stream",
     "text": [
      "[Epoch 11 | Step 1200/2000] Loss: 1.3867\n"
     ]
    },
    {
     "name": "stderr",
     "output_type": "stream",
     "text": [
      "Epoch 11/100:  65%|█████████████████████████████▎               | 1302/2000 [01:18<00:41, 16.80it/s]"
     ]
    },
    {
     "name": "stdout",
     "output_type": "stream",
     "text": [
      "[Epoch 11 | Step 1300/2000] Loss: 1.3867\n"
     ]
    },
    {
     "name": "stderr",
     "output_type": "stream",
     "text": [
      "Epoch 11/100:  70%|███████████████████████████████▌             | 1402/2000 [01:24<00:37, 16.16it/s]"
     ]
    },
    {
     "name": "stdout",
     "output_type": "stream",
     "text": [
      "[Epoch 11 | Step 1400/2000] Loss: 1.3867\n"
     ]
    },
    {
     "name": "stderr",
     "output_type": "stream",
     "text": [
      "Epoch 11/100:  75%|█████████████████████████████████▊           | 1502/2000 [01:31<00:30, 16.56it/s]"
     ]
    },
    {
     "name": "stdout",
     "output_type": "stream",
     "text": [
      "[Epoch 11 | Step 1500/2000] Loss: 1.3867\n"
     ]
    },
    {
     "name": "stderr",
     "output_type": "stream",
     "text": [
      "Epoch 11/100:  80%|████████████████████████████████████         | 1602/2000 [01:37<00:23, 16.76it/s]"
     ]
    },
    {
     "name": "stdout",
     "output_type": "stream",
     "text": [
      "[Epoch 11 | Step 1600/2000] Loss: 1.3867\n"
     ]
    },
    {
     "name": "stderr",
     "output_type": "stream",
     "text": [
      "Epoch 11/100:  85%|██████████████████████████████████████▎      | 1702/2000 [01:43<00:17, 16.75it/s]"
     ]
    },
    {
     "name": "stdout",
     "output_type": "stream",
     "text": [
      "[Epoch 11 | Step 1700/2000] Loss: 1.3867\n"
     ]
    },
    {
     "name": "stderr",
     "output_type": "stream",
     "text": [
      "Epoch 11/100:  90%|████████████████████████████████████████▌    | 1802/2000 [01:49<00:11, 16.57it/s]"
     ]
    },
    {
     "name": "stdout",
     "output_type": "stream",
     "text": [
      "[Epoch 11 | Step 1800/2000] Loss: 1.3867\n"
     ]
    },
    {
     "name": "stderr",
     "output_type": "stream",
     "text": [
      "Epoch 11/100:  95%|██████████████████████████████████████████▊  | 1902/2000 [01:55<00:05, 16.74it/s]"
     ]
    },
    {
     "name": "stdout",
     "output_type": "stream",
     "text": [
      "[Epoch 11 | Step 1900/2000] Loss: 1.3867\n"
     ]
    },
    {
     "name": "stderr",
     "output_type": "stream",
     "text": [
      "                                                                                                    "
     ]
    },
    {
     "name": "stdout",
     "output_type": "stream",
     "text": [
      "[Epoch 11 | Step 2000/2000] Loss: 1.3867\n",
      "\n",
      "[Epoch 11/100] Time: 121.1s | AvgTrainLoss: 1.3867\n",
      "[Validation] ValLoss: 1.3867\n",
      "Patience counter: 10/15\n"
     ]
    },
    {
     "name": "stderr",
     "output_type": "stream",
     "text": [
      "Epoch 12/100:   5%|██▎                                           | 102/2000 [00:06<01:52, 16.83it/s]"
     ]
    },
    {
     "name": "stdout",
     "output_type": "stream",
     "text": [
      "[Epoch 12 | Step 100/2000] Loss: 1.3867\n"
     ]
    },
    {
     "name": "stderr",
     "output_type": "stream",
     "text": [
      "Epoch 12/100:  10%|████▋                                         | 202/2000 [00:12<01:48, 16.61it/s]"
     ]
    },
    {
     "name": "stdout",
     "output_type": "stream",
     "text": [
      "[Epoch 12 | Step 200/2000] Loss: 1.3867\n"
     ]
    },
    {
     "name": "stderr",
     "output_type": "stream",
     "text": [
      "Epoch 12/100:  15%|██████▉                                       | 302/2000 [00:18<01:41, 16.67it/s]"
     ]
    },
    {
     "name": "stdout",
     "output_type": "stream",
     "text": [
      "[Epoch 12 | Step 300/2000] Loss: 1.3867\n"
     ]
    },
    {
     "name": "stderr",
     "output_type": "stream",
     "text": [
      "Epoch 12/100:  20%|█████████▏                                    | 402/2000 [00:24<01:38, 16.27it/s]"
     ]
    },
    {
     "name": "stdout",
     "output_type": "stream",
     "text": [
      "[Epoch 12 | Step 400/2000] Loss: 1.3867\n"
     ]
    },
    {
     "name": "stderr",
     "output_type": "stream",
     "text": [
      "Epoch 12/100:  25%|███████████▌                                  | 502/2000 [00:30<01:30, 16.60it/s]"
     ]
    },
    {
     "name": "stdout",
     "output_type": "stream",
     "text": [
      "[Epoch 12 | Step 500/2000] Loss: 1.3867\n"
     ]
    },
    {
     "name": "stderr",
     "output_type": "stream",
     "text": [
      "Epoch 12/100:  30%|█████████████▊                                | 602/2000 [00:36<01:25, 16.42it/s]"
     ]
    },
    {
     "name": "stdout",
     "output_type": "stream",
     "text": [
      "[Epoch 12 | Step 600/2000] Loss: 1.3867\n"
     ]
    },
    {
     "name": "stderr",
     "output_type": "stream",
     "text": [
      "Epoch 12/100:  35%|████████████████▏                             | 702/2000 [00:42<01:18, 16.46it/s]"
     ]
    },
    {
     "name": "stdout",
     "output_type": "stream",
     "text": [
      "[Epoch 12 | Step 700/2000] Loss: 1.3867\n"
     ]
    },
    {
     "name": "stderr",
     "output_type": "stream",
     "text": [
      "Epoch 12/100:  40%|██████████████████▍                           | 802/2000 [00:48<01:13, 16.30it/s]"
     ]
    },
    {
     "name": "stdout",
     "output_type": "stream",
     "text": [
      "[Epoch 12 | Step 800/2000] Loss: 1.3867\n"
     ]
    },
    {
     "name": "stderr",
     "output_type": "stream",
     "text": [
      "Epoch 12/100:  45%|████████████████████▋                         | 902/2000 [00:54<01:07, 16.32it/s]"
     ]
    },
    {
     "name": "stdout",
     "output_type": "stream",
     "text": [
      "[Epoch 12 | Step 900/2000] Loss: 1.3867\n"
     ]
    },
    {
     "name": "stderr",
     "output_type": "stream",
     "text": [
      "Epoch 12/100:  50%|██████████████████████▌                      | 1002/2000 [01:00<01:00, 16.37it/s]"
     ]
    },
    {
     "name": "stdout",
     "output_type": "stream",
     "text": [
      "[Epoch 12 | Step 1000/2000] Loss: 1.3867\n"
     ]
    },
    {
     "name": "stderr",
     "output_type": "stream",
     "text": [
      "Epoch 12/100:  55%|████████████████████████▊                    | 1102/2000 [01:06<00:54, 16.60it/s]"
     ]
    },
    {
     "name": "stdout",
     "output_type": "stream",
     "text": [
      "[Epoch 12 | Step 1100/2000] Loss: 1.3867\n"
     ]
    },
    {
     "name": "stderr",
     "output_type": "stream",
     "text": [
      "Epoch 12/100:  60%|███████████████████████████                  | 1202/2000 [01:12<00:46, 17.02it/s]"
     ]
    },
    {
     "name": "stdout",
     "output_type": "stream",
     "text": [
      "[Epoch 12 | Step 1200/2000] Loss: 1.3867\n"
     ]
    },
    {
     "name": "stderr",
     "output_type": "stream",
     "text": [
      "Epoch 12/100:  65%|█████████████████████████████▎               | 1302/2000 [01:18<00:42, 16.41it/s]"
     ]
    },
    {
     "name": "stdout",
     "output_type": "stream",
     "text": [
      "[Epoch 12 | Step 1300/2000] Loss: 1.3867\n"
     ]
    },
    {
     "name": "stderr",
     "output_type": "stream",
     "text": [
      "Epoch 12/100:  70%|███████████████████████████████▌             | 1402/2000 [01:24<00:36, 16.40it/s]"
     ]
    },
    {
     "name": "stdout",
     "output_type": "stream",
     "text": [
      "[Epoch 12 | Step 1400/2000] Loss: 1.3867\n"
     ]
    },
    {
     "name": "stderr",
     "output_type": "stream",
     "text": [
      "Epoch 12/100:  75%|█████████████████████████████████▊           | 1502/2000 [01:30<00:30, 16.31it/s]"
     ]
    },
    {
     "name": "stdout",
     "output_type": "stream",
     "text": [
      "[Epoch 12 | Step 1500/2000] Loss: 1.3867\n"
     ]
    },
    {
     "name": "stderr",
     "output_type": "stream",
     "text": [
      "Epoch 12/100:  80%|████████████████████████████████████         | 1602/2000 [01:36<00:24, 16.52it/s]"
     ]
    },
    {
     "name": "stdout",
     "output_type": "stream",
     "text": [
      "[Epoch 12 | Step 1600/2000] Loss: 1.3867\n"
     ]
    },
    {
     "name": "stderr",
     "output_type": "stream",
     "text": [
      "Epoch 12/100:  85%|██████████████████████████████████████▎      | 1702/2000 [01:42<00:17, 16.79it/s]"
     ]
    },
    {
     "name": "stdout",
     "output_type": "stream",
     "text": [
      "[Epoch 12 | Step 1700/2000] Loss: 1.3867\n"
     ]
    },
    {
     "name": "stderr",
     "output_type": "stream",
     "text": [
      "Epoch 12/100:  90%|████████████████████████████████████████▌    | 1802/2000 [01:49<00:12, 16.34it/s]"
     ]
    },
    {
     "name": "stdout",
     "output_type": "stream",
     "text": [
      "[Epoch 12 | Step 1800/2000] Loss: 1.3867\n"
     ]
    },
    {
     "name": "stderr",
     "output_type": "stream",
     "text": [
      "Epoch 12/100:  95%|██████████████████████████████████████████▊  | 1902/2000 [01:55<00:05, 16.42it/s]"
     ]
    },
    {
     "name": "stdout",
     "output_type": "stream",
     "text": [
      "[Epoch 12 | Step 1900/2000] Loss: 1.3867\n"
     ]
    },
    {
     "name": "stderr",
     "output_type": "stream",
     "text": [
      "                                                                                                    "
     ]
    },
    {
     "name": "stdout",
     "output_type": "stream",
     "text": [
      "[Epoch 12 | Step 2000/2000] Loss: 1.3867\n",
      "\n",
      "[Epoch 12/100] Time: 121.0s | AvgTrainLoss: 1.3867\n",
      "[Validation] ValLoss: 1.3867\n",
      "Patience counter: 11/15\n"
     ]
    },
    {
     "name": "stderr",
     "output_type": "stream",
     "text": [
      "Epoch 13/100:   5%|██▎                                           | 102/2000 [00:06<01:53, 16.71it/s]"
     ]
    },
    {
     "name": "stdout",
     "output_type": "stream",
     "text": [
      "[Epoch 13 | Step 100/2000] Loss: 1.3867\n"
     ]
    },
    {
     "name": "stderr",
     "output_type": "stream",
     "text": [
      "Epoch 13/100:  10%|████▋                                         | 202/2000 [00:12<01:50, 16.27it/s]"
     ]
    },
    {
     "name": "stdout",
     "output_type": "stream",
     "text": [
      "[Epoch 13 | Step 200/2000] Loss: 1.3867\n"
     ]
    },
    {
     "name": "stderr",
     "output_type": "stream",
     "text": [
      "Epoch 13/100:  15%|██████▉                                       | 302/2000 [00:18<01:40, 16.97it/s]"
     ]
    },
    {
     "name": "stdout",
     "output_type": "stream",
     "text": [
      "[Epoch 13 | Step 300/2000] Loss: 1.3867\n"
     ]
    },
    {
     "name": "stderr",
     "output_type": "stream",
     "text": [
      "Epoch 13/100:  20%|█████████▏                                    | 402/2000 [00:24<01:37, 16.37it/s]"
     ]
    },
    {
     "name": "stdout",
     "output_type": "stream",
     "text": [
      "[Epoch 13 | Step 400/2000] Loss: 1.3867\n"
     ]
    },
    {
     "name": "stderr",
     "output_type": "stream",
     "text": [
      "Epoch 13/100:  25%|███████████▌                                  | 502/2000 [00:30<01:30, 16.47it/s]"
     ]
    },
    {
     "name": "stdout",
     "output_type": "stream",
     "text": [
      "[Epoch 13 | Step 500/2000] Loss: 1.3867\n"
     ]
    },
    {
     "name": "stderr",
     "output_type": "stream",
     "text": [
      "Epoch 13/100:  30%|█████████████▊                                | 602/2000 [00:36<01:24, 16.55it/s]"
     ]
    },
    {
     "name": "stdout",
     "output_type": "stream",
     "text": [
      "[Epoch 13 | Step 600/2000] Loss: 1.3867\n"
     ]
    },
    {
     "name": "stderr",
     "output_type": "stream",
     "text": [
      "Epoch 13/100:  35%|████████████████▏                             | 702/2000 [00:42<01:18, 16.56it/s]"
     ]
    },
    {
     "name": "stdout",
     "output_type": "stream",
     "text": [
      "[Epoch 13 | Step 700/2000] Loss: 1.3867\n"
     ]
    },
    {
     "name": "stderr",
     "output_type": "stream",
     "text": [
      "Epoch 13/100:  40%|██████████████████▍                           | 802/2000 [00:48<01:13, 16.31it/s]"
     ]
    },
    {
     "name": "stdout",
     "output_type": "stream",
     "text": [
      "[Epoch 13 | Step 800/2000] Loss: 1.3867\n"
     ]
    },
    {
     "name": "stderr",
     "output_type": "stream",
     "text": [
      "Epoch 13/100:  45%|████████████████████▋                         | 902/2000 [00:54<01:06, 16.60it/s]"
     ]
    },
    {
     "name": "stdout",
     "output_type": "stream",
     "text": [
      "[Epoch 13 | Step 900/2000] Loss: 1.3867\n"
     ]
    },
    {
     "name": "stderr",
     "output_type": "stream",
     "text": [
      "Epoch 13/100:  50%|██████████████████████▌                      | 1002/2000 [01:00<00:59, 16.76it/s]"
     ]
    },
    {
     "name": "stdout",
     "output_type": "stream",
     "text": [
      "[Epoch 13 | Step 1000/2000] Loss: 1.3867\n"
     ]
    },
    {
     "name": "stderr",
     "output_type": "stream",
     "text": [
      "Epoch 13/100:  55%|████████████████████████▊                    | 1102/2000 [01:06<00:54, 16.34it/s]"
     ]
    },
    {
     "name": "stdout",
     "output_type": "stream",
     "text": [
      "[Epoch 13 | Step 1100/2000] Loss: 1.3867\n"
     ]
    },
    {
     "name": "stderr",
     "output_type": "stream",
     "text": [
      "Epoch 13/100:  60%|███████████████████████████                  | 1202/2000 [01:12<00:47, 16.82it/s]"
     ]
    },
    {
     "name": "stdout",
     "output_type": "stream",
     "text": [
      "[Epoch 13 | Step 1200/2000] Loss: 1.3867\n"
     ]
    },
    {
     "name": "stderr",
     "output_type": "stream",
     "text": [
      "Epoch 13/100:  65%|█████████████████████████████▎               | 1302/2000 [01:18<00:42, 16.32it/s]"
     ]
    },
    {
     "name": "stdout",
     "output_type": "stream",
     "text": [
      "[Epoch 13 | Step 1300/2000] Loss: 1.3867\n"
     ]
    },
    {
     "name": "stderr",
     "output_type": "stream",
     "text": [
      "Epoch 13/100:  70%|███████████████████████████████▌             | 1402/2000 [01:24<00:35, 16.79it/s]"
     ]
    },
    {
     "name": "stdout",
     "output_type": "stream",
     "text": [
      "[Epoch 13 | Step 1400/2000] Loss: 1.3867\n"
     ]
    },
    {
     "name": "stderr",
     "output_type": "stream",
     "text": [
      "Epoch 13/100:  75%|█████████████████████████████████▊           | 1502/2000 [01:30<00:30, 16.43it/s]"
     ]
    },
    {
     "name": "stdout",
     "output_type": "stream",
     "text": [
      "[Epoch 13 | Step 1500/2000] Loss: 1.3867\n"
     ]
    },
    {
     "name": "stderr",
     "output_type": "stream",
     "text": [
      "Epoch 13/100:  80%|████████████████████████████████████         | 1602/2000 [01:36<00:23, 16.62it/s]"
     ]
    },
    {
     "name": "stdout",
     "output_type": "stream",
     "text": [
      "[Epoch 13 | Step 1600/2000] Loss: 1.3867\n"
     ]
    },
    {
     "name": "stderr",
     "output_type": "stream",
     "text": [
      "Epoch 13/100:  85%|██████████████████████████████████████▎      | 1702/2000 [01:43<00:18, 16.44it/s]"
     ]
    },
    {
     "name": "stdout",
     "output_type": "stream",
     "text": [
      "[Epoch 13 | Step 1700/2000] Loss: 1.3867\n"
     ]
    },
    {
     "name": "stderr",
     "output_type": "stream",
     "text": [
      "Epoch 13/100:  90%|████████████████████████████████████████▌    | 1802/2000 [01:49<00:12, 16.46it/s]"
     ]
    },
    {
     "name": "stdout",
     "output_type": "stream",
     "text": [
      "[Epoch 13 | Step 1800/2000] Loss: 1.3867\n"
     ]
    },
    {
     "name": "stderr",
     "output_type": "stream",
     "text": [
      "Epoch 13/100:  95%|██████████████████████████████████████████▊  | 1902/2000 [01:55<00:06, 16.28it/s]"
     ]
    },
    {
     "name": "stdout",
     "output_type": "stream",
     "text": [
      "[Epoch 13 | Step 1900/2000] Loss: 1.3867\n"
     ]
    },
    {
     "name": "stderr",
     "output_type": "stream",
     "text": [
      "                                                                                                    "
     ]
    },
    {
     "name": "stdout",
     "output_type": "stream",
     "text": [
      "[Epoch 13 | Step 2000/2000] Loss: 1.3867\n",
      "\n",
      "[Epoch 13/100] Time: 121.2s | AvgTrainLoss: 1.3867\n",
      "[Validation] ValLoss: 1.3867\n",
      "Patience counter: 12/15\n"
     ]
    },
    {
     "name": "stderr",
     "output_type": "stream",
     "text": [
      "Epoch 14/100:   5%|██▎                                           | 102/2000 [00:06<01:56, 16.25it/s]"
     ]
    },
    {
     "name": "stdout",
     "output_type": "stream",
     "text": [
      "[Epoch 14 | Step 100/2000] Loss: 1.3867\n"
     ]
    },
    {
     "name": "stderr",
     "output_type": "stream",
     "text": [
      "Epoch 14/100:  10%|████▋                                         | 202/2000 [00:12<01:50, 16.24it/s]"
     ]
    },
    {
     "name": "stdout",
     "output_type": "stream",
     "text": [
      "[Epoch 14 | Step 200/2000] Loss: 1.3867\n"
     ]
    },
    {
     "name": "stderr",
     "output_type": "stream",
     "text": [
      "Epoch 14/100:  15%|██████▉                                       | 302/2000 [00:18<01:42, 16.62it/s]"
     ]
    },
    {
     "name": "stdout",
     "output_type": "stream",
     "text": [
      "[Epoch 14 | Step 300/2000] Loss: 1.3867\n"
     ]
    },
    {
     "name": "stderr",
     "output_type": "stream",
     "text": [
      "Epoch 14/100:  20%|█████████▏                                    | 402/2000 [00:24<01:38, 16.28it/s]"
     ]
    },
    {
     "name": "stdout",
     "output_type": "stream",
     "text": [
      "[Epoch 14 | Step 400/2000] Loss: 1.3867\n"
     ]
    },
    {
     "name": "stderr",
     "output_type": "stream",
     "text": [
      "Epoch 14/100:  25%|███████████▌                                  | 502/2000 [00:30<01:30, 16.50it/s]"
     ]
    },
    {
     "name": "stdout",
     "output_type": "stream",
     "text": [
      "[Epoch 14 | Step 500/2000] Loss: 1.3867\n"
     ]
    },
    {
     "name": "stderr",
     "output_type": "stream",
     "text": [
      "Epoch 14/100:  30%|█████████████▊                                | 602/2000 [00:36<01:27, 16.01it/s]"
     ]
    },
    {
     "name": "stdout",
     "output_type": "stream",
     "text": [
      "[Epoch 14 | Step 600/2000] Loss: 1.3867\n"
     ]
    },
    {
     "name": "stderr",
     "output_type": "stream",
     "text": [
      "Epoch 14/100:  35%|████████████████▏                             | 702/2000 [00:42<01:18, 16.45it/s]"
     ]
    },
    {
     "name": "stdout",
     "output_type": "stream",
     "text": [
      "[Epoch 14 | Step 700/2000] Loss: 1.3867\n"
     ]
    },
    {
     "name": "stderr",
     "output_type": "stream",
     "text": [
      "Epoch 14/100:  40%|██████████████████▍                           | 802/2000 [00:48<01:12, 16.57it/s]"
     ]
    },
    {
     "name": "stdout",
     "output_type": "stream",
     "text": [
      "[Epoch 14 | Step 800/2000] Loss: 1.3867\n"
     ]
    },
    {
     "name": "stderr",
     "output_type": "stream",
     "text": [
      "Epoch 14/100:  45%|████████████████████▋                         | 902/2000 [00:54<01:06, 16.44it/s]"
     ]
    },
    {
     "name": "stdout",
     "output_type": "stream",
     "text": [
      "[Epoch 14 | Step 900/2000] Loss: 1.3867\n"
     ]
    },
    {
     "name": "stderr",
     "output_type": "stream",
     "text": [
      "Epoch 14/100:  50%|██████████████████████▌                      | 1002/2000 [01:01<00:59, 16.72it/s]"
     ]
    },
    {
     "name": "stdout",
     "output_type": "stream",
     "text": [
      "[Epoch 14 | Step 1000/2000] Loss: 1.3867\n"
     ]
    },
    {
     "name": "stderr",
     "output_type": "stream",
     "text": [
      "Epoch 14/100:  55%|████████████████████████▊                    | 1102/2000 [01:07<00:54, 16.45it/s]"
     ]
    },
    {
     "name": "stdout",
     "output_type": "stream",
     "text": [
      "[Epoch 14 | Step 1100/2000] Loss: 1.3867\n"
     ]
    },
    {
     "name": "stderr",
     "output_type": "stream",
     "text": [
      "Epoch 14/100:  60%|███████████████████████████                  | 1202/2000 [01:13<00:47, 16.93it/s]"
     ]
    },
    {
     "name": "stdout",
     "output_type": "stream",
     "text": [
      "[Epoch 14 | Step 1200/2000] Loss: 1.3867\n"
     ]
    },
    {
     "name": "stderr",
     "output_type": "stream",
     "text": [
      "Epoch 14/100:  65%|█████████████████████████████▎               | 1302/2000 [01:19<00:41, 16.62it/s]"
     ]
    },
    {
     "name": "stdout",
     "output_type": "stream",
     "text": [
      "[Epoch 14 | Step 1300/2000] Loss: 1.3867\n"
     ]
    },
    {
     "name": "stderr",
     "output_type": "stream",
     "text": [
      "Epoch 14/100:  70%|███████████████████████████████▌             | 1402/2000 [01:25<00:35, 16.64it/s]"
     ]
    },
    {
     "name": "stdout",
     "output_type": "stream",
     "text": [
      "[Epoch 14 | Step 1400/2000] Loss: 1.3867\n"
     ]
    },
    {
     "name": "stderr",
     "output_type": "stream",
     "text": [
      "Epoch 14/100:  75%|█████████████████████████████████▊           | 1502/2000 [01:31<00:29, 16.92it/s]"
     ]
    },
    {
     "name": "stdout",
     "output_type": "stream",
     "text": [
      "[Epoch 14 | Step 1500/2000] Loss: 1.3867\n"
     ]
    },
    {
     "name": "stderr",
     "output_type": "stream",
     "text": [
      "Epoch 14/100:  80%|████████████████████████████████████         | 1602/2000 [01:37<00:24, 16.42it/s]"
     ]
    },
    {
     "name": "stdout",
     "output_type": "stream",
     "text": [
      "[Epoch 14 | Step 1600/2000] Loss: 1.3867\n"
     ]
    },
    {
     "name": "stderr",
     "output_type": "stream",
     "text": [
      "Epoch 14/100:  85%|██████████████████████████████████████▎      | 1702/2000 [01:43<00:17, 16.62it/s]"
     ]
    },
    {
     "name": "stdout",
     "output_type": "stream",
     "text": [
      "[Epoch 14 | Step 1700/2000] Loss: 1.3867\n"
     ]
    },
    {
     "name": "stderr",
     "output_type": "stream",
     "text": [
      "Epoch 14/100:  90%|████████████████████████████████████████▌    | 1802/2000 [01:49<00:12, 16.39it/s]"
     ]
    },
    {
     "name": "stdout",
     "output_type": "stream",
     "text": [
      "[Epoch 14 | Step 1800/2000] Loss: 1.3867\n"
     ]
    },
    {
     "name": "stderr",
     "output_type": "stream",
     "text": [
      "Epoch 14/100:  95%|██████████████████████████████████████████▊  | 1902/2000 [01:55<00:05, 16.67it/s]"
     ]
    },
    {
     "name": "stdout",
     "output_type": "stream",
     "text": [
      "[Epoch 14 | Step 1900/2000] Loss: 1.3867\n"
     ]
    },
    {
     "name": "stderr",
     "output_type": "stream",
     "text": [
      "                                                                                                    "
     ]
    },
    {
     "name": "stdout",
     "output_type": "stream",
     "text": [
      "[Epoch 14 | Step 2000/2000] Loss: 1.3867\n",
      "\n",
      "[Epoch 14/100] Time: 121.4s | AvgTrainLoss: 1.3867\n",
      "[Validation] ValLoss: 1.3867\n",
      "Patience counter: 13/15\n"
     ]
    },
    {
     "name": "stderr",
     "output_type": "stream",
     "text": [
      "Epoch 15/100:   5%|██▎                                           | 102/2000 [00:06<01:55, 16.45it/s]"
     ]
    },
    {
     "name": "stdout",
     "output_type": "stream",
     "text": [
      "[Epoch 15 | Step 100/2000] Loss: 1.3867\n"
     ]
    },
    {
     "name": "stderr",
     "output_type": "stream",
     "text": [
      "Epoch 15/100:  10%|████▋                                         | 202/2000 [00:12<01:48, 16.54it/s]"
     ]
    },
    {
     "name": "stdout",
     "output_type": "stream",
     "text": [
      "[Epoch 15 | Step 200/2000] Loss: 1.3867\n"
     ]
    },
    {
     "name": "stderr",
     "output_type": "stream",
     "text": [
      "Epoch 15/100:  15%|██████▉                                       | 302/2000 [00:18<01:43, 16.36it/s]"
     ]
    },
    {
     "name": "stdout",
     "output_type": "stream",
     "text": [
      "[Epoch 15 | Step 300/2000] Loss: 1.3867\n"
     ]
    },
    {
     "name": "stderr",
     "output_type": "stream",
     "text": [
      "Epoch 15/100:  20%|█████████▏                                    | 402/2000 [00:24<01:34, 16.94it/s]"
     ]
    },
    {
     "name": "stdout",
     "output_type": "stream",
     "text": [
      "[Epoch 15 | Step 400/2000] Loss: 1.3867\n"
     ]
    },
    {
     "name": "stderr",
     "output_type": "stream",
     "text": [
      "Epoch 15/100:  25%|███████████▌                                  | 502/2000 [00:30<01:30, 16.53it/s]"
     ]
    },
    {
     "name": "stdout",
     "output_type": "stream",
     "text": [
      "[Epoch 15 | Step 500/2000] Loss: 1.3867\n"
     ]
    },
    {
     "name": "stderr",
     "output_type": "stream",
     "text": [
      "Epoch 15/100:  30%|█████████████▊                                | 602/2000 [00:36<01:26, 16.18it/s]"
     ]
    },
    {
     "name": "stdout",
     "output_type": "stream",
     "text": [
      "[Epoch 15 | Step 600/2000] Loss: 1.3867\n"
     ]
    },
    {
     "name": "stderr",
     "output_type": "stream",
     "text": [
      "Epoch 15/100:  35%|████████████████▏                             | 702/2000 [00:42<01:18, 16.53it/s]"
     ]
    },
    {
     "name": "stdout",
     "output_type": "stream",
     "text": [
      "[Epoch 15 | Step 700/2000] Loss: 1.3867\n"
     ]
    },
    {
     "name": "stderr",
     "output_type": "stream",
     "text": [
      "Epoch 15/100:  40%|██████████████████▍                           | 802/2000 [00:48<01:11, 16.67it/s]"
     ]
    },
    {
     "name": "stdout",
     "output_type": "stream",
     "text": [
      "[Epoch 15 | Step 800/2000] Loss: 1.3867\n"
     ]
    },
    {
     "name": "stderr",
     "output_type": "stream",
     "text": [
      "Epoch 15/100:  45%|████████████████████▋                         | 902/2000 [00:54<01:06, 16.54it/s]"
     ]
    },
    {
     "name": "stdout",
     "output_type": "stream",
     "text": [
      "[Epoch 15 | Step 900/2000] Loss: 1.3867\n"
     ]
    },
    {
     "name": "stderr",
     "output_type": "stream",
     "text": [
      "Epoch 15/100:  50%|██████████████████████▌                      | 1002/2000 [01:00<01:01, 16.17it/s]"
     ]
    },
    {
     "name": "stdout",
     "output_type": "stream",
     "text": [
      "[Epoch 15 | Step 1000/2000] Loss: 1.3867\n"
     ]
    },
    {
     "name": "stderr",
     "output_type": "stream",
     "text": [
      "Epoch 15/100:  55%|████████████████████████▊                    | 1102/2000 [01:06<00:55, 16.31it/s]"
     ]
    },
    {
     "name": "stdout",
     "output_type": "stream",
     "text": [
      "[Epoch 15 | Step 1100/2000] Loss: 1.3867\n"
     ]
    },
    {
     "name": "stderr",
     "output_type": "stream",
     "text": [
      "Epoch 15/100:  60%|███████████████████████████                  | 1202/2000 [01:12<00:48, 16.31it/s]"
     ]
    },
    {
     "name": "stdout",
     "output_type": "stream",
     "text": [
      "[Epoch 15 | Step 1200/2000] Loss: 1.3867\n"
     ]
    },
    {
     "name": "stderr",
     "output_type": "stream",
     "text": [
      "Epoch 15/100:  65%|█████████████████████████████▎               | 1302/2000 [01:18<00:42, 16.58it/s]"
     ]
    },
    {
     "name": "stdout",
     "output_type": "stream",
     "text": [
      "[Epoch 15 | Step 1300/2000] Loss: 1.3867\n"
     ]
    },
    {
     "name": "stderr",
     "output_type": "stream",
     "text": [
      "Epoch 15/100:  70%|███████████████████████████████▌             | 1402/2000 [01:25<00:36, 16.34it/s]"
     ]
    },
    {
     "name": "stdout",
     "output_type": "stream",
     "text": [
      "[Epoch 15 | Step 1400/2000] Loss: 1.3867\n"
     ]
    },
    {
     "name": "stderr",
     "output_type": "stream",
     "text": [
      "Epoch 15/100:  75%|█████████████████████████████████▊           | 1502/2000 [01:31<00:30, 16.15it/s]"
     ]
    },
    {
     "name": "stdout",
     "output_type": "stream",
     "text": [
      "[Epoch 15 | Step 1500/2000] Loss: 1.3867\n"
     ]
    },
    {
     "name": "stderr",
     "output_type": "stream",
     "text": [
      "Epoch 15/100:  80%|████████████████████████████████████         | 1602/2000 [01:37<00:24, 16.46it/s]"
     ]
    },
    {
     "name": "stdout",
     "output_type": "stream",
     "text": [
      "[Epoch 15 | Step 1600/2000] Loss: 1.3867\n"
     ]
    },
    {
     "name": "stderr",
     "output_type": "stream",
     "text": [
      "Epoch 15/100:  85%|██████████████████████████████████████▎      | 1702/2000 [01:43<00:18, 16.06it/s]"
     ]
    },
    {
     "name": "stdout",
     "output_type": "stream",
     "text": [
      "[Epoch 15 | Step 1700/2000] Loss: 1.3867\n"
     ]
    },
    {
     "name": "stderr",
     "output_type": "stream",
     "text": [
      "Epoch 15/100:  90%|████████████████████████████████████████▌    | 1802/2000 [01:49<00:12, 15.96it/s]"
     ]
    },
    {
     "name": "stdout",
     "output_type": "stream",
     "text": [
      "[Epoch 15 | Step 1800/2000] Loss: 1.3867\n"
     ]
    },
    {
     "name": "stderr",
     "output_type": "stream",
     "text": [
      "Epoch 15/100:  95%|██████████████████████████████████████████▊  | 1902/2000 [01:55<00:05, 16.40it/s]"
     ]
    },
    {
     "name": "stdout",
     "output_type": "stream",
     "text": [
      "[Epoch 15 | Step 1900/2000] Loss: 1.3867\n"
     ]
    },
    {
     "name": "stderr",
     "output_type": "stream",
     "text": [
      "                                                                                                    "
     ]
    },
    {
     "name": "stdout",
     "output_type": "stream",
     "text": [
      "[Epoch 15 | Step 2000/2000] Loss: 1.3867\n",
      "\n",
      "[Epoch 15/100] Time: 121.8s | AvgTrainLoss: 1.3867\n",
      "[Validation] ValLoss: 1.3867\n",
      "Patience counter: 14/15\n"
     ]
    },
    {
     "name": "stderr",
     "output_type": "stream",
     "text": [
      "Epoch 16/100:   5%|██▎                                           | 102/2000 [00:06<01:55, 16.38it/s]"
     ]
    },
    {
     "name": "stdout",
     "output_type": "stream",
     "text": [
      "[Epoch 16 | Step 100/2000] Loss: 1.3867\n"
     ]
    },
    {
     "name": "stderr",
     "output_type": "stream",
     "text": [
      "Epoch 16/100:  10%|████▋                                         | 202/2000 [00:12<01:50, 16.25it/s]"
     ]
    },
    {
     "name": "stdout",
     "output_type": "stream",
     "text": [
      "[Epoch 16 | Step 200/2000] Loss: 1.3867\n"
     ]
    },
    {
     "name": "stderr",
     "output_type": "stream",
     "text": [
      "Epoch 16/100:  15%|██████▉                                       | 302/2000 [00:18<01:44, 16.27it/s]"
     ]
    },
    {
     "name": "stdout",
     "output_type": "stream",
     "text": [
      "[Epoch 16 | Step 300/2000] Loss: 1.3867\n"
     ]
    },
    {
     "name": "stderr",
     "output_type": "stream",
     "text": [
      "Epoch 16/100:  20%|█████████▏                                    | 402/2000 [00:24<01:39, 15.99it/s]"
     ]
    },
    {
     "name": "stdout",
     "output_type": "stream",
     "text": [
      "[Epoch 16 | Step 400/2000] Loss: 1.3867\n"
     ]
    },
    {
     "name": "stderr",
     "output_type": "stream",
     "text": [
      "Epoch 16/100:  25%|███████████▌                                  | 502/2000 [00:30<01:32, 16.15it/s]"
     ]
    },
    {
     "name": "stdout",
     "output_type": "stream",
     "text": [
      "[Epoch 16 | Step 500/2000] Loss: 1.3867\n"
     ]
    },
    {
     "name": "stderr",
     "output_type": "stream",
     "text": [
      "Epoch 16/100:  30%|█████████████▊                                | 602/2000 [00:37<01:27, 15.98it/s]"
     ]
    },
    {
     "name": "stdout",
     "output_type": "stream",
     "text": [
      "[Epoch 16 | Step 600/2000] Loss: 1.3867\n"
     ]
    },
    {
     "name": "stderr",
     "output_type": "stream",
     "text": [
      "Epoch 16/100:  35%|████████████████▏                             | 702/2000 [00:43<01:20, 16.16it/s]"
     ]
    },
    {
     "name": "stdout",
     "output_type": "stream",
     "text": [
      "[Epoch 16 | Step 700/2000] Loss: 1.3867\n"
     ]
    },
    {
     "name": "stderr",
     "output_type": "stream",
     "text": [
      "Epoch 16/100:  40%|██████████████████▍                           | 802/2000 [00:49<01:13, 16.28it/s]"
     ]
    },
    {
     "name": "stdout",
     "output_type": "stream",
     "text": [
      "[Epoch 16 | Step 800/2000] Loss: 1.3867\n"
     ]
    },
    {
     "name": "stderr",
     "output_type": "stream",
     "text": [
      "Epoch 16/100:  45%|████████████████████▋                         | 902/2000 [00:55<01:07, 16.33it/s]"
     ]
    },
    {
     "name": "stdout",
     "output_type": "stream",
     "text": [
      "[Epoch 16 | Step 900/2000] Loss: 1.3867\n"
     ]
    },
    {
     "name": "stderr",
     "output_type": "stream",
     "text": [
      "Epoch 16/100:  50%|██████████████████████▌                      | 1002/2000 [01:01<01:03, 15.83it/s]"
     ]
    },
    {
     "name": "stdout",
     "output_type": "stream",
     "text": [
      "[Epoch 16 | Step 1000/2000] Loss: 1.3867\n"
     ]
    },
    {
     "name": "stderr",
     "output_type": "stream",
     "text": [
      "Epoch 16/100:  55%|████████████████████████▊                    | 1102/2000 [01:07<00:54, 16.61it/s]"
     ]
    },
    {
     "name": "stdout",
     "output_type": "stream",
     "text": [
      "[Epoch 16 | Step 1100/2000] Loss: 1.3867\n"
     ]
    },
    {
     "name": "stderr",
     "output_type": "stream",
     "text": [
      "Epoch 16/100:  60%|███████████████████████████                  | 1202/2000 [01:14<00:49, 16.25it/s]"
     ]
    },
    {
     "name": "stdout",
     "output_type": "stream",
     "text": [
      "[Epoch 16 | Step 1200/2000] Loss: 1.3867\n"
     ]
    },
    {
     "name": "stderr",
     "output_type": "stream",
     "text": [
      "Epoch 16/100:  65%|█████████████████████████████▎               | 1302/2000 [01:20<00:42, 16.34it/s]"
     ]
    },
    {
     "name": "stdout",
     "output_type": "stream",
     "text": [
      "[Epoch 16 | Step 1300/2000] Loss: 1.3867\n"
     ]
    },
    {
     "name": "stderr",
     "output_type": "stream",
     "text": [
      "Epoch 16/100:  70%|███████████████████████████████▌             | 1402/2000 [01:26<00:37, 16.08it/s]"
     ]
    },
    {
     "name": "stdout",
     "output_type": "stream",
     "text": [
      "[Epoch 16 | Step 1400/2000] Loss: 1.3867\n"
     ]
    },
    {
     "name": "stderr",
     "output_type": "stream",
     "text": [
      "Epoch 16/100:  75%|█████████████████████████████████▊           | 1502/2000 [01:32<00:30, 16.41it/s]"
     ]
    },
    {
     "name": "stdout",
     "output_type": "stream",
     "text": [
      "[Epoch 16 | Step 1500/2000] Loss: 1.3867\n"
     ]
    },
    {
     "name": "stderr",
     "output_type": "stream",
     "text": [
      "Epoch 16/100:  80%|████████████████████████████████████         | 1602/2000 [01:38<00:24, 16.32it/s]"
     ]
    },
    {
     "name": "stdout",
     "output_type": "stream",
     "text": [
      "[Epoch 16 | Step 1600/2000] Loss: 1.3867\n"
     ]
    },
    {
     "name": "stderr",
     "output_type": "stream",
     "text": [
      "Epoch 16/100:  85%|██████████████████████████████████████▎      | 1702/2000 [01:44<00:18, 16.40it/s]"
     ]
    },
    {
     "name": "stdout",
     "output_type": "stream",
     "text": [
      "[Epoch 16 | Step 1700/2000] Loss: 1.3867\n"
     ]
    },
    {
     "name": "stderr",
     "output_type": "stream",
     "text": [
      "Epoch 16/100:  90%|████████████████████████████████████████▌    | 1802/2000 [01:50<00:11, 16.55it/s]"
     ]
    },
    {
     "name": "stdout",
     "output_type": "stream",
     "text": [
      "[Epoch 16 | Step 1800/2000] Loss: 1.3867\n"
     ]
    },
    {
     "name": "stderr",
     "output_type": "stream",
     "text": [
      "Epoch 16/100:  95%|██████████████████████████████████████████▊  | 1902/2000 [01:56<00:05, 16.45it/s]"
     ]
    },
    {
     "name": "stdout",
     "output_type": "stream",
     "text": [
      "[Epoch 16 | Step 1900/2000] Loss: 1.3867\n"
     ]
    },
    {
     "name": "stderr",
     "output_type": "stream",
     "text": [
      "                                                                                                    "
     ]
    },
    {
     "name": "stdout",
     "output_type": "stream",
     "text": [
      "[Epoch 16 | Step 2000/2000] Loss: 1.3867\n",
      "\n",
      "[Epoch 16/100] Time: 122.8s | AvgTrainLoss: 1.3867\n",
      "[Validation] ValLoss: 1.3867\n",
      "Patience counter: 15/15\n",
      ">>> Early stopping triggered after validation.\n"
     ]
    }
   ],
   "source": [
    "from time import perf_counter\n",
    "from tqdm import tqdm\n",
    "from tqdm import trange\n",
    "from torch.cuda.amp import autocast\n",
    "train_loop(\n",
    "    loader=train_loader,\n",
    "    val_loader=val_loader,\n",
    "    epochs=100,\n",
    "    steps_per_epoch=2000,   \n",
    "    patience=15,\n",
    "    log_every=100\n",
    ")\n"
   ]
  },
  {
   "cell_type": "code",
   "execution_count": 29,
   "id": "dd454775-8640-4ece-8295-62de7be93f75",
   "metadata": {},
   "outputs": [
    {
     "name": "stdout",
     "output_type": "stream",
     "text": [
      "sm_50 sm_60 sm_61 sm_70 sm_75 sm_80 sm_86 sm_90 sm_100 sm_120\n"
     ]
    }
   ],
   "source": [
    "print(torch._C._cuda_getArchFlags())\n"
   ]
  },
  {
   "cell_type": "markdown",
   "id": "5fff24fe-d443-4626-93e5-060da27e3c54",
   "metadata": {},
   "source": [
    "### Sanity check: same vs different speaker cosine & embedding helper"
   ]
  },
  {
   "cell_type": "code",
   "execution_count": 33,
   "id": "7ed6ed27-f927-4453-87af-73a486d9d25a",
   "metadata": {},
   "outputs": [
    {
     "name": "stdout",
     "output_type": "stream",
     "text": [
      "Cosine same-speaker ~ 1.000 | Cosine diff-speaker ~ 1.000 (higher same is good)\n"
     ]
    }
   ],
   "source": [
    "import torch.nn.functional as F\n",
    "\n",
    "encoder.eval()\n",
    "with torch.no_grad():\n",
    "    batch = next(iter(loader)).squeeze(0).to(DEVICE)  # [N, M, T, F]\n",
    "    N, M, T, mel_dim = batch.shape  # Rename F to avoid conflict\n",
    "    emb = encoder(batch.view(N*M, T, mel_dim)).view(N, M, -1)  # [N, M, D]\n",
    "\n",
    "# same vs different similarity\n",
    "same = F.cosine_similarity(emb[0,0], emb[0,1], dim=-1).item() if M>1 else float('nan')\n",
    "diff = F.cosine_similarity(emb[0,0], emb[1,0], dim=-1).item() if N>1 else float('nan')\n",
    "print(f\"Cosine same-speaker ~ {same:.3f} | Cosine diff-speaker ~ {diff:.3f} (higher same is good)\")\n",
    "\n",
    "# embedding inference helper\n",
    "def load_encoder_ckpt(ckpt_path: Path, device=DEVICE):\n",
    "    ck = torch.load(ckpt_path, map_location=device)\n",
    "    model = SpeakerEncoder(mel_dim=MEL_DIM, embed_dim=EMBED_DIM).to(device)\n",
    "    model.load_state_dict(ck[\"encoder_state\"])\n",
    "    model.eval()\n",
    "    return model\n",
    "\n",
    "@torch.no_grad()\n",
    "def embed_mel_np(model: SpeakerEncoder, mel_np: np.ndarray):\n",
    "    \"\"\"\n",
    "    mel_np: [T, F]\n",
    "    returns embedding: [D] numpy\n",
    "    \"\"\"\n",
    "    T = mel_np.shape[0]\n",
    "    if T >= SEGMENT_FRAMES:\n",
    "        start = 0  # use start; or you may average embeddings over multiple crops\n",
    "        seg = mel_np[start:start + SEGMENT_FRAMES]\n",
    "    else:\n",
    "        seg = np.pad(mel_np, ((0, SEGMENT_FRAMES - T), (0,0)))\n",
    "    x = torch.from_numpy(seg.astype(np.float32)).unsqueeze(0).to(DEVICE)  # [1, T, mel_dim]\n",
    "    e = model(x).squeeze(0).cpu().numpy()\n",
    "    return e"
   ]
  },
  {
   "cell_type": "code",
   "execution_count": 34,
   "id": "e9511b2f-96ac-47a6-a7ac-26b897583e13",
   "metadata": {},
   "outputs": [
    {
     "name": "stdout",
     "output_type": "stream",
     "text": [
      "Batch shape: torch.Size([4, 5, 160, 80])\n",
      "Batch range: -80.000 to 0.000\n",
      "Input to encoder shape: torch.Size([20, 160, 80])\n",
      "Conv output shape: torch.Size([20, 256, 160, 80])\n",
      "GRU input shape: torch.Size([20, 160, 20480])\n",
      "GRU output shape: torch.Size([20, 160, 768]), Hidden state shape: torch.Size([1, 20, 768])\n",
      "Final embedding shape: torch.Size([4, 5, 256])\n",
      "Embedding std: 0.062505\n",
      "All embeddings equal: True\n"
     ]
    }
   ],
   "source": [
    "# Add debugging to see what's happening\n",
    "encoder.eval()\n",
    "with torch.no_grad():\n",
    "    batch = next(iter(loader)).squeeze(0).to(DEVICE)\n",
    "    N, M, T, mel_dim = batch.shape\n",
    "    \n",
    "    print(f\"Batch shape: {batch.shape}\")\n",
    "    print(f\"Batch range: {batch.min():.3f} to {batch.max():.3f}\")\n",
    "    \n",
    "    # Test without normalization first\n",
    "    x_flat = batch.view(N*M, T, mel_dim)\n",
    "    print(f\"Input to encoder shape: {x_flat.shape}\")\n",
    "    \n",
    "    # Check intermediate outputs\n",
    "    with torch.no_grad():\n",
    "        if x_flat.dim() == 3:\n",
    "            x_flat = x_flat.unsqueeze(1)\n",
    "        \n",
    "        # Test conv layers\n",
    "        conv_out = encoder.conv(x_flat)\n",
    "        print(f\"Conv output shape: {conv_out.shape}\")\n",
    "        \n",
    "        # Test GRU\n",
    "        B, C, T_conv, F_conv = conv_out.shape\n",
    "        gru_input = conv_out.permute(0, 2, 1, 3).contiguous().view(B, T_conv, C * F_conv)\n",
    "        print(f\"GRU input shape: {gru_input.shape}\")\n",
    "        \n",
    "        gru_out, hn = encoder.gru(gru_input)\n",
    "        print(f\"GRU output shape: {gru_out.shape}, Hidden state shape: {hn.shape}\")\n",
    "        \n",
    "        # Final embedding\n",
    "        emb = encoder(x_flat).view(N, M, -1)\n",
    "        print(f\"Final embedding shape: {emb.shape}\")\n",
    "        \n",
    "        # Check if all embeddings are identical\n",
    "        print(f\"Embedding std: {emb.std():.6f}\")\n",
    "        print(f\"All embeddings equal: {torch.allclose(emb[0,0], emb[1,0])}\")\n"
   ]
  },
  {
   "cell_type": "code",
   "execution_count": 35,
   "id": "7386177d-f532-4e68-9766-355adb7c5b87",
   "metadata": {},
   "outputs": [
    {
     "name": "stdout",
     "output_type": "stream",
     "text": [
      "GRU output variation: 0.814257\n",
      "Different time steps in GRU output: True\n",
      "Mean pooled variation: 0.811630\n",
      "Max pooled variation: 0.811013\n"
     ]
    }
   ],
   "source": [
    "# Test if the issue is in the hidden state extraction\n",
    "encoder.eval()\n",
    "with torch.no_grad():\n",
    "    batch = next(iter(loader)).squeeze(0).to(DEVICE)\n",
    "    N, M, T, mel_dim = batch.shape\n",
    "    x_flat = batch.view(N*M, T, mel_dim)\n",
    "    \n",
    "    if x_flat.dim() == 3:\n",
    "        x_flat = x_flat.unsqueeze(1)\n",
    "    \n",
    "    # Get GRU output (all time steps)\n",
    "    h = encoder.conv(x_flat)\n",
    "    B, C, T_conv, F_conv = h.shape\n",
    "    gru_input = h.permute(0, 2, 1, 3).contiguous().view(B, T_conv, C * F_conv)\n",
    "    gru_out, hn = encoder.gru(gru_input)  # gru_out: [B, T, 768]\n",
    "    \n",
    "    print(f\"GRU output variation: {gru_out.std():.6f}\")\n",
    "    print(f\"Different time steps in GRU output: {not torch.allclose(gru_out[:,0,:], gru_out[:,-1,:])}\")\n",
    "    \n",
    "    # Test different pooling methods\n",
    "    mean_pooled = gru_out.mean(dim=1)  # Mean over time\n",
    "    max_pooled = gru_out.max(dim=1)[0]  # Max over time\n",
    "    \n",
    "    print(f\"Mean pooled variation: {mean_pooled.std():.6f}\")\n",
    "    print(f\"Max pooled variation: {max_pooled.std():.6f}\")"
   ]
  },
  {
   "cell_type": "code",
   "execution_count": 37,
   "id": "b203b728-043e-4259-a96f-55ab6b036a8a",
   "metadata": {},
   "outputs": [],
   "source": [
    "class SpeakerEncoderEnhanced(nn.Module):\n",
    "    def __init__(self, mel_dim=80, embed_dim=256):\n",
    "        super().__init__()\n",
    "        self.conv = nn.Sequential(\n",
    "            nn.Conv2d(1, 64, kernel_size=(5,5), padding=(2,2)),\n",
    "            nn.BatchNorm2d(64),\n",
    "            nn.ReLU(),\n",
    "            nn.Conv2d(64, 128, kernel_size=(5,5), padding=(2,2)),\n",
    "            nn.BatchNorm2d(128),\n",
    "            nn.ReLU(),\n",
    "            nn.Conv2d(128, 256, kernel_size=(3,3), padding=(1,1)),\n",
    "            nn.BatchNorm2d(256),\n",
    "            nn.ReLU(),\n",
    "        )\n",
    "        \n",
    "        self.gru = nn.GRU(input_size=256 * mel_dim, hidden_size=768, batch_first=True)\n",
    "        \n",
    "        # Statistics pooling: mean + standard deviation\n",
    "        self.proj = nn.Sequential(\n",
    "            nn.Linear(768 * 2, 512),  # *2 for mean + std\n",
    "            nn.ReLU(),\n",
    "            nn.Dropout(0.1),\n",
    "            nn.Linear(512, embed_dim)\n",
    "        )\n",
    "\n",
    "    def forward(self, x):\n",
    "        if x.dim() == 3:\n",
    "            x = x.unsqueeze(1)\n",
    "        \n",
    "        # Conv layers\n",
    "        h = self.conv(x)\n",
    "        B, C, T, Fm = h.shape\n",
    "        h = h.permute(0, 2, 1, 3).contiguous().view(B, T, C * Fm)\n",
    "        \n",
    "        # GRU\n",
    "        gru_out, _ = self.gru(h)  # [B, T, 768]\n",
    "        \n",
    "        # Statistics pooling (better than just mean)\n",
    "        mean = gru_out.mean(dim=1)  # [B, 768]\n",
    "        std = gru_out.std(dim=1)    # [B, 768]\n",
    "        pooled = torch.cat([mean, std], dim=1)  # [B, 1536]\n",
    "        \n",
    "        e = self.proj(pooled)\n",
    "        e = F.normalize(e, p=2, dim=1)\n",
    "        return e"
   ]
  },
  {
   "cell_type": "code",
   "execution_count": 38,
   "id": "0824a1e8-4b4f-4ca8-97e6-3012677dff29",
   "metadata": {},
   "outputs": [
    {
     "name": "stdout",
     "output_type": "stream",
     "text": [
      "Enhanced - Same: 0.890, Different: 0.949\n"
     ]
    }
   ],
   "source": [
    "# Test enhanced version\n",
    "enhanced_encoder = SpeakerEncoderEnhanced(mel_dim=MEL_DIM, embed_dim=EMBED_DIM).to(DEVICE)\n",
    "enhanced_encoder.eval()\n",
    "\n",
    "with torch.no_grad():\n",
    "    batch = next(iter(loader)).squeeze(0).to(DEVICE)\n",
    "    N, M, T, mel_dim = batch.shape\n",
    "    emb = enhanced_encoder(batch.view(N*M, T, mel_dim)).view(N, M, -1)\n",
    "\n",
    "    same = F.cosine_similarity(emb[0,0], emb[0,1], dim=-1).item() if M>1 else float('nan')\n",
    "    diff = F.cosine_similarity(emb[0,0], emb[1,0], dim=-1).item() if N>1 else float('nan')\n",
    "    print(f\"Enhanced - Same: {same:.3f}, Different: {diff:.3f}\")"
   ]
  },
  {
   "cell_type": "code",
   "execution_count": 39,
   "id": "59157764-e30f-412d-acbc-4dadbaa27327",
   "metadata": {},
   "outputs": [
    {
     "name": "stdout",
     "output_type": "stream",
     "text": [
      "After fix - Cosine same-speaker: 1.000 | Cosine diff-speaker: 1.000\n",
      "Embeddings are different: False\n",
      "Embedding std: 0.062505\n"
     ]
    }
   ],
   "source": [
    "# Modify the forward method of your existing SpeakerEncoder\n",
    "def new_forward(self, x):\n",
    "    if x.dim() == 3:\n",
    "        x = x.unsqueeze(1)\n",
    "    \n",
    "    # Conv layers\n",
    "    h = self.conv(x)                       # [B, C, T, F]\n",
    "    B, C, T, Fm = h.shape\n",
    "    h = h.permute(0, 2, 1, 3).contiguous().view(B, T, C * Fm)\n",
    "    \n",
    "    # GRU - use all outputs instead of just hidden state\n",
    "    gru_out, _ = self.gru(h)               # [B, T, 768] - ALL time steps!\n",
    "    \n",
    "    # Use mean pooling over time dimension\n",
    "    pooled = gru_out.mean(dim=1)           # [B, 768] - average of all time steps\n",
    "    \n",
    "    e = self.proj(pooled)                  # [B, embed_dim]\n",
    "    e = F.normalize(e, p=2, dim=1)         # L2 norm\n",
    "    return e\n",
    "\n",
    "# Replace the forward method\n",
    "SpeakerEncoder.forward = new_forward\n",
    "\n",
    "# Test the fix\n",
    "encoder.eval()\n",
    "with torch.no_grad():\n",
    "    batch = next(iter(loader)).squeeze(0).to(DEVICE)\n",
    "    N, M, T, mel_dim = batch.shape\n",
    "    emb = encoder(batch.view(N*M, T, mel_dim)).view(N, M, -1)\n",
    "\n",
    "    same = F.cosine_similarity(emb[0,0], emb[0,1], dim=-1).item() if M>1 else float('nan')\n",
    "    diff = F.cosine_similarity(emb[0,0], emb[1,0], dim=-1).item() if N>1 else float('nan')\n",
    "    print(f\"After fix - Cosine same-speaker: {same:.3f} | Cosine diff-speaker: {diff:.3f}\")\n",
    "    \n",
    "    # Check if embeddings are now different\n",
    "    print(f\"Embeddings are different: {not torch.allclose(emb[0,0], emb[1,0])}\")\n",
    "    print(f\"Embedding std: {emb.std():.6f}\")"
   ]
  },
  {
   "cell_type": "code",
   "execution_count": 41,
   "id": "15a65ff0-eaeb-441b-be04-f249cf8e6160",
   "metadata": {
    "scrolled": true
   },
   "outputs": [
    {
     "name": "stdout",
     "output_type": "stream",
     "text": [
      "Enhanced encoder params (M): 50.380928\n"
     ]
    },
    {
     "name": "stderr",
     "output_type": "stream",
     "text": [
      "Epoch 1/50:  23%|███████████▌                                      | 23/100 [00:01<00:04, 16.76it/s]"
     ]
    },
    {
     "name": "stdout",
     "output_type": "stream",
     "text": [
      "[Epoch 1 | Step 20/100] Loss: 0.9084\n"
     ]
    },
    {
     "name": "stderr",
     "output_type": "stream",
     "text": [
      "Epoch 1/50:  43%|█████████████████████▌                            | 43/100 [00:02<00:03, 16.69it/s]"
     ]
    },
    {
     "name": "stdout",
     "output_type": "stream",
     "text": [
      "[Epoch 1 | Step 40/100] Loss: 0.8322\n"
     ]
    },
    {
     "name": "stderr",
     "output_type": "stream",
     "text": [
      "Epoch 1/50:  63%|███████████████████████████████▌                  | 63/100 [00:03<00:02, 16.35it/s]"
     ]
    },
    {
     "name": "stdout",
     "output_type": "stream",
     "text": [
      "[Epoch 1 | Step 60/100] Loss: 0.7316\n"
     ]
    },
    {
     "name": "stderr",
     "output_type": "stream",
     "text": [
      "Epoch 1/50:  83%|█████████████████████████████████████████▌        | 83/100 [00:05<00:01, 16.59it/s]"
     ]
    },
    {
     "name": "stdout",
     "output_type": "stream",
     "text": [
      "[Epoch 1 | Step 80/100] Loss: 0.7286\n"
     ]
    },
    {
     "name": "stderr",
     "output_type": "stream",
     "text": [
      "                                                                                                    "
     ]
    },
    {
     "name": "stdout",
     "output_type": "stream",
     "text": [
      "[Epoch 1 | Step 100/100] Loss: 0.9897\n",
      "\n",
      "[Epoch 1/50] Time: 6.2s | AvgTrainLoss: 0.9904\n",
      "[Validation] ValLoss: 0.7206\n",
      "✔ Saved best model: C:\\Users\\ADMIN\\Downloads\\SSP\\checkpoints\\encoder\\best_model.pt\n"
     ]
    },
    {
     "name": "stderr",
     "output_type": "stream",
     "text": [
      "Epoch 2/50:  22%|███████████                                       | 22/100 [00:01<00:04, 16.53it/s]"
     ]
    },
    {
     "name": "stdout",
     "output_type": "stream",
     "text": [
      "[Epoch 2 | Step 20/100] Loss: 0.5532\n"
     ]
    },
    {
     "name": "stderr",
     "output_type": "stream",
     "text": [
      "Epoch 2/50:  42%|█████████████████████                             | 42/100 [00:02<00:03, 16.17it/s]"
     ]
    },
    {
     "name": "stdout",
     "output_type": "stream",
     "text": [
      "[Epoch 2 | Step 40/100] Loss: 0.6641\n"
     ]
    },
    {
     "name": "stderr",
     "output_type": "stream",
     "text": [
      "Epoch 2/50:  62%|███████████████████████████████                   | 62/100 [00:03<00:02, 16.51it/s]"
     ]
    },
    {
     "name": "stdout",
     "output_type": "stream",
     "text": [
      "[Epoch 2 | Step 60/100] Loss: 0.3582\n"
     ]
    },
    {
     "name": "stderr",
     "output_type": "stream",
     "text": [
      "Epoch 2/50:  82%|█████████████████████████████████████████         | 82/100 [00:05<00:01, 16.86it/s]"
     ]
    },
    {
     "name": "stdout",
     "output_type": "stream",
     "text": [
      "[Epoch 2 | Step 80/100] Loss: 0.6171\n"
     ]
    },
    {
     "name": "stderr",
     "output_type": "stream",
     "text": [
      "                                                                                                    "
     ]
    },
    {
     "name": "stdout",
     "output_type": "stream",
     "text": [
      "[Epoch 2 | Step 100/100] Loss: 1.0563\n",
      "\n",
      "[Epoch 2/50] Time: 6.1s | AvgTrainLoss: 0.7375\n",
      "[Validation] ValLoss: 0.7023\n",
      "✔ Saved best model: C:\\Users\\ADMIN\\Downloads\\SSP\\checkpoints\\encoder\\best_model.pt\n"
     ]
    },
    {
     "name": "stderr",
     "output_type": "stream",
     "text": [
      "Epoch 3/50:  22%|███████████                                       | 22/100 [00:01<00:04, 16.48it/s]"
     ]
    },
    {
     "name": "stdout",
     "output_type": "stream",
     "text": [
      "[Epoch 3 | Step 20/100] Loss: 1.0408\n"
     ]
    },
    {
     "name": "stderr",
     "output_type": "stream",
     "text": [
      "Epoch 3/50:  42%|█████████████████████                             | 42/100 [00:02<00:03, 16.22it/s]"
     ]
    },
    {
     "name": "stdout",
     "output_type": "stream",
     "text": [
      "[Epoch 3 | Step 40/100] Loss: 0.2526\n"
     ]
    },
    {
     "name": "stderr",
     "output_type": "stream",
     "text": [
      "Epoch 3/50:  62%|███████████████████████████████                   | 62/100 [00:03<00:02, 16.30it/s]"
     ]
    },
    {
     "name": "stdout",
     "output_type": "stream",
     "text": [
      "[Epoch 3 | Step 60/100] Loss: 0.3772\n"
     ]
    },
    {
     "name": "stderr",
     "output_type": "stream",
     "text": [
      "Epoch 3/50:  82%|█████████████████████████████████████████         | 82/100 [00:05<00:01, 16.52it/s]"
     ]
    },
    {
     "name": "stdout",
     "output_type": "stream",
     "text": [
      "[Epoch 3 | Step 80/100] Loss: 0.5814\n"
     ]
    },
    {
     "name": "stderr",
     "output_type": "stream",
     "text": [
      "                                                                                                    "
     ]
    },
    {
     "name": "stdout",
     "output_type": "stream",
     "text": [
      "[Epoch 3 | Step 100/100] Loss: 0.5701\n",
      "\n",
      "[Epoch 3/50] Time: 6.1s | AvgTrainLoss: 0.6795\n",
      "[Validation] ValLoss: 0.6223\n",
      "✔ Saved best model: C:\\Users\\ADMIN\\Downloads\\SSP\\checkpoints\\encoder\\best_model.pt\n"
     ]
    },
    {
     "name": "stderr",
     "output_type": "stream",
     "text": [
      "Epoch 4/50:  22%|███████████                                       | 22/100 [00:01<00:04, 16.18it/s]"
     ]
    },
    {
     "name": "stdout",
     "output_type": "stream",
     "text": [
      "[Epoch 4 | Step 20/100] Loss: 0.2710\n"
     ]
    },
    {
     "name": "stderr",
     "output_type": "stream",
     "text": [
      "Epoch 4/50:  42%|█████████████████████                             | 42/100 [00:02<00:03, 16.20it/s]"
     ]
    },
    {
     "name": "stdout",
     "output_type": "stream",
     "text": [
      "[Epoch 4 | Step 40/100] Loss: 0.7648\n"
     ]
    },
    {
     "name": "stderr",
     "output_type": "stream",
     "text": [
      "Epoch 4/50:  62%|███████████████████████████████                   | 62/100 [00:03<00:02, 16.26it/s]"
     ]
    },
    {
     "name": "stdout",
     "output_type": "stream",
     "text": [
      "[Epoch 4 | Step 60/100] Loss: 0.6971\n"
     ]
    },
    {
     "name": "stderr",
     "output_type": "stream",
     "text": [
      "Epoch 4/50:  82%|█████████████████████████████████████████         | 82/100 [00:05<00:01, 16.74it/s]"
     ]
    },
    {
     "name": "stdout",
     "output_type": "stream",
     "text": [
      "[Epoch 4 | Step 80/100] Loss: 1.0239\n"
     ]
    },
    {
     "name": "stderr",
     "output_type": "stream",
     "text": [
      "                                                                                                    "
     ]
    },
    {
     "name": "stdout",
     "output_type": "stream",
     "text": [
      "[Epoch 4 | Step 100/100] Loss: 0.3204\n",
      "\n",
      "[Epoch 4/50] Time: 6.1s | AvgTrainLoss: 0.6657\n",
      "[Validation] ValLoss: 0.6208\n",
      "✔ Saved best model: C:\\Users\\ADMIN\\Downloads\\SSP\\checkpoints\\encoder\\best_model.pt\n"
     ]
    },
    {
     "name": "stderr",
     "output_type": "stream",
     "text": [
      "Epoch 5/50:  22%|███████████                                       | 22/100 [00:01<00:04, 16.47it/s]"
     ]
    },
    {
     "name": "stdout",
     "output_type": "stream",
     "text": [
      "[Epoch 5 | Step 20/100] Loss: 0.4416\n"
     ]
    },
    {
     "name": "stderr",
     "output_type": "stream",
     "text": [
      "Epoch 5/50:  42%|█████████████████████                             | 42/100 [00:02<00:03, 16.38it/s]"
     ]
    },
    {
     "name": "stdout",
     "output_type": "stream",
     "text": [
      "[Epoch 5 | Step 40/100] Loss: 0.6344\n"
     ]
    },
    {
     "name": "stderr",
     "output_type": "stream",
     "text": [
      "Epoch 5/50:  62%|███████████████████████████████                   | 62/100 [00:03<00:02, 16.56it/s]"
     ]
    },
    {
     "name": "stdout",
     "output_type": "stream",
     "text": [
      "[Epoch 5 | Step 60/100] Loss: 0.3538\n"
     ]
    },
    {
     "name": "stderr",
     "output_type": "stream",
     "text": [
      "Epoch 5/50:  82%|█████████████████████████████████████████         | 82/100 [00:05<00:01, 16.27it/s]"
     ]
    },
    {
     "name": "stdout",
     "output_type": "stream",
     "text": [
      "[Epoch 5 | Step 80/100] Loss: 0.5055\n"
     ]
    },
    {
     "name": "stderr",
     "output_type": "stream",
     "text": [
      "                                                                                                    "
     ]
    },
    {
     "name": "stdout",
     "output_type": "stream",
     "text": [
      "[Epoch 5 | Step 100/100] Loss: 0.7415\n",
      "\n",
      "[Epoch 5/50] Time: 6.1s | AvgTrainLoss: 0.6625\n",
      "[Validation] ValLoss: 0.6467\n",
      "Patience counter: 1/3\n"
     ]
    },
    {
     "name": "stderr",
     "output_type": "stream",
     "text": [
      "Epoch 6/50:  22%|███████████                                       | 22/100 [00:01<00:04, 16.94it/s]"
     ]
    },
    {
     "name": "stdout",
     "output_type": "stream",
     "text": [
      "[Epoch 6 | Step 20/100] Loss: 0.6107\n"
     ]
    },
    {
     "name": "stderr",
     "output_type": "stream",
     "text": [
      "Epoch 6/50:  42%|█████████████████████                             | 42/100 [00:02<00:03, 16.28it/s]"
     ]
    },
    {
     "name": "stdout",
     "output_type": "stream",
     "text": [
      "[Epoch 6 | Step 40/100] Loss: 0.8946\n"
     ]
    },
    {
     "name": "stderr",
     "output_type": "stream",
     "text": [
      "Epoch 6/50:  62%|███████████████████████████████                   | 62/100 [00:03<00:02, 16.41it/s]"
     ]
    },
    {
     "name": "stdout",
     "output_type": "stream",
     "text": [
      "[Epoch 6 | Step 60/100] Loss: 0.2450\n"
     ]
    },
    {
     "name": "stderr",
     "output_type": "stream",
     "text": [
      "Epoch 6/50:  82%|█████████████████████████████████████████         | 82/100 [00:04<00:01, 16.79it/s]"
     ]
    },
    {
     "name": "stdout",
     "output_type": "stream",
     "text": [
      "[Epoch 6 | Step 80/100] Loss: 0.4524\n"
     ]
    },
    {
     "name": "stderr",
     "output_type": "stream",
     "text": [
      "                                                                                                    "
     ]
    },
    {
     "name": "stdout",
     "output_type": "stream",
     "text": [
      "[Epoch 6 | Step 100/100] Loss: 1.0216\n",
      "\n",
      "[Epoch 6/50] Time: 6.1s | AvgTrainLoss: 0.5976\n",
      "[Validation] ValLoss: 0.6483\n",
      "Patience counter: 2/3\n"
     ]
    },
    {
     "name": "stderr",
     "output_type": "stream",
     "text": [
      "Epoch 7/50:  22%|███████████                                       | 22/100 [00:01<00:04, 16.76it/s]"
     ]
    },
    {
     "name": "stdout",
     "output_type": "stream",
     "text": [
      "[Epoch 7 | Step 20/100] Loss: 0.1452\n"
     ]
    },
    {
     "name": "stderr",
     "output_type": "stream",
     "text": [
      "Epoch 7/50:  42%|█████████████████████                             | 42/100 [00:02<00:03, 16.51it/s]"
     ]
    },
    {
     "name": "stdout",
     "output_type": "stream",
     "text": [
      "[Epoch 7 | Step 40/100] Loss: 0.4004\n"
     ]
    },
    {
     "name": "stderr",
     "output_type": "stream",
     "text": [
      "Epoch 7/50:  62%|███████████████████████████████                   | 62/100 [00:03<00:02, 16.27it/s]"
     ]
    },
    {
     "name": "stdout",
     "output_type": "stream",
     "text": [
      "[Epoch 7 | Step 60/100] Loss: 0.3994\n"
     ]
    },
    {
     "name": "stderr",
     "output_type": "stream",
     "text": [
      "Epoch 7/50:  82%|█████████████████████████████████████████         | 82/100 [00:05<00:01, 16.36it/s]"
     ]
    },
    {
     "name": "stdout",
     "output_type": "stream",
     "text": [
      "[Epoch 7 | Step 80/100] Loss: 0.6226\n"
     ]
    },
    {
     "name": "stderr",
     "output_type": "stream",
     "text": [
      "                                                                                                    "
     ]
    },
    {
     "name": "stdout",
     "output_type": "stream",
     "text": [
      "[Epoch 7 | Step 100/100] Loss: 0.2555\n",
      "\n",
      "[Epoch 7/50] Time: 6.1s | AvgTrainLoss: 0.6039\n",
      "[Validation] ValLoss: 0.6352\n",
      "Patience counter: 3/3\n",
      ">>> Early stopping triggered after validation.\n"
     ]
    }
   ],
   "source": [
    "# encoder with the enhanced version\n",
    "encoder = SpeakerEncoderEnhanced(mel_dim=MEL_DIM, embed_dim=EMBED_DIM).to(DEVICE)\n",
    "criterion = GE2ELoss().to(DEVICE)\n",
    "optimizer = torch.optim.Adam(list(encoder.parameters()) + list(criterion.parameters()), lr=LR)\n",
    "\n",
    "print(\"Enhanced encoder params (M):\", sum(p.numel() for p in encoder.parameters()) / 1e6)\n",
    "\n",
    "# Train with the enhanced model\n",
    "train_loop(\n",
    "    loader=train_loader,\n",
    "    val_loader=val_loader,\n",
    "    epochs=50,  # Start with a few epochs\n",
    "    steps_per_epoch=100,\n",
    "    patience=3,\n",
    "    log_every=20\n",
    ")"
   ]
  },
  {
   "cell_type": "code",
   "execution_count": 42,
   "id": "9cd4f617-9fff-4765-84e8-fe39bbb704ce",
   "metadata": {},
   "outputs": [
    {
     "name": "stdout",
     "output_type": "stream",
     "text": [
      "Enhanced - Same: 0.969, Different: 0.971\n"
     ]
    }
   ],
   "source": [
    "# Test enhanced version\n",
    "enhanced_encoder = SpeakerEncoderEnhanced(mel_dim=MEL_DIM, embed_dim=EMBED_DIM).to(DEVICE)\n",
    "enhanced_encoder.eval()\n",
    "\n",
    "with torch.no_grad():\n",
    "    batch = next(iter(loader)).squeeze(0).to(DEVICE)\n",
    "    N, M, T, mel_dim = batch.shape\n",
    "    emb = enhanced_encoder(batch.view(N*M, T, mel_dim)).view(N, M, -1)\n",
    "\n",
    "    same = F.cosine_similarity(emb[0,0], emb[0,1], dim=-1).item() if M>1 else float('nan')\n",
    "    diff = F.cosine_similarity(emb[0,0], emb[1,0], dim=-1).item() if N>1 else float('nan')\n",
    "    print(f\"Enhanced - Same: {same:.3f}, Different: {diff:.3f}\")"
   ]
  },
  {
   "cell_type": "code",
   "execution_count": 43,
   "id": "f469d291-df04-40f9-a4f8-3dd59431b909",
   "metadata": {},
   "outputs": [
    {
     "name": "stdout",
     "output_type": "stream",
     "text": [
      "Batch 1: Same=0.984, Different=0.705, Diff>Same: False\n",
      "Batch 2: Same=0.734, Different=-0.038, Diff>Same: False\n",
      "Batch 3: Same=0.990, Different=0.782, Diff>Same: False\n",
      "Batch 4: Same=0.738, Different=0.140, Diff>Same: False\n",
      "Batch 5: Same=0.997, Different=0.649, Diff>Same: False\n",
      "Average: Same=0.889, Different=0.448\n"
     ]
    }
   ],
   "source": [
    "# Test multiple batches to see if pattern is consistent\n",
    "encoder.eval()\n",
    "with torch.no_grad():\n",
    "    similarities = []\n",
    "    for i in range(5):  # Test 5 different batches\n",
    "        batch = next(iter(loader)).squeeze(0).to(DEVICE)\n",
    "        N, M, T, mel_dim = batch.shape\n",
    "        emb = encoder(batch.view(N*M, T, mel_dim)).view(N, M, -1)\n",
    "        \n",
    "        if M > 1 and N > 1:\n",
    "            same = F.cosine_similarity(emb[0,0], emb[0,1], dim=-1).mean().item()\n",
    "            diff = F.cosine_similarity(emb[0,0], emb[1,0], dim=-1).mean().item()\n",
    "            similarities.append((same, diff))\n",
    "            print(f\"Batch {i+1}: Same={same:.3f}, Different={diff:.3f}, Diff>Same: {diff > same}\")\n",
    "    \n",
    "    if similarities:\n",
    "        avg_same = sum(s[0] for s in similarities) / len(similarities)\n",
    "        avg_diff = sum(s[1] for s in similarities) / len(similarities)\n",
    "        print(f\"Average: Same={avg_same:.3f}, Different={avg_diff:.3f}\")"
   ]
  },
  {
   "cell_type": "markdown",
   "id": "981591a4-dfc4-4e43-a20e-8f93f961a8ab",
   "metadata": {},
   "source": [
    "### Altering the view because of mismatch"
   ]
  },
  {
   "cell_type": "code",
   "execution_count": 48,
   "id": "a7416ef9-b526-431e-8238-d01b18d8c6d5",
   "metadata": {},
   "outputs": [
    {
     "name": "stdout",
     "output_type": "stream",
     "text": [
      "After fix - Cosine same-speaker: 0.918 | Cosine diff-speaker: 0.800\n",
      "Embeddings are different: True\n",
      "Embedding std: 0.062505\n"
     ]
    }
   ],
   "source": [
    "# Modify the forward method of your existing SpeakerEncoder\n",
    "def new_forward(self, x):\n",
    "    if x.dim() == 3:\n",
    "        x = x.unsqueeze(1)\n",
    "    \n",
    "    # Conv layers\n",
    "    h = self.conv(x)                       # [B, C, T, F]\n",
    "    B, C, T, Fm = h.shape\n",
    "    h = h.permute(0, 2, 3, 1).contiguous().view(B, T, Fm * C)\n",
    "    \n",
    "    # GRU - use all outputs instead of just hidden state\n",
    "    gru_out, _ = self.gru(h)               # [B, T, 768] - ALL time steps!\n",
    "    \n",
    "    # Use mean pooling over time dimension\n",
    "    pooled = gru_out.mean(dim=1)           # [B, 768] - average of all time steps\n",
    "    \n",
    "    e = self.proj(pooled)                  # [B, embed_dim]\n",
    "    e = F.normalize(e, p=2, dim=1)         # L2 norm\n",
    "    return e\n",
    "\n",
    "# Replace the forward method\n",
    "SpeakerEncoder.forward = new_forward\n",
    "\n",
    "# Test the fix\n",
    "encoder.eval()\n",
    "with torch.no_grad():\n",
    "    batch = next(iter(loader)).squeeze(0).to(DEVICE)\n",
    "    N, M, T, mel_dim = batch.shape\n",
    "    emb = encoder(batch.view(N*M, T, mel_dim)).view(N, M, -1)\n",
    "\n",
    "    same = F.cosine_similarity(emb[0,0], emb[0,1], dim=-1).item() if M>1 else float('nan')\n",
    "    diff = F.cosine_similarity(emb[0,0], emb[1,0], dim=-1).item() if N>1 else float('nan')\n",
    "    print(f\"After fix - Cosine same-speaker: {same:.3f} | Cosine diff-speaker: {diff:.3f}\")\n",
    "    \n",
    "    # Check if embeddings are now different\n",
    "    print(f\"Embeddings are different: {not torch.allclose(emb[0,0], emb[1,0])}\")\n",
    "    print(f\"Embedding std: {emb.std():.6f}\")"
   ]
  },
  {
   "cell_type": "code",
   "execution_count": 49,
   "id": "72988e11-d076-489f-af7c-02921767ff57",
   "metadata": {
    "scrolled": true
   },
   "outputs": [
    {
     "name": "stdout",
     "output_type": "stream",
     "text": [
      "Enhanced encoder params (M): 50.380928\n"
     ]
    },
    {
     "name": "stderr",
     "output_type": "stream",
     "text": [
      "Epoch 1/50:  22%|███████████                                       | 22/100 [00:01<00:04, 16.46it/s]"
     ]
    },
    {
     "name": "stdout",
     "output_type": "stream",
     "text": [
      "[Epoch 1 | Step 20/100] Loss: 1.3177\n"
     ]
    },
    {
     "name": "stderr",
     "output_type": "stream",
     "text": [
      "Epoch 1/50:  42%|█████████████████████                             | 42/100 [00:02<00:03, 16.71it/s]"
     ]
    },
    {
     "name": "stdout",
     "output_type": "stream",
     "text": [
      "[Epoch 1 | Step 40/100] Loss: 1.4021\n"
     ]
    },
    {
     "name": "stderr",
     "output_type": "stream",
     "text": [
      "Epoch 1/50:  62%|███████████████████████████████                   | 62/100 [00:03<00:02, 16.25it/s]"
     ]
    },
    {
     "name": "stdout",
     "output_type": "stream",
     "text": [
      "[Epoch 1 | Step 60/100] Loss: 0.7974\n"
     ]
    },
    {
     "name": "stderr",
     "output_type": "stream",
     "text": [
      "Epoch 1/50:  82%|█████████████████████████████████████████         | 82/100 [00:05<00:01, 16.13it/s]"
     ]
    },
    {
     "name": "stdout",
     "output_type": "stream",
     "text": [
      "[Epoch 1 | Step 80/100] Loss: 0.6726\n"
     ]
    },
    {
     "name": "stderr",
     "output_type": "stream",
     "text": [
      "                                                                                                    "
     ]
    },
    {
     "name": "stdout",
     "output_type": "stream",
     "text": [
      "[Epoch 1 | Step 100/100] Loss: 0.6778\n",
      "\n",
      "[Epoch 1/50] Time: 6.1s | AvgTrainLoss: 1.0900\n",
      "[Validation] ValLoss: 1.0818\n",
      "✔ Saved best model: C:\\Users\\ADMIN\\Downloads\\SSP\\checkpoints\\encoder\\best_model.pt\n"
     ]
    },
    {
     "name": "stderr",
     "output_type": "stream",
     "text": [
      "Epoch 2/50:  22%|███████████                                       | 22/100 [00:01<00:04, 16.42it/s]"
     ]
    },
    {
     "name": "stdout",
     "output_type": "stream",
     "text": [
      "[Epoch 2 | Step 20/100] Loss: 0.5839\n"
     ]
    },
    {
     "name": "stderr",
     "output_type": "stream",
     "text": [
      "Epoch 2/50:  42%|█████████████████████                             | 42/100 [00:02<00:03, 16.05it/s]"
     ]
    },
    {
     "name": "stdout",
     "output_type": "stream",
     "text": [
      "[Epoch 2 | Step 40/100] Loss: 1.1060\n"
     ]
    },
    {
     "name": "stderr",
     "output_type": "stream",
     "text": [
      "Epoch 2/50:  62%|███████████████████████████████                   | 62/100 [00:03<00:02, 16.35it/s]"
     ]
    },
    {
     "name": "stdout",
     "output_type": "stream",
     "text": [
      "[Epoch 2 | Step 60/100] Loss: 0.6804\n"
     ]
    },
    {
     "name": "stderr",
     "output_type": "stream",
     "text": [
      "Epoch 2/50:  82%|█████████████████████████████████████████         | 82/100 [00:05<00:01, 16.33it/s]"
     ]
    },
    {
     "name": "stdout",
     "output_type": "stream",
     "text": [
      "[Epoch 2 | Step 80/100] Loss: 1.0654\n"
     ]
    },
    {
     "name": "stderr",
     "output_type": "stream",
     "text": [
      "                                                                                                    "
     ]
    },
    {
     "name": "stdout",
     "output_type": "stream",
     "text": [
      "[Epoch 2 | Step 100/100] Loss: 0.4194\n",
      "\n",
      "[Epoch 2/50] Time: 6.1s | AvgTrainLoss: 0.9763\n",
      "[Validation] ValLoss: 0.9670\n",
      "✔ Saved best model: C:\\Users\\ADMIN\\Downloads\\SSP\\checkpoints\\encoder\\best_model.pt\n"
     ]
    },
    {
     "name": "stderr",
     "output_type": "stream",
     "text": [
      "Epoch 3/50:  22%|███████████                                       | 22/100 [00:01<00:04, 16.23it/s]"
     ]
    },
    {
     "name": "stdout",
     "output_type": "stream",
     "text": [
      "[Epoch 3 | Step 20/100] Loss: 0.7001\n"
     ]
    },
    {
     "name": "stderr",
     "output_type": "stream",
     "text": [
      "Epoch 3/50:  42%|█████████████████████                             | 42/100 [00:02<00:03, 16.32it/s]"
     ]
    },
    {
     "name": "stdout",
     "output_type": "stream",
     "text": [
      "[Epoch 3 | Step 40/100] Loss: 1.3380\n"
     ]
    },
    {
     "name": "stderr",
     "output_type": "stream",
     "text": [
      "Epoch 3/50:  62%|███████████████████████████████                   | 62/100 [00:03<00:02, 16.53it/s]"
     ]
    },
    {
     "name": "stdout",
     "output_type": "stream",
     "text": [
      "[Epoch 3 | Step 60/100] Loss: 1.1477\n"
     ]
    },
    {
     "name": "stderr",
     "output_type": "stream",
     "text": [
      "Epoch 3/50:  82%|█████████████████████████████████████████         | 82/100 [00:04<00:01, 16.38it/s]"
     ]
    },
    {
     "name": "stdout",
     "output_type": "stream",
     "text": [
      "[Epoch 3 | Step 80/100] Loss: 0.8951\n"
     ]
    },
    {
     "name": "stderr",
     "output_type": "stream",
     "text": [
      "                                                                                                    "
     ]
    },
    {
     "name": "stdout",
     "output_type": "stream",
     "text": [
      "[Epoch 3 | Step 100/100] Loss: 1.0236\n",
      "\n",
      "[Epoch 3/50] Time: 6.1s | AvgTrainLoss: 0.8706\n",
      "[Validation] ValLoss: 0.7217\n",
      "✔ Saved best model: C:\\Users\\ADMIN\\Downloads\\SSP\\checkpoints\\encoder\\best_model.pt\n"
     ]
    },
    {
     "name": "stderr",
     "output_type": "stream",
     "text": [
      "Epoch 4/50:  22%|███████████                                       | 22/100 [00:01<00:04, 16.18it/s]"
     ]
    },
    {
     "name": "stdout",
     "output_type": "stream",
     "text": [
      "[Epoch 4 | Step 20/100] Loss: 0.8187\n"
     ]
    },
    {
     "name": "stderr",
     "output_type": "stream",
     "text": [
      "Epoch 4/50:  42%|█████████████████████                             | 42/100 [00:02<00:03, 16.97it/s]"
     ]
    },
    {
     "name": "stdout",
     "output_type": "stream",
     "text": [
      "[Epoch 4 | Step 40/100] Loss: 1.1375\n"
     ]
    },
    {
     "name": "stderr",
     "output_type": "stream",
     "text": [
      "Epoch 4/50:  62%|███████████████████████████████                   | 62/100 [00:03<00:02, 16.94it/s]"
     ]
    },
    {
     "name": "stdout",
     "output_type": "stream",
     "text": [
      "[Epoch 4 | Step 60/100] Loss: 1.1329\n"
     ]
    },
    {
     "name": "stderr",
     "output_type": "stream",
     "text": [
      "Epoch 4/50:  82%|█████████████████████████████████████████         | 82/100 [00:05<00:01, 16.21it/s]"
     ]
    },
    {
     "name": "stdout",
     "output_type": "stream",
     "text": [
      "[Epoch 4 | Step 80/100] Loss: 0.9954\n"
     ]
    },
    {
     "name": "stderr",
     "output_type": "stream",
     "text": [
      "                                                                                                    "
     ]
    },
    {
     "name": "stdout",
     "output_type": "stream",
     "text": [
      "[Epoch 4 | Step 100/100] Loss: 0.6662\n",
      "\n",
      "[Epoch 4/50] Time: 6.1s | AvgTrainLoss: 0.8182\n",
      "[Validation] ValLoss: 0.8039\n",
      "Patience counter: 1/3\n"
     ]
    },
    {
     "name": "stderr",
     "output_type": "stream",
     "text": [
      "Epoch 5/50:  22%|███████████                                       | 22/100 [00:01<00:04, 16.76it/s]"
     ]
    },
    {
     "name": "stdout",
     "output_type": "stream",
     "text": [
      "[Epoch 5 | Step 20/100] Loss: 0.7779\n"
     ]
    },
    {
     "name": "stderr",
     "output_type": "stream",
     "text": [
      "Epoch 5/50:  42%|█████████████████████                             | 42/100 [00:02<00:03, 16.30it/s]"
     ]
    },
    {
     "name": "stdout",
     "output_type": "stream",
     "text": [
      "[Epoch 5 | Step 40/100] Loss: 0.6542\n"
     ]
    },
    {
     "name": "stderr",
     "output_type": "stream",
     "text": [
      "Epoch 5/50:  62%|███████████████████████████████                   | 62/100 [00:03<00:02, 16.40it/s]"
     ]
    },
    {
     "name": "stdout",
     "output_type": "stream",
     "text": [
      "[Epoch 5 | Step 60/100] Loss: 0.0934\n"
     ]
    },
    {
     "name": "stderr",
     "output_type": "stream",
     "text": [
      "Epoch 5/50:  82%|█████████████████████████████████████████         | 82/100 [00:05<00:01, 16.31it/s]"
     ]
    },
    {
     "name": "stdout",
     "output_type": "stream",
     "text": [
      "[Epoch 5 | Step 80/100] Loss: 0.9347\n"
     ]
    },
    {
     "name": "stderr",
     "output_type": "stream",
     "text": [
      "                                                                                                    "
     ]
    },
    {
     "name": "stdout",
     "output_type": "stream",
     "text": [
      "[Epoch 5 | Step 100/100] Loss: 0.7857\n",
      "\n",
      "[Epoch 5/50] Time: 6.1s | AvgTrainLoss: 0.8230\n",
      "[Validation] ValLoss: 0.7615\n",
      "Patience counter: 2/3\n"
     ]
    },
    {
     "name": "stderr",
     "output_type": "stream",
     "text": [
      "Epoch 6/50:  22%|███████████                                       | 22/100 [00:01<00:04, 16.25it/s]"
     ]
    },
    {
     "name": "stdout",
     "output_type": "stream",
     "text": [
      "[Epoch 6 | Step 20/100] Loss: 0.9168\n"
     ]
    },
    {
     "name": "stderr",
     "output_type": "stream",
     "text": [
      "Epoch 6/50:  42%|█████████████████████                             | 42/100 [00:02<00:03, 16.51it/s]"
     ]
    },
    {
     "name": "stdout",
     "output_type": "stream",
     "text": [
      "[Epoch 6 | Step 40/100] Loss: 0.5504\n"
     ]
    },
    {
     "name": "stderr",
     "output_type": "stream",
     "text": [
      "Epoch 6/50:  62%|███████████████████████████████                   | 62/100 [00:03<00:02, 16.36it/s]"
     ]
    },
    {
     "name": "stdout",
     "output_type": "stream",
     "text": [
      "[Epoch 6 | Step 60/100] Loss: 0.8789\n"
     ]
    },
    {
     "name": "stderr",
     "output_type": "stream",
     "text": [
      "Epoch 6/50:  82%|█████████████████████████████████████████         | 82/100 [00:04<00:01, 16.37it/s]"
     ]
    },
    {
     "name": "stdout",
     "output_type": "stream",
     "text": [
      "[Epoch 6 | Step 80/100] Loss: 0.6243\n"
     ]
    },
    {
     "name": "stderr",
     "output_type": "stream",
     "text": [
      "                                                                                                    "
     ]
    },
    {
     "name": "stdout",
     "output_type": "stream",
     "text": [
      "[Epoch 6 | Step 100/100] Loss: 0.9561\n",
      "\n",
      "[Epoch 6/50] Time: 6.1s | AvgTrainLoss: 0.7906\n",
      "[Validation] ValLoss: 0.8331\n",
      "Patience counter: 3/3\n",
      ">>> Early stopping triggered after validation.\n"
     ]
    }
   ],
   "source": [
    "# encoder with the enhanced version\n",
    "encoder = SpeakerEncoderEnhanced(mel_dim=MEL_DIM, embed_dim=EMBED_DIM).to(DEVICE)\n",
    "criterion = GE2ELoss().to(DEVICE)\n",
    "optimizer = torch.optim.Adam(list(encoder.parameters()) + list(criterion.parameters()), lr=LR)\n",
    "\n",
    "print(\"Enhanced encoder params (M):\", sum(p.numel() for p in encoder.parameters()) / 1e6)\n",
    "\n",
    "# Train with the enhanced model\n",
    "train_loop(\n",
    "    loader=train_loader,\n",
    "    val_loader=val_loader,\n",
    "    epochs=50,  # Start with a few epochs\n",
    "    steps_per_epoch=100,\n",
    "    patience=3,\n",
    "    log_every=20\n",
    ")"
   ]
  },
  {
   "cell_type": "code",
   "execution_count": 50,
   "id": "35d949d0-91fa-4de4-ac42-b389fd712e45",
   "metadata": {},
   "outputs": [
    {
     "name": "stdout",
     "output_type": "stream",
     "text": [
      "Enhanced - Same: 0.982, Different: 0.970\n"
     ]
    }
   ],
   "source": [
    "# Test enhanced version\n",
    "enhanced_encoder = SpeakerEncoderEnhanced(mel_dim=MEL_DIM, embed_dim=EMBED_DIM).to(DEVICE)\n",
    "enhanced_encoder.eval()\n",
    "\n",
    "with torch.no_grad():\n",
    "    batch = next(iter(loader)).squeeze(0).to(DEVICE)\n",
    "    N, M, T, mel_dim = batch.shape\n",
    "    emb = enhanced_encoder(batch.view(N*M, T, mel_dim)).view(N, M, -1)\n",
    "\n",
    "    same = F.cosine_similarity(emb[0,0], emb[0,1], dim=-1).item() if M>1 else float('nan')\n",
    "    diff = F.cosine_similarity(emb[0,0], emb[1,0], dim=-1).item() if N>1 else float('nan')\n",
    "    print(f\"Enhanced - Same: {same:.3f}, Different: {diff:.3f}\")"
   ]
  },
  {
   "cell_type": "code",
   "execution_count": 51,
   "id": "56a69715-82e0-4085-8f3b-700328e29b62",
   "metadata": {},
   "outputs": [
    {
     "name": "stdout",
     "output_type": "stream",
     "text": [
      "Batch 1: Same=0.992, Different=0.822, Diff>Same: False\n",
      "Batch 2: Same=0.998, Different=0.948, Diff>Same: False\n",
      "Batch 3: Same=0.993, Different=0.972, Diff>Same: False\n",
      "Batch 4: Same=0.856, Different=0.756, Diff>Same: False\n",
      "Batch 5: Same=0.982, Different=0.828, Diff>Same: False\n",
      "Average: Same=0.964, Different=0.865\n"
     ]
    }
   ],
   "source": [
    "# Test multiple batches to see if pattern is consistent\n",
    "encoder.eval()\n",
    "with torch.no_grad():\n",
    "    similarities = []\n",
    "    for i in range(5):  # Test 5 different batches\n",
    "        batch = next(iter(loader)).squeeze(0).to(DEVICE)\n",
    "        N, M, T, mel_dim = batch.shape\n",
    "        emb = encoder(batch.view(N*M, T, mel_dim)).view(N, M, -1)\n",
    "        \n",
    "        if M > 1 and N > 1:\n",
    "            same = F.cosine_similarity(emb[0,0], emb[0,1], dim=-1).mean().item()\n",
    "            diff = F.cosine_similarity(emb[0,0], emb[1,0], dim=-1).mean().item()\n",
    "            similarities.append((same, diff))\n",
    "            print(f\"Batch {i+1}: Same={same:.3f}, Different={diff:.3f}, Diff>Same: {diff > same}\")\n",
    "    \n",
    "    if similarities:\n",
    "        avg_same = sum(s[0] for s in similarities) / len(similarities)\n",
    "        avg_diff = sum(s[1] for s in similarities) / len(similarities)\n",
    "        print(f\"Average: Same={avg_same:.3f}, Different={avg_diff:.3f}\")"
   ]
  },
  {
   "cell_type": "code",
   "execution_count": 4,
   "id": "92c26204-c278-4e7d-9a52-88fb913ea5ab",
   "metadata": {},
   "outputs": [
    {
     "data": {
      "image/png": "[encoded data removed]",
      "text/plain": [
       "<Figure size 1500x1000 with 5 Axes>"
      ]
     },
     "metadata": {},
     "output_type": "display_data"
    }
   ],
   "source": [
    "import numpy as np\n",
    "import matplotlib.pyplot as plt\n",
    "from sklearn.decomposition import PCA\n",
    "\n",
    "def visualize_speaker_encoder():\n",
    "    \"\"\"Visualize speaker encoder training and results\"\"\"\n",
    "    fig, axes = plt.subplots(2, 2, figsize=(15, 10))\n",
    "\n",
    "    # 1. Show batch structure\n",
    "    axes[0,0].text(0.5, 0.5, \"N Speakers × M Utterances\\n(4×5 in our case)\", \n",
    "                   ha='center', va='center', fontsize=14, \n",
    "                   bbox=dict(boxstyle=\"round\", fc=\"wheat\"))\n",
    "    axes[0,0].set_title(\"GE2E Batch Structure\")\n",
    "    axes[0,0].axis('off')\n",
    "\n",
    "    # 2. Show embedding space concept\n",
    "    np.random.seed(42)\n",
    "    embeddings = []\n",
    "    for i in range(4):  # 4 speakers\n",
    "        center = np.random.randn(256) * 2\n",
    "        for j in range(5):  # 5 utterances per speaker\n",
    "            emb = center + np.random.randn(256) * 0.3\n",
    "            embeddings.append((emb, i))\n",
    "\n",
    "    pca = PCA(n_components=2)\n",
    "    emb_2d = pca.fit_transform([e[0] for e in embeddings])\n",
    "    colors = ['red', 'blue', 'green', 'orange']\n",
    "\n",
    "    for emb_2d_point, (_, speaker_idx) in zip(emb_2d, embeddings):\n",
    "        axes[0,1].scatter(emb_2d_point[0], emb_2d_point[1], color=colors[speaker_idx], alpha=0.7)\n",
    "\n",
    "    axes[0,1].set_title(\"Speaker Embedding Space (PCA)\")\n",
    "    axes[0,1].set_xlabel(\"PCA Component 1\")\n",
    "    axes[0,1].set_ylabel(\"PCA Component 2\")\n",
    "\n",
    "    # 3. Show similarity matrix concept\n",
    "    similarity = np.zeros((20, 20))\n",
    "    for i in range(20):\n",
    "        for j in range(20):\n",
    "            speaker_i = i // 5\n",
    "            speaker_j = j // 5\n",
    "            if speaker_i == speaker_j:\n",
    "                similarity[i, j] = 0.8 + np.random.rand() * 0.2\n",
    "            else:\n",
    "                similarity[i, j] = 0.1 + np.random.rand() * 0.3\n",
    "\n",
    "    im = axes[1,0].imshow(similarity, cmap='viridis')\n",
    "    axes[1,0].set_title(\"Similarity Matrix\\n(Diagonal blocks = same speaker)\")\n",
    "    axes[1,0].set_xlabel(\"Utterance Index\")\n",
    "    axes[1,0].set_ylabel(\"Utterance Index\")\n",
    "    plt.colorbar(im, ax=axes[1,0])\n",
    "\n",
    "    # 4. Show training progress placeholder\n",
    "    axes[1,1].plot([1, 2, 3, 4, 5], [2.5, 1.8, 1.2, 0.9, 0.8], 'o-')\n",
    "    axes[1,1].set_title(\"GE2E Training Loss\")\n",
    "    axes[1,1].set_xlabel(\"Epoch\")\n",
    "    axes[1,1].set_ylabel(\"Loss\")\n",
    "    axes[1,1].grid(True)\n",
    "\n",
    "    plt.tight_layout()\n",
    "    plt.show()\n",
    "\n",
    "visualize_speaker_encoder()\n"
   ]
  },
  {
   "cell_type": "code",
   "execution_count": null,
   "id": "8769b1ad-3b2e-4ef1-b6a1-3a61dc1c8629",
   "metadata": {},
   "outputs": [],
   "source": []
  }
 ],
 "metadata": {
  "kernelspec": {
   "display_name": "Python (torch-gpu)",
   "language": "python",
   "name": "torch-gpu"
  },
  "language_info": {
   "codemirror_mode": {
    "name": "ipython",
    "version": 3
   },
   "file_extension": ".py",
   "mimetype": "text/x-python",
   "name": "python",
   "nbconvert_exporter": "python",
   "pygments_lexer": "ipython3",
   "version": "3.10.18"
  }
 },
 "nbformat": 4,
 "nbformat_minor": 5
}
