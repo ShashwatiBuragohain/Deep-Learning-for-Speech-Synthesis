{
 "cells": [
  {
   "cell_type": "code",
   "execution_count": 1,
   "id": "09850396-f75b-4bc1-b055-057d0080cb77",
   "metadata": {},
   "outputs": [],
   "source": [
    "import os\n",
    "import json\n",
    "import random\n",
    "import numpy as np\n",
    "import torch\n",
    "from pathlib import Path"
   ]
  },
  {
   "cell_type": "code",
   "execution_count": 2,
   "id": "b3ee833b-ef92-4b7d-bed2-9676acf14b7c",
   "metadata": {},
   "outputs": [
    {
     "data": {
      "text/plain": [
       "<torch._C.Generator at 0x2ccfffd4490>"
      ]
     },
     "execution_count": 2,
     "metadata": {},
     "output_type": "execute_result"
    }
   ],
   "source": [
    "# Fix seeds\n",
    "SEED = 42\n",
    "random.seed(SEED)\n",
    "np.random.seed(SEED)\n",
    "torch.manual_seed(SEED)"
   ]
  },
  {
   "cell_type": "code",
   "execution_count": 3,
   "id": "5e075086-e201-40e1-8046-8d7907761da3",
   "metadata": {},
   "outputs": [
    {
     "name": "stdout",
     "output_type": "stream",
     "text": [
      "Device: cuda\n"
     ]
    }
   ],
   "source": [
    "# Base dirs\n",
    "BASE_DIR = Path(r\"C:/Users/ADMIN/Downloads/SSP/VoiceProject/processed\")\n",
    "TRAIN_META = BASE_DIR / \"train_metadata.csv\"\n",
    "TEST_META  = BASE_DIR / \"test_metadata.csv\"\n",
    "NORM_MEL_DIR = BASE_DIR / \"normalized\"   # mel .npy files\n",
    "CHECKPOINT_DIR = BASE_DIR / \"checkpoints/hifigan\"\n",
    "CHECKPOINT_DIR.mkdir(parents=True, exist_ok=True)\n",
    "\n",
    "# Torch setup\n",
    "DEVICE = torch.device(\"cuda\" if torch.cuda.is_available() else \"cpu\")\n",
    "USE_AMP = True\n",
    "print(\"Device:\", DEVICE)"
   ]
  },
  {
   "cell_type": "code",
   "execution_count": 5,
   "id": "d74686ff-cf37-4727-8187-266ec5c4e5a5",
   "metadata": {},
   "outputs": [],
   "source": [
    "# Load config \n",
    "import json\n",
    "\n",
    "config_path = r\"C:\\Users\\ADMIN\\Downloads\\SSP\\VoiceProject\\hifi-gan\\config_v1.json\"\n",
    "\n",
    "with open(config_path, \"r\") as f:\n",
    "    config = json.load(f)\n",
    "\n",
    "SR = config[\"sampling_rate\"]\n",
    "N_MELS = config[\"num_mels\"]\n",
    "HOP_LENGTH = config[\"hop_size\"]\n",
    "WIN_LENGTH = config[\"win_size\"]\n",
    "\n",
    "# Stats for de-normalization\n",
    "MEL_MEAN = np.load(BASE_DIR / \"mel_mean.npy\")\n",
    "MEL_STD  = np.load(BASE_DIR / \"mel_std.npy\")"
   ]
  },
  {
   "cell_type": "markdown",
   "id": "162d833f-957b-4ebd-bcde-acd145b82f45",
   "metadata": {},
   "source": [
    "### Dataset"
   ]
  },
  {
   "cell_type": "code",
   "execution_count": 6,
   "id": "a367f912-275e-41c3-a368-34bcae781283",
   "metadata": {},
   "outputs": [],
   "source": [
    "import pandas as pd\n",
    "import torchaudio\n",
    "from torch.utils.data import Dataset, DataLoader\n",
    "\n",
    "def find_mel_file(utt_id: str):\n",
    "    candidates = [\n",
    "        NORM_MEL_DIR / f\"{utt_id}_mel.npy\",\n",
    "        NORM_MEL_DIR / f\"{utt_id}.npy\",\n",
    "    ]\n",
    "    for p in candidates:\n",
    "        if p.exists():\n",
    "            return p\n",
    "    return None"
   ]
  },
  {
   "cell_type": "code",
   "execution_count": 7,
   "id": "59b993a5-7a73-4e7f-9fef-bce983142849",
   "metadata": {},
   "outputs": [],
   "source": [
    "def load_mel_for_vocoder(utt_id: str):\n",
    "    p = find_mel_file(utt_id)\n",
    "    if p is None:\n",
    "        raise FileNotFoundError(f\"Mel not found for utt {utt_id}\")\n",
    "    mel = np.load(p).astype(np.float32)\n",
    "    return mel * MEL_STD + MEL_MEAN"
   ]
  },
  {
   "cell_type": "code",
   "execution_count": 8,
   "id": "62b03cd7-e3e9-4c4a-a6d9-bc2772f5611c",
   "metadata": {},
   "outputs": [],
   "source": [
    "def load_wav(path: str, sr=SR):\n",
    "    wav, orig_sr = torchaudio.load(path)\n",
    "    if wav.ndim > 1:\n",
    "        wav = wav.mean(dim=0, keepdim=True)\n",
    "    wav = wav.squeeze(0)\n",
    "    if orig_sr != sr:\n",
    "        wav = torchaudio.functional.resample(wav, orig_sr, sr)\n",
    "    return wav.numpy().astype(np.float32)\n"
   ]
  },
  {
   "cell_type": "code",
   "execution_count": 9,
   "id": "f4b15bc6-e4a8-4c76-92e2-aaf533197714",
   "metadata": {},
   "outputs": [],
   "source": [
    "class HiFiGANDataset(Dataset):\n",
    "    def __init__(self, metadata_csv, mel_dir, sr=SR):\n",
    "        self.df = pd.read_csv(metadata_csv)\n",
    "        self.mel_dir = Path(mel_dir)\n",
    "        self.sr = sr\n",
    "        rows = []\n",
    "        for _, r in self.df.iterrows():\n",
    "            utt = str(r['utt_id'])\n",
    "            if find_mel_file(utt) and Path(r['path']).exists():\n",
    "                rows.append(r)\n",
    "        self.df = pd.DataFrame(rows).reset_index(drop=True)\n",
    "        print(f\"HiFiGANDataset: {len(self.df)} examples from {metadata_csv}\")\n",
    "\n",
    "    def __len__(self):\n",
    "        return len(self.df)\n",
    "\n",
    "    def __getitem__(self, idx):\n",
    "        r = self.df.iloc[idx]\n",
    "        utt = str(r['utt_id'])\n",
    "        mel = torch.from_numpy(load_mel_for_vocoder(utt).T).float()\n",
    "        wav = torch.from_numpy(load_wav(r['path'], sr=self.sr)).float()\n",
    "        return mel, wav, utt"
   ]
  },
  {
   "cell_type": "code",
   "execution_count": 10,
   "id": "f5443aa1-cfef-40b6-a806-cc92953b66b6",
   "metadata": {},
   "outputs": [],
   "source": [
    "def hifigan_collate(batch):\n",
    "    mels, wavs, utts = zip(*batch)\n",
    "    mel_lens = [m.shape[1] for m in mels]\n",
    "    wav_lens = [w.shape[0] for w in wavs]\n",
    "\n",
    "    mel_pad = torch.zeros(len(mels), N_MELS, max(mel_lens))\n",
    "    wav_pad = torch.zeros(len(wavs), max(wav_lens))\n",
    "    for i, (m, w) in enumerate(zip(mels, wavs)):\n",
    "        mel_pad[i, :, :m.shape[1]] = m\n",
    "        wav_pad[i, :w.shape[0]] = w\n",
    "\n",
    "    return mel_pad, torch.tensor(mel_lens), wav_pad, torch.tensor(wav_lens), list(utts)\n"
   ]
  },
  {
   "cell_type": "markdown",
   "id": "0f7482a2-e8e3-4a3e-a77f-d408158e4983",
   "metadata": {},
   "source": [
    "### Import HiFi-GAN Models from Repo"
   ]
  },
  {
   "cell_type": "code",
   "execution_count": 12,
   "id": "b79b5d36-b015-4631-b9f7-aee31f276572",
   "metadata": {},
   "outputs": [],
   "source": [
    "import os\n",
    "os.chdir(r\"C:\\Users\\ADMIN\\Downloads\\SSP\\VoiceProject\\hifi-gan\")"
   ]
  },
  {
   "cell_type": "code",
   "execution_count": 13,
   "id": "66f9e27c-fdfc-4fb1-b541-057866e73c33",
   "metadata": {},
   "outputs": [],
   "source": [
    "from meldataset import mel_spectrogram\n",
    "from models import Generator, MultiPeriodDiscriminator, MultiScaleDiscriminator\n"
   ]
  },
  {
   "cell_type": "markdown",
   "id": "2bcfc6a4-f353-41e7-a2bf-1d2545e0dc05",
   "metadata": {},
   "source": [
    "### Initialize Models & Optimizers"
   ]
  },
  {
   "cell_type": "code",
   "execution_count": 15,
   "id": "8b612393-0086-41a3-b0a8-771d17eee2e2",
   "metadata": {},
   "outputs": [],
   "source": [
    "class AttrDict(dict):\n",
    "    def __init__(self, *args, **kwargs):\n",
    "        super(AttrDict, self).__init__(*args, **kwargs)\n",
    "        self.__dict__ = self"
   ]
  },
  {
   "cell_type": "code",
   "execution_count": 16,
   "id": "a7ba75c9-0d02-4a18-8e6a-c87e6fe7fa59",
   "metadata": {},
   "outputs": [],
   "source": [
    "import json\n",
    "\n",
    "with open(r\"C:\\Users\\ADMIN\\Downloads\\SSP\\VoiceProject\\hifi-gan\\config_v1.json\") as f:\n",
    "    config = AttrDict(json.load(f))"
   ]
  },
  {
   "cell_type": "code",
   "execution_count": 17,
   "id": "07668417-7ec1-499d-b999-78d4a0e0cc93",
   "metadata": {},
   "outputs": [
    {
     "name": "stderr",
     "output_type": "stream",
     "text": [
      "C:\\Users\\ADMIN\\anaconda3\\envs\\torch-gpu\\lib\\site-packages\\torch\\nn\\utils\\weight_norm.py:143: FutureWarning: `torch.nn.utils.weight_norm` is deprecated in favor of `torch.nn.utils.parametrizations.weight_norm`.\n",
      "  WeightNorm.apply(module, name, dim)\n"
     ]
    },
    {
     "name": "stdout",
     "output_type": "stream",
     "text": [
      "Generator params (M): 13.93613\n"
     ]
    },
    {
     "name": "stderr",
     "output_type": "stream",
     "text": [
      "C:\\Users\\ADMIN\\AppData\\Local\\Temp\\ipykernel_22532\\252006221.py:8: FutureWarning: `torch.cuda.amp.GradScaler(args...)` is deprecated. Please use `torch.amp.GradScaler('cuda', args...)` instead.\n",
      "  scaler = torch.cuda.amp.GradScaler(enabled=USE_AMP)\n"
     ]
    }
   ],
   "source": [
    "gen = Generator(config).to(DEVICE)\n",
    "mpd = MultiPeriodDiscriminator().to(DEVICE)\n",
    "msd = MultiScaleDiscriminator().to(DEVICE)\n",
    "\n",
    "opt_g = torch.optim.AdamW(gen.parameters(), lr=2e-4, betas=(0.8, 0.99))\n",
    "opt_d = torch.optim.AdamW(list(mpd.parameters()) + list(msd.parameters()), lr=2e-4, betas=(0.8, 0.99))\n",
    "\n",
    "scaler = torch.cuda.amp.GradScaler(enabled=USE_AMP)\n",
    "\n",
    "print(\"Generator params (M):\", sum(p.numel() for p in gen.parameters())/1e6)"
   ]
  },
  {
   "cell_type": "markdown",
   "id": "c37ddaf7-8772-446d-9fc6-2d040b834bb5",
   "metadata": {},
   "source": [
    "### DATALOADERS"
   ]
  },
  {
   "cell_type": "code",
   "execution_count": 18,
   "id": "be54f615-d0e1-4507-8e4c-465526d2f52d",
   "metadata": {},
   "outputs": [
    {
     "name": "stdout",
     "output_type": "stream",
     "text": [
      "HiFiGANDataset: 29102 examples from C:\\Users\\ADMIN\\Downloads\\SSP\\VoiceProject\\processed\\train_metadata.csv\n",
      "HiFiGANDataset: 4134 examples from C:\\Users\\ADMIN\\Downloads\\SSP\\VoiceProject\\processed\\test_metadata.csv\n"
     ]
    }
   ],
   "source": [
    "BATCH_SIZE = 4\n",
    "train_ds = HiFiGANDataset(TRAIN_META, NORM_MEL_DIR)\n",
    "val_ds   = HiFiGANDataset(TEST_META, NORM_MEL_DIR)\n",
    "\n",
    "train_loader = DataLoader(train_ds, batch_size=BATCH_SIZE, shuffle=True, collate_fn=hifigan_collate)\n",
    "val_loader   = DataLoader(val_ds, batch_size=BATCH_SIZE, shuffle=False, collate_fn=hifigan_collate)"
   ]
  },
  {
   "cell_type": "code",
   "execution_count": null,
   "id": "5583415c-866d-4471-9eae-6615a2edb155",
   "metadata": {},
   "outputs": [],
   "source": []
  }
 ],
 "metadata": {
  "kernelspec": {
   "display_name": "Python (torch-gpu)",
   "language": "python",
   "name": "torch-gpu"
  },
  "language_info": {
   "codemirror_mode": {
    "name": "ipython",
    "version": 3
   },
   "file_extension": ".py",
   "mimetype": "text/x-python",
   "name": "python",
   "nbconvert_exporter": "python",
   "pygments_lexer": "ipython3",
   "version": "3.10.18"
  }
 },
 "nbformat": 4,
 "nbformat_minor": 5
}
